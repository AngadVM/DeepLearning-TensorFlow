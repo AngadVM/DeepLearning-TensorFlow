{
  "nbformat": 4,
  "nbformat_minor": 0,
  "metadata": {
    "colab": {
      "provenance": []
    },
    "kernelspec": {
      "name": "python3",
      "display_name": "Python 3"
    },
    "language_info": {
      "name": "python"
    }
  },
  "cells": [
    {
      "cell_type": "code",
      "execution_count": null,
      "metadata": {
        "colab": {
          "base_uri": "https://localhost:8080/"
        },
        "id": "vEg8v4zoIVF0",
        "outputId": "1ce2eed7-fcf0-4196-8409-fe508826c12f"
      },
      "outputs": [
        {
          "output_type": "stream",
          "name": "stdout",
          "text": [
            "2.15.0\n"
          ]
        }
      ],
      "source": [
        "# importing TensorFlow\n",
        "import tensorflow as tf\n",
        "print(tf.__version__)"
      ]
    },
    {
      "cell_type": "code",
      "source": [
        "#creating tensor with tf.constant()\n",
        "scalar= tf.constant(7)\n",
        "scalar\n"
      ],
      "metadata": {
        "colab": {
          "base_uri": "https://localhost:8080/"
        },
        "id": "4xQ2o_XkIi_f",
        "outputId": "5cbc1569-0f92-40ad-e0a3-806d1ee52ecd"
      },
      "execution_count": null,
      "outputs": [
        {
          "output_type": "execute_result",
          "data": {
            "text/plain": [
              "<tf.Tensor: shape=(), dtype=int32, numpy=7>"
            ]
          },
          "metadata": {},
          "execution_count": 3
        }
      ]
    },
    {
      "cell_type": "code",
      "source": [
        "#check the dimensions of thwe tensor\n",
        "scalar.ndim"
      ],
      "metadata": {
        "colab": {
          "base_uri": "https://localhost:8080/"
        },
        "id": "YC9_qYh1Jr1K",
        "outputId": "9ebc97bd-da99-4e96-9054-df5dcace3d7c"
      },
      "execution_count": null,
      "outputs": [
        {
          "output_type": "execute_result",
          "data": {
            "text/plain": [
              "0"
            ]
          },
          "metadata": {},
          "execution_count": 4
        }
      ]
    },
    {
      "cell_type": "code",
      "source": [
        "#create a tensor of single dimension\n",
        "vector = tf.constant([2,4])\n",
        "vector"
      ],
      "metadata": {
        "colab": {
          "base_uri": "https://localhost:8080/"
        },
        "id": "aHf6-JC5LuNe",
        "outputId": "42fe3f1e-f415-42d3-9d4b-de90c848d805"
      },
      "execution_count": null,
      "outputs": [
        {
          "output_type": "execute_result",
          "data": {
            "text/plain": [
              "<tf.Tensor: shape=(2,), dtype=int32, numpy=array([2, 4], dtype=int32)>"
            ]
          },
          "metadata": {},
          "execution_count": 5
        }
      ]
    },
    {
      "cell_type": "code",
      "source": [
        "#creating a 2-D tensor\n",
        "matrix= tf.constant([[10,10],[2,7]])\n",
        "matrix"
      ],
      "metadata": {
        "colab": {
          "base_uri": "https://localhost:8080/"
        },
        "id": "BB6eIgH_MZEw",
        "outputId": "bc562be2-146a-41e4-e436-8bb556fd3c36"
      },
      "execution_count": null,
      "outputs": [
        {
          "output_type": "execute_result",
          "data": {
            "text/plain": [
              "<tf.Tensor: shape=(2, 2), dtype=int32, numpy=\n",
              "array([[10, 10],\n",
              "       [ 2,  7]], dtype=int32)>"
            ]
          },
          "metadata": {},
          "execution_count": 6
        }
      ]
    },
    {
      "cell_type": "code",
      "source": [
        "matrix.ndim"
      ],
      "metadata": {
        "colab": {
          "base_uri": "https://localhost:8080/"
        },
        "id": "HwexECDlMjcj",
        "outputId": "3233e59e-3c67-487a-fc0f-d342e015284d"
      },
      "execution_count": null,
      "outputs": [
        {
          "output_type": "execute_result",
          "data": {
            "text/plain": [
              "2"
            ]
          },
          "metadata": {},
          "execution_count": 7
        }
      ]
    },
    {
      "cell_type": "code",
      "source": [
        "#create another matrix with specific dtype\n",
        "another_matrix= tf.constant([[10. ,8.],\n",
        "                             [5.,6.],\n",
        "                             [8.,3.]], dtype= tf.float16)\n",
        "another_matrix"
      ],
      "metadata": {
        "colab": {
          "base_uri": "https://localhost:8080/"
        },
        "id": "FLSbENiEMuIC",
        "outputId": "94e0ddf8-83ae-4079-941d-7ecf4d70baf2"
      },
      "execution_count": null,
      "outputs": [
        {
          "output_type": "execute_result",
          "data": {
            "text/plain": [
              "<tf.Tensor: shape=(3, 2), dtype=float16, numpy=\n",
              "array([[10.,  8.],\n",
              "       [ 5.,  6.],\n",
              "       [ 8.,  3.]], dtype=float16)>"
            ]
          },
          "metadata": {},
          "execution_count": 8
        }
      ]
    },
    {
      "cell_type": "code",
      "source": [
        "another_matrix.ndim"
      ],
      "metadata": {
        "colab": {
          "base_uri": "https://localhost:8080/"
        },
        "id": "MZZFMrPANiMY",
        "outputId": "ba6683c0-2a0f-45f8-bd98-b005b1694c78"
      },
      "execution_count": null,
      "outputs": [
        {
          "output_type": "execute_result",
          "data": {
            "text/plain": [
              "2"
            ]
          },
          "metadata": {},
          "execution_count": 9
        }
      ]
    },
    {
      "cell_type": "code",
      "source": [
        "#creating a tensor\n",
        "tensor= tf.constant([[[2,9,5],\n",
        "                      [5,6,10]],\n",
        "                     [[10,4,1],\n",
        "                      [5,7,8]],\n",
        "                     [[45,6,7,],\n",
        "                      [3,4,7]]])\n",
        "tensor"
      ],
      "metadata": {
        "colab": {
          "base_uri": "https://localhost:8080/"
        },
        "id": "npSRz0i7N4ZD",
        "outputId": "590aeddf-fe1b-47ec-a0dd-696785459d5c"
      },
      "execution_count": null,
      "outputs": [
        {
          "output_type": "execute_result",
          "data": {
            "text/plain": [
              "<tf.Tensor: shape=(3, 2, 3), dtype=int32, numpy=\n",
              "array([[[ 2,  9,  5],\n",
              "        [ 5,  6, 10]],\n",
              "\n",
              "       [[10,  4,  1],\n",
              "        [ 5,  7,  8]],\n",
              "\n",
              "       [[45,  6,  7],\n",
              "        [ 3,  4,  7]]], dtype=int32)>"
            ]
          },
          "metadata": {},
          "execution_count": 10
        }
      ]
    },
    {
      "cell_type": "code",
      "source": [
        "tensor.ndim"
      ],
      "metadata": {
        "colab": {
          "base_uri": "https://localhost:8080/"
        },
        "id": "fslD4ADfPKoi",
        "outputId": "411bcfb6-adec-4743-b47a-d62d4b425d2b"
      },
      "execution_count": null,
      "outputs": [
        {
          "output_type": "execute_result",
          "data": {
            "text/plain": [
              "3"
            ]
          },
          "metadata": {},
          "execution_count": 11
        }
      ]
    },
    {
      "cell_type": "markdown",
      "source": [
        "what have we created so far:\n",
        "* scalar: a single value\n",
        "* vector: a number with directions (speed and magnitude)\n",
        "* tensor: a n-dimensional arr\n"
      ],
      "metadata": {
        "id": "SnF6AklRQCxv"
      }
    },
    {
      "cell_type": "markdown",
      "source": [
        "### Creating Tensors with tf.variable()"
      ],
      "metadata": {
        "id": "BSF9CEMGQUNb"
      }
    },
    {
      "cell_type": "code",
      "source": [
        "#creating tensors with tf.variable()\n",
        "tensor1= tf.Variable([10,7])\n",
        "tensor2=tf.constant([6,9])\n",
        "tensor1 ,tensor2"
      ],
      "metadata": {
        "colab": {
          "base_uri": "https://localhost:8080/"
        },
        "id": "QDJsuMVvQB4d",
        "outputId": "59571573-0e3b-461b-ecee-5cec5f59254f"
      },
      "execution_count": null,
      "outputs": [
        {
          "output_type": "execute_result",
          "data": {
            "text/plain": [
              "(<tf.Variable 'Variable:0' shape=(2,) dtype=int32, numpy=array([10,  7], dtype=int32)>,\n",
              " <tf.Tensor: shape=(2,), dtype=int32, numpy=array([6, 9], dtype=int32)>)"
            ]
          },
          "metadata": {},
          "execution_count": 12
        }
      ]
    },
    {
      "cell_type": "code",
      "source": [
        "#making changes to the tensors\n",
        "tensor1[0].assign(8)\n",
        "tensor1\n",
        "# tensor2[0].assign(4)"
      ],
      "metadata": {
        "colab": {
          "base_uri": "https://localhost:8080/"
        },
        "id": "4Q1Ih8PNSLAw",
        "outputId": "a69bc6ad-9720-4ecc-9c3e-7c8604f010cf"
      },
      "execution_count": null,
      "outputs": [
        {
          "output_type": "execute_result",
          "data": {
            "text/plain": [
              "<tf.Variable 'Variable:0' shape=(2,) dtype=int32, numpy=array([8, 7], dtype=int32)>"
            ]
          },
          "metadata": {},
          "execution_count": 13
        }
      ]
    },
    {
      "cell_type": "markdown",
      "source": [
        "### Creating Random Tensors\n",
        "tensors of some arbitrary size with random numbers as inputs"
      ],
      "metadata": {
        "id": "sQzevBxhTUNR"
      }
    },
    {
      "cell_type": "code",
      "source": [
        "#creating random(but the same) tensors\n",
        "\n",
        "random1= tf.random.Generator.from_seed(42)\n",
        "random1= random1.normal(shape=(3,2))\n",
        "random2= tf.random.Generator.from_seed(42)\n",
        "random2= random2.normal(shape=(3,2))\n",
        "random1, random2,  random1==random2"
      ],
      "metadata": {
        "colab": {
          "base_uri": "https://localhost:8080/"
        },
        "id": "wpAeH9LVScIH",
        "outputId": "a80db89d-7fee-44d9-a203-866d245652d6"
      },
      "execution_count": null,
      "outputs": [
        {
          "output_type": "execute_result",
          "data": {
            "text/plain": [
              "(<tf.Tensor: shape=(3, 2), dtype=float32, numpy=\n",
              " array([[-0.7565803 , -0.06854702],\n",
              "        [ 0.07595026, -1.2573844 ],\n",
              "        [-0.23193763, -1.8107855 ]], dtype=float32)>,\n",
              " <tf.Tensor: shape=(3, 2), dtype=float32, numpy=\n",
              " array([[-0.7565803 , -0.06854702],\n",
              "        [ 0.07595026, -1.2573844 ],\n",
              "        [-0.23193763, -1.8107855 ]], dtype=float32)>,\n",
              " <tf.Tensor: shape=(3, 2), dtype=bool, numpy=\n",
              " array([[ True,  True],\n",
              "        [ True,  True],\n",
              "        [ True,  True]])>)"
            ]
          },
          "metadata": {},
          "execution_count": 14
        }
      ]
    },
    {
      "cell_type": "markdown",
      "source": [
        "### Shuffle the order of elements in a tensor"
      ],
      "metadata": {
        "id": "0KvFvphRWBuH"
      }
    },
    {
      "cell_type": "code",
      "source": [
        "#shuffle a tensor\n",
        "\n",
        "not_shuffled= tf.constant([[10,7],\n",
        "                          [2,4],\n",
        "                          [5,3]])\n",
        "shuffled= tf.random.shuffle(not_shuffled)\n",
        "shuffled"
      ],
      "metadata": {
        "colab": {
          "base_uri": "https://localhost:8080/"
        },
        "id": "fTf_RCoBV_yr",
        "outputId": "2bc14b48-7203-46e6-cf61-05f702423e7c"
      },
      "execution_count": null,
      "outputs": [
        {
          "output_type": "execute_result",
          "data": {
            "text/plain": [
              "<tf.Tensor: shape=(3, 2), dtype=int32, numpy=\n",
              "array([[ 2,  4],\n",
              "       [ 5,  3],\n",
              "       [10,  7]], dtype=int32)>"
            ]
          },
          "metadata": {},
          "execution_count": 15
        }
      ]
    },
    {
      "cell_type": "code",
      "source": [
        "not_shuffled"
      ],
      "metadata": {
        "colab": {
          "base_uri": "https://localhost:8080/"
        },
        "id": "EC3YCL2KXH5_",
        "outputId": "5e080755-3cc7-46eb-eddc-6b7bd2595107"
      },
      "execution_count": null,
      "outputs": [
        {
          "output_type": "execute_result",
          "data": {
            "text/plain": [
              "<tf.Tensor: shape=(3, 2), dtype=int32, numpy=\n",
              "array([[10,  7],\n",
              "       [ 2,  4],\n",
              "       [ 5,  3]], dtype=int32)>"
            ]
          },
          "metadata": {},
          "execution_count": 16
        }
      ]
    },
    {
      "cell_type": "code",
      "source": [
        "tf.random.set_seed(42)\n",
        "tf.random.shuffle(not_shuffled, seed= 42)"
      ],
      "metadata": {
        "colab": {
          "base_uri": "https://localhost:8080/"
        },
        "id": "MQqIxtFD32K1",
        "outputId": "63adb862-6c66-4967-aeda-09a1fe4ac9a2"
      },
      "execution_count": null,
      "outputs": [
        {
          "output_type": "execute_result",
          "data": {
            "text/plain": [
              "<tf.Tensor: shape=(3, 2), dtype=int32, numpy=\n",
              "array([[10,  7],\n",
              "       [ 2,  4],\n",
              "       [ 5,  3]], dtype=int32)>"
            ]
          },
          "metadata": {},
          "execution_count": 17
        }
      ]
    },
    {
      "cell_type": "code",
      "source": [
        "print(tf.random.uniform([1]))  # generates 'A1'\n",
        "print(tf.random.uniform([1]))  # generates 'A2'"
      ],
      "metadata": {
        "colab": {
          "base_uri": "https://localhost:8080/"
        },
        "id": "QYXcF2QnXOPD",
        "outputId": "c9c0c979-f512-46c8-944a-220383aa1c29"
      },
      "execution_count": null,
      "outputs": [
        {
          "output_type": "stream",
          "name": "stdout",
          "text": [
            "tf.Tensor([0.6645621], shape=(1,), dtype=float32)\n",
            "tf.Tensor([0.68789124], shape=(1,), dtype=float32)\n"
          ]
        }
      ]
    },
    {
      "cell_type": "code",
      "source": [
        "print(tf.random.uniform([1]))  # generates 'A3'\n",
        "print(tf.random.uniform([1]))  # generates 'A4'"
      ],
      "metadata": {
        "colab": {
          "base_uri": "https://localhost:8080/"
        },
        "id": "vngXLB28ZF_a",
        "outputId": "0216c267-e15d-4fbf-aa10-99af8f155f42"
      },
      "execution_count": null,
      "outputs": [
        {
          "output_type": "stream",
          "name": "stdout",
          "text": [
            "tf.Tensor([0.7413678], shape=(1,), dtype=float32)\n",
            "tf.Tensor([0.7402308], shape=(1,), dtype=float32)\n"
          ]
        }
      ]
    },
    {
      "cell_type": "code",
      "source": [
        "tf.random.set_seed(1234)\n",
        "print(tf.random.uniform([1]))  # generates 'A1'\n",
        "print(tf.random.uniform([1]))  # generates 'A2'"
      ],
      "metadata": {
        "colab": {
          "base_uri": "https://localhost:8080/"
        },
        "id": "BsPuBmVQZQOK",
        "outputId": "22cb9b6c-14db-488f-b2d3-725c31399765"
      },
      "execution_count": null,
      "outputs": [
        {
          "output_type": "stream",
          "name": "stdout",
          "text": [
            "tf.Tensor([0.5380393], shape=(1,), dtype=float32)\n",
            "tf.Tensor([0.3253647], shape=(1,), dtype=float32)\n"
          ]
        }
      ]
    },
    {
      "cell_type": "markdown",
      "source": [
        "### Other ways to create tensors (using NumPy)"
      ],
      "metadata": {
        "id": "W_e988Hq3CLX"
      }
    },
    {
      "cell_type": "code",
      "source": [
        "# creating tensors of all ones\n",
        "tf.ones([4,5], tf.int32)"
      ],
      "metadata": {
        "id": "gLcVyzCgZWxK",
        "colab": {
          "base_uri": "https://localhost:8080/"
        },
        "outputId": "d5a7763c-2f37-49e4-d998-6fa22ab33e06"
      },
      "execution_count": null,
      "outputs": [
        {
          "output_type": "execute_result",
          "data": {
            "text/plain": [
              "<tf.Tensor: shape=(4, 5), dtype=int32, numpy=\n",
              "array([[1, 1, 1, 1, 1],\n",
              "       [1, 1, 1, 1, 1],\n",
              "       [1, 1, 1, 1, 1],\n",
              "       [1, 1, 1, 1, 1]], dtype=int32)>"
            ]
          },
          "metadata": {},
          "execution_count": 21
        }
      ]
    },
    {
      "cell_type": "code",
      "source": [
        "# tensors of all zeroes\n",
        "tf.zeros(shape=(3, 4))"
      ],
      "metadata": {
        "colab": {
          "base_uri": "https://localhost:8080/"
        },
        "id": "OWzOQqnv5M0g",
        "outputId": "fd014773-2eaa-420d-d4ae-6367340e603c"
      },
      "execution_count": null,
      "outputs": [
        {
          "output_type": "execute_result",
          "data": {
            "text/plain": [
              "<tf.Tensor: shape=(3, 4), dtype=float32, numpy=\n",
              "array([[0., 0., 0., 0.],\n",
              "       [0., 0., 0., 0.],\n",
              "       [0., 0., 0., 0.]], dtype=float32)>"
            ]
          },
          "metadata": {},
          "execution_count": 22
        }
      ]
    },
    {
      "cell_type": "code",
      "source": [
        "#creating tensors from numpy\n",
        "import numpy as np\n",
        "numpy_A= np.arange(1,25, dtype= np.int32)\n",
        "numpy_A"
      ],
      "metadata": {
        "colab": {
          "base_uri": "https://localhost:8080/"
        },
        "id": "2_uzlPD25auM",
        "outputId": "92219c75-a5fd-4059-a064-6979ec827837"
      },
      "execution_count": null,
      "outputs": [
        {
          "output_type": "execute_result",
          "data": {
            "text/plain": [
              "array([ 1,  2,  3,  4,  5,  6,  7,  8,  9, 10, 11, 12, 13, 14, 15, 16, 17,\n",
              "       18, 19, 20, 21, 22, 23, 24], dtype=int32)"
            ]
          },
          "metadata": {},
          "execution_count": 23
        }
      ]
    },
    {
      "cell_type": "code",
      "source": [
        "tf.constant(numpy_A)"
      ],
      "metadata": {
        "colab": {
          "base_uri": "https://localhost:8080/"
        },
        "id": "mPnnayjn658c",
        "outputId": "51d55da3-3ab3-4160-81e1-bada8a7a5e2b"
      },
      "execution_count": null,
      "outputs": [
        {
          "output_type": "execute_result",
          "data": {
            "text/plain": [
              "<tf.Tensor: shape=(24,), dtype=int32, numpy=\n",
              "array([ 1,  2,  3,  4,  5,  6,  7,  8,  9, 10, 11, 12, 13, 14, 15, 16, 17,\n",
              "       18, 19, 20, 21, 22, 23, 24], dtype=int32)>"
            ]
          },
          "metadata": {},
          "execution_count": 24
        }
      ]
    },
    {
      "cell_type": "code",
      "source": [
        "A = tf.constant(numpy_A, shape=(2, 3, 4))\n",
        "B= tf.constant(numpy_A)\n",
        "A, B"
      ],
      "metadata": {
        "colab": {
          "base_uri": "https://localhost:8080/"
        },
        "id": "6QDUerDs7DN7",
        "outputId": "e9dfcb42-b670-4b24-a633-359859f2ad63"
      },
      "execution_count": null,
      "outputs": [
        {
          "output_type": "execute_result",
          "data": {
            "text/plain": [
              "(<tf.Tensor: shape=(2, 3, 4), dtype=int32, numpy=\n",
              " array([[[ 1,  2,  3,  4],\n",
              "         [ 5,  6,  7,  8],\n",
              "         [ 9, 10, 11, 12]],\n",
              " \n",
              "        [[13, 14, 15, 16],\n",
              "         [17, 18, 19, 20],\n",
              "         [21, 22, 23, 24]]], dtype=int32)>,\n",
              " <tf.Tensor: shape=(24,), dtype=int32, numpy=\n",
              " array([ 1,  2,  3,  4,  5,  6,  7,  8,  9, 10, 11, 12, 13, 14, 15, 16, 17,\n",
              "        18, 19, 20, 21, 22, 23, 24], dtype=int32)>)"
            ]
          },
          "metadata": {},
          "execution_count": 25
        }
      ]
    },
    {
      "cell_type": "code",
      "source": [
        "B.ndim, A.ndim"
      ],
      "metadata": {
        "colab": {
          "base_uri": "https://localhost:8080/"
        },
        "id": "OvwX3uFt7K6x",
        "outputId": "d2bf13f4-2334-4d6a-d636-c202444dc60e"
      },
      "execution_count": null,
      "outputs": [
        {
          "output_type": "execute_result",
          "data": {
            "text/plain": [
              "(1, 3)"
            ]
          },
          "metadata": {},
          "execution_count": 26
        }
      ]
    },
    {
      "cell_type": "markdown",
      "source": [
        "### Getting more info from tensors\n",
        "  keep in mind the following attributes:\n",
        "* shape\n",
        "* rank\n",
        "* axis or dimension\n",
        "* size\n"
      ],
      "metadata": {
        "id": "H_khLGyP8qbd"
      }
    },
    {
      "cell_type": "code",
      "source": [
        "#creating a tensor for rank = 4\n",
        "rank4_tensor= tf.zeros([2,3,4,5])\n",
        "rank4_tensor"
      ],
      "metadata": {
        "colab": {
          "base_uri": "https://localhost:8080/"
        },
        "id": "B5vvDjH68syR",
        "outputId": "8282f152-1d41-4f6f-cc76-096e262f7a37"
      },
      "execution_count": null,
      "outputs": [
        {
          "output_type": "execute_result",
          "data": {
            "text/plain": [
              "<tf.Tensor: shape=(2, 3, 4, 5), dtype=float32, numpy=\n",
              "array([[[[0., 0., 0., 0., 0.],\n",
              "         [0., 0., 0., 0., 0.],\n",
              "         [0., 0., 0., 0., 0.],\n",
              "         [0., 0., 0., 0., 0.]],\n",
              "\n",
              "        [[0., 0., 0., 0., 0.],\n",
              "         [0., 0., 0., 0., 0.],\n",
              "         [0., 0., 0., 0., 0.],\n",
              "         [0., 0., 0., 0., 0.]],\n",
              "\n",
              "        [[0., 0., 0., 0., 0.],\n",
              "         [0., 0., 0., 0., 0.],\n",
              "         [0., 0., 0., 0., 0.],\n",
              "         [0., 0., 0., 0., 0.]]],\n",
              "\n",
              "\n",
              "       [[[0., 0., 0., 0., 0.],\n",
              "         [0., 0., 0., 0., 0.],\n",
              "         [0., 0., 0., 0., 0.],\n",
              "         [0., 0., 0., 0., 0.]],\n",
              "\n",
              "        [[0., 0., 0., 0., 0.],\n",
              "         [0., 0., 0., 0., 0.],\n",
              "         [0., 0., 0., 0., 0.],\n",
              "         [0., 0., 0., 0., 0.]],\n",
              "\n",
              "        [[0., 0., 0., 0., 0.],\n",
              "         [0., 0., 0., 0., 0.],\n",
              "         [0., 0., 0., 0., 0.],\n",
              "         [0., 0., 0., 0., 0.]]]], dtype=float32)>"
            ]
          },
          "metadata": {},
          "execution_count": 27
        }
      ]
    },
    {
      "cell_type": "code",
      "source": [
        "rank4_tensor[0]"
      ],
      "metadata": {
        "colab": {
          "base_uri": "https://localhost:8080/"
        },
        "id": "hC1uIjncAYof",
        "outputId": "e75588e5-1fe6-4e84-d97e-b0d9683f55b3"
      },
      "execution_count": null,
      "outputs": [
        {
          "output_type": "execute_result",
          "data": {
            "text/plain": [
              "<tf.Tensor: shape=(3, 4, 5), dtype=float32, numpy=\n",
              "array([[[0., 0., 0., 0., 0.],\n",
              "        [0., 0., 0., 0., 0.],\n",
              "        [0., 0., 0., 0., 0.],\n",
              "        [0., 0., 0., 0., 0.]],\n",
              "\n",
              "       [[0., 0., 0., 0., 0.],\n",
              "        [0., 0., 0., 0., 0.],\n",
              "        [0., 0., 0., 0., 0.],\n",
              "        [0., 0., 0., 0., 0.]],\n",
              "\n",
              "       [[0., 0., 0., 0., 0.],\n",
              "        [0., 0., 0., 0., 0.],\n",
              "        [0., 0., 0., 0., 0.],\n",
              "        [0., 0., 0., 0., 0.]]], dtype=float32)>"
            ]
          },
          "metadata": {},
          "execution_count": 28
        }
      ]
    },
    {
      "cell_type": "code",
      "source": [
        "print(\"Datatype of the tensor: \", rank4_tensor.dtype)\n",
        "print(\"Dimension (rank) of the tensor: \", rank4_tensor.ndim )\n",
        "print(\"Shape of the tensor: \", rank4_tensor.shape)\n",
        "print(\"elements along the 0 axis: \", rank4_tensor.shape[0])\n",
        "print(\"elements along the last axis: \", rank4_tensor.shape[-1])\n",
        "print(\"size of the tensor: \", tf.size(rank4_tensor).numpy())"
      ],
      "metadata": {
        "colab": {
          "base_uri": "https://localhost:8080/"
        },
        "id": "1-OM4WV0AbTw",
        "outputId": "ab63feae-d2d3-41e4-b95c-6ee19b1451d2"
      },
      "execution_count": null,
      "outputs": [
        {
          "output_type": "stream",
          "name": "stdout",
          "text": [
            "Datatype of the tensor:  <dtype: 'float32'>\n",
            "Dimension (rank) of the tensor:  4\n",
            "Shape of the tensor:  (2, 3, 4, 5)\n",
            "elements along the 0 axis:  2\n",
            "elements along the last axis:  5\n",
            "size of the tensor:  120\n"
          ]
        }
      ]
    },
    {
      "cell_type": "markdown",
      "source": [
        "### Indexing and expanding tensors"
      ],
      "metadata": {
        "id": "7pkfEQ_hE3_f"
      }
    },
    {
      "cell_type": "code",
      "source": [
        "# get first two elements of each dimension\n",
        "rank4_tensor[:2, :2, :2, :2]"
      ],
      "metadata": {
        "colab": {
          "base_uri": "https://localhost:8080/"
        },
        "id": "peU2IeqjBAFG",
        "outputId": "4b428dfc-c4c2-4370-c1ce-45cfb6294505"
      },
      "execution_count": null,
      "outputs": [
        {
          "output_type": "execute_result",
          "data": {
            "text/plain": [
              "<tf.Tensor: shape=(2, 2, 2, 2), dtype=float32, numpy=\n",
              "array([[[[0., 0.],\n",
              "         [0., 0.]],\n",
              "\n",
              "        [[0., 0.],\n",
              "         [0., 0.]]],\n",
              "\n",
              "\n",
              "       [[[0., 0.],\n",
              "         [0., 0.]],\n",
              "\n",
              "        [[0., 0.],\n",
              "         [0., 0.]]]], dtype=float32)>"
            ]
          },
          "metadata": {},
          "execution_count": 30
        }
      ]
    },
    {
      "cell_type": "code",
      "source": [
        "#get first element from each dimension for each index except for the final one\n",
        "rank4_tensor[:1, :1, :1, :]"
      ],
      "metadata": {
        "colab": {
          "base_uri": "https://localhost:8080/"
        },
        "id": "3a4rbgGqFF6o",
        "outputId": "a7069665-3058-4b5b-ab03-2c708d4ebe63"
      },
      "execution_count": null,
      "outputs": [
        {
          "output_type": "execute_result",
          "data": {
            "text/plain": [
              "<tf.Tensor: shape=(1, 1, 1, 5), dtype=float32, numpy=array([[[[0., 0., 0., 0., 0.]]]], dtype=float32)>"
            ]
          },
          "metadata": {},
          "execution_count": 31
        }
      ]
    },
    {
      "cell_type": "code",
      "source": [
        "#create a rank 2 tensor\n",
        "rank_2_tensor= tf.constant([[2, 3],\n",
        "                            [10, 7]])\n",
        "rank_2_tensor"
      ],
      "metadata": {
        "colab": {
          "base_uri": "https://localhost:8080/"
        },
        "id": "Q9Fp9aP2GBMC",
        "outputId": "f1c069be-06e6-45d3-ca8a-5e01f0ede794"
      },
      "execution_count": null,
      "outputs": [
        {
          "output_type": "execute_result",
          "data": {
            "text/plain": [
              "<tf.Tensor: shape=(2, 2), dtype=int32, numpy=\n",
              "array([[ 2,  3],\n",
              "       [10,  7]], dtype=int32)>"
            ]
          },
          "metadata": {},
          "execution_count": 32
        }
      ]
    },
    {
      "cell_type": "code",
      "source": [
        "rank_2_tensor.shape , rank_2_tensor.ndim"
      ],
      "metadata": {
        "colab": {
          "base_uri": "https://localhost:8080/"
        },
        "id": "cor44IzWF1VJ",
        "outputId": "5f9c599a-5420-40e6-afeb-3321824b2024"
      },
      "execution_count": null,
      "outputs": [
        {
          "output_type": "execute_result",
          "data": {
            "text/plain": [
              "(TensorShape([2, 2]), 2)"
            ]
          },
          "metadata": {},
          "execution_count": 33
        }
      ]
    },
    {
      "cell_type": "code",
      "source": [
        "#display the last item for each of our rank 2 tensor\n",
        "rank_2_tensor[:, -1]"
      ],
      "metadata": {
        "colab": {
          "base_uri": "https://localhost:8080/"
        },
        "id": "mmtya5bMGfZA",
        "outputId": "b5d8cf3e-c5ef-4485-fb27-bcd1df00508a"
      },
      "execution_count": null,
      "outputs": [
        {
          "output_type": "execute_result",
          "data": {
            "text/plain": [
              "<tf.Tensor: shape=(2,), dtype=int32, numpy=array([3, 7], dtype=int32)>"
            ]
          },
          "metadata": {},
          "execution_count": 34
        }
      ]
    },
    {
      "cell_type": "code",
      "source": [
        "#add extra dimension i.e expanding our tensor\n",
        "rank_3_tensor= rank_2_tensor[..., tf.newaxis]\n",
        "rank_3_tensor"
      ],
      "metadata": {
        "colab": {
          "base_uri": "https://localhost:8080/"
        },
        "id": "ZD4a1QrOGmrQ",
        "outputId": "ac01c1a8-7e21-4558-e430-0f3a39fd58b2"
      },
      "execution_count": null,
      "outputs": [
        {
          "output_type": "execute_result",
          "data": {
            "text/plain": [
              "<tf.Tensor: shape=(2, 2, 1), dtype=int32, numpy=\n",
              "array([[[ 2],\n",
              "        [ 3]],\n",
              "\n",
              "       [[10],\n",
              "        [ 7]]], dtype=int32)>"
            ]
          },
          "metadata": {},
          "execution_count": 35
        }
      ]
    },
    {
      "cell_type": "code",
      "source": [
        "#alternative method for tf.newaxis\n",
        "tf.expand_dims(rank_2_tensor, axis=-1) #adds an extra dimension at the end\n",
        "tf.expand_dims(rank_2_tensor, axis=0)  #adds extra dimension at 0 axis\n",
        "tf.expand_dims(rank_2_tensor, axis=1)  # adds extra dimension at first axis\n"
      ],
      "metadata": {
        "colab": {
          "base_uri": "https://localhost:8080/"
        },
        "id": "JHYiPbEAKHPb",
        "outputId": "c47862ce-acb9-416c-b8ea-6420c9843340"
      },
      "execution_count": null,
      "outputs": [
        {
          "output_type": "execute_result",
          "data": {
            "text/plain": [
              "<tf.Tensor: shape=(2, 1, 2), dtype=int32, numpy=\n",
              "array([[[ 2,  3]],\n",
              "\n",
              "       [[10,  7]]], dtype=int32)>"
            ]
          },
          "metadata": {},
          "execution_count": 36
        }
      ]
    },
    {
      "cell_type": "markdown",
      "source": [
        "### Manipulating Tensors (Tensor Operations)\n",
        "**Basic Operations**"
      ],
      "metadata": {
        "id": "7_hjJ-I1NzA4"
      }
    },
    {
      "cell_type": "code",
      "source": [
        "tensor= tf.constant([[10,7],\n",
        "                     [3,4]], dtype= tf.float32)\n",
        "tensor + 10"
      ],
      "metadata": {
        "colab": {
          "base_uri": "https://localhost:8080/"
        },
        "id": "f9vKY-piMFux",
        "outputId": "5ae5fdde-fc42-472d-834d-26d7bc2f3119"
      },
      "execution_count": null,
      "outputs": [
        {
          "output_type": "execute_result",
          "data": {
            "text/plain": [
              "<tf.Tensor: shape=(2, 2), dtype=float32, numpy=\n",
              "array([[20., 17.],\n",
              "       [13., 14.]], dtype=float32)>"
            ]
          },
          "metadata": {},
          "execution_count": 37
        }
      ]
    },
    {
      "cell_type": "code",
      "source": [
        "tf.multiply(tensor,3)"
      ],
      "metadata": {
        "colab": {
          "base_uri": "https://localhost:8080/"
        },
        "id": "Zr1Lw46-PFnE",
        "outputId": "1b461c89-d7db-4223-f43d-cc1609b93db5"
      },
      "execution_count": null,
      "outputs": [
        {
          "output_type": "execute_result",
          "data": {
            "text/plain": [
              "<tf.Tensor: shape=(2, 2), dtype=float32, numpy=\n",
              "array([[30., 21.],\n",
              "       [ 9., 12.]], dtype=float32)>"
            ]
          },
          "metadata": {},
          "execution_count": 38
        }
      ]
    },
    {
      "cell_type": "code",
      "source": [
        "tf.math.pow(tensor,2)"
      ],
      "metadata": {
        "colab": {
          "base_uri": "https://localhost:8080/"
        },
        "id": "eCRKE8zrPLIl",
        "outputId": "674b69c9-0f21-46c6-85da-b43fdbe719a9"
      },
      "execution_count": null,
      "outputs": [
        {
          "output_type": "execute_result",
          "data": {
            "text/plain": [
              "<tf.Tensor: shape=(2, 2), dtype=float32, numpy=\n",
              "array([[100.,  49.],\n",
              "       [  9.,  16.]], dtype=float32)>"
            ]
          },
          "metadata": {},
          "execution_count": 39
        }
      ]
    },
    {
      "cell_type": "code",
      "source": [
        "tf.math.floor(tensor,)"
      ],
      "metadata": {
        "colab": {
          "base_uri": "https://localhost:8080/"
        },
        "id": "fV2_I5oiPaPT",
        "outputId": "36dabb6b-2695-4aba-cc80-4d5be99909bf"
      },
      "execution_count": null,
      "outputs": [
        {
          "output_type": "execute_result",
          "data": {
            "text/plain": [
              "<tf.Tensor: shape=(2, 2), dtype=float32, numpy=\n",
              "array([[10.,  7.],\n",
              "       [ 3.,  4.]], dtype=float32)>"
            ]
          },
          "metadata": {},
          "execution_count": 40
        }
      ]
    },
    {
      "cell_type": "code",
      "source": [
        "tf.math.ceil(tensor)"
      ],
      "metadata": {
        "colab": {
          "base_uri": "https://localhost:8080/"
        },
        "id": "o8HMGfNjQaXi",
        "outputId": "5f2840f8-b143-4afd-c49c-6ccf61cff400"
      },
      "execution_count": null,
      "outputs": [
        {
          "output_type": "execute_result",
          "data": {
            "text/plain": [
              "<tf.Tensor: shape=(2, 2), dtype=float32, numpy=\n",
              "array([[10.,  7.],\n",
              "       [ 3.,  4.]], dtype=float32)>"
            ]
          },
          "metadata": {},
          "execution_count": 41
        }
      ]
    },
    {
      "cell_type": "markdown",
      "source": [
        "### Matrix Multiplication\n",
        "in machine learning, matrix multiplication is one of the most common operations"
      ],
      "metadata": {
        "id": "eCM3R3OgQ7iH"
      }
    },
    {
      "cell_type": "code",
      "source": [
        "#matrix multiplication\n",
        "matrix_A= tf.constant([10,1,4,5], shape=(2,2))\n",
        "matrix_B= tf.constant([5,6,7,8,10,4], shape=(2,3))\n",
        "matrix_A, matrix_B\n"
      ],
      "metadata": {
        "id": "JN67Z5TTQp0P",
        "colab": {
          "base_uri": "https://localhost:8080/"
        },
        "outputId": "708fb9e5-e85f-41e6-fe82-d7d45860ce6a"
      },
      "execution_count": null,
      "outputs": [
        {
          "output_type": "execute_result",
          "data": {
            "text/plain": [
              "(<tf.Tensor: shape=(2, 2), dtype=int32, numpy=\n",
              " array([[10,  1],\n",
              "        [ 4,  5]], dtype=int32)>,\n",
              " <tf.Tensor: shape=(2, 3), dtype=int32, numpy=\n",
              " array([[ 5,  6,  7],\n",
              "        [ 8, 10,  4]], dtype=int32)>)"
            ]
          },
          "metadata": {},
          "execution_count": 42
        }
      ]
    },
    {
      "cell_type": "code",
      "source": [
        "matrix_C= tf.linalg.matmul(matrix_A,matrix_B)\n",
        "matrix_C"
      ],
      "metadata": {
        "colab": {
          "base_uri": "https://localhost:8080/"
        },
        "id": "CDVNxmi8TDVx",
        "outputId": "4aafcc7b-e20c-4944-f6bb-7d7157463f64"
      },
      "execution_count": null,
      "outputs": [
        {
          "output_type": "execute_result",
          "data": {
            "text/plain": [
              "<tf.Tensor: shape=(2, 3), dtype=int32, numpy=\n",
              "array([[58, 70, 74],\n",
              "       [60, 74, 48]], dtype=int32)>"
            ]
          },
          "metadata": {},
          "execution_count": 43
        }
      ]
    },
    {
      "cell_type": "code",
      "source": [
        "# Matrix Multiplication wiht Python Operator '@'\n",
        "matrix_C= matrix_A @ matrix_B\n",
        "matrix_C"
      ],
      "metadata": {
        "colab": {
          "base_uri": "https://localhost:8080/"
        },
        "id": "_EWI2ZTmTL-S",
        "outputId": "371c7edb-3cbc-4ab0-c732-aa8f2b20c730"
      },
      "execution_count": null,
      "outputs": [
        {
          "output_type": "execute_result",
          "data": {
            "text/plain": [
              "<tf.Tensor: shape=(2, 3), dtype=int32, numpy=\n",
              "array([[58, 70, 74],\n",
              "       [60, 74, 48]], dtype=int32)>"
            ]
          },
          "metadata": {},
          "execution_count": 44
        }
      ]
    },
    {
      "cell_type": "code",
      "source": [
        "matrix_A.shape, matrix_B.shape, matrix_C.shape"
      ],
      "metadata": {
        "colab": {
          "base_uri": "https://localhost:8080/"
        },
        "id": "Zt53OoM-TyCI",
        "outputId": "019179c7-73c4-4a31-9cba-834a9ea3f23f"
      },
      "execution_count": null,
      "outputs": [
        {
          "output_type": "execute_result",
          "data": {
            "text/plain": [
              "(TensorShape([2, 2]), TensorShape([2, 3]), TensorShape([2, 3]))"
            ]
          },
          "metadata": {},
          "execution_count": 45
        }
      ]
    },
    {
      "cell_type": "code",
      "source": [
        "#transpose of the matrix\n",
        "matrix_A, tf.transpose(matrix_A)"
      ],
      "metadata": {
        "colab": {
          "base_uri": "https://localhost:8080/"
        },
        "id": "9KG4vQQQUNzs",
        "outputId": "d38a2e3e-d1b1-414b-ef13-20c184a734c7"
      },
      "execution_count": null,
      "outputs": [
        {
          "output_type": "execute_result",
          "data": {
            "text/plain": [
              "(<tf.Tensor: shape=(2, 2), dtype=int32, numpy=\n",
              " array([[10,  1],\n",
              "        [ 4,  5]], dtype=int32)>,\n",
              " <tf.Tensor: shape=(2, 2), dtype=int32, numpy=\n",
              " array([[10,  4],\n",
              "        [ 1,  5]], dtype=int32)>)"
            ]
          },
          "metadata": {},
          "execution_count": 46
        }
      ]
    },
    {
      "cell_type": "code",
      "source": [
        "tf.matmul(tf.transpose(matrix_A),matrix_B)"
      ],
      "metadata": {
        "colab": {
          "base_uri": "https://localhost:8080/"
        },
        "id": "axMd7C1oWbSM",
        "outputId": "5849aa10-2ba0-4655-b83b-d1bec807986d"
      },
      "execution_count": null,
      "outputs": [
        {
          "output_type": "execute_result",
          "data": {
            "text/plain": [
              "<tf.Tensor: shape=(2, 3), dtype=int32, numpy=\n",
              "array([[ 82, 100,  86],\n",
              "       [ 45,  56,  27]], dtype=int32)>"
            ]
          },
          "metadata": {},
          "execution_count": 47
        }
      ]
    },
    {
      "cell_type": "markdown",
      "source": [
        "### matrix multiplication can be performed:\n",
        "* tf.matmul()\n",
        "* tf.tensordot()"
      ],
      "metadata": {
        "id": "XIirarLjYMYD"
      }
    },
    {
      "cell_type": "code",
      "source": [
        "X= tf.constant([1,2,3,6,7,9], shape=(3,2))\n",
        "Y= tf.constant([10,4,5,7,2,3], shape=(3,2))\n",
        "X, Y"
      ],
      "metadata": {
        "colab": {
          "base_uri": "https://localhost:8080/"
        },
        "id": "IpHYMmvZXiE8",
        "outputId": "4ee2369d-0024-4e2b-84bf-66f6fc30ff73"
      },
      "execution_count": null,
      "outputs": [
        {
          "output_type": "execute_result",
          "data": {
            "text/plain": [
              "(<tf.Tensor: shape=(3, 2), dtype=int32, numpy=\n",
              " array([[1, 2],\n",
              "        [3, 6],\n",
              "        [7, 9]], dtype=int32)>,\n",
              " <tf.Tensor: shape=(3, 2), dtype=int32, numpy=\n",
              " array([[10,  4],\n",
              "        [ 5,  7],\n",
              "        [ 2,  3]], dtype=int32)>)"
            ]
          },
          "metadata": {},
          "execution_count": 48
        }
      ]
    },
    {
      "cell_type": "code",
      "source": [
        "#Performing dot product on X and Y (X or Y needs to be transposed)\n",
        "\n",
        "tf.tensordot(tf.transpose(X),Y, axes=1)"
      ],
      "metadata": {
        "colab": {
          "base_uri": "https://localhost:8080/"
        },
        "id": "K_gS61pdZDsl",
        "outputId": "aadb7ca3-73e8-43d7-e7bd-6cf2a2abb1da"
      },
      "execution_count": null,
      "outputs": [
        {
          "output_type": "execute_result",
          "data": {
            "text/plain": [
              "<tf.Tensor: shape=(2, 2), dtype=int32, numpy=\n",
              "array([[39, 46],\n",
              "       [68, 77]], dtype=int32)>"
            ]
          },
          "metadata": {},
          "execution_count": 49
        }
      ]
    },
    {
      "cell_type": "code",
      "source": [
        "#tanspose of Y\n",
        "tf.tensordot(X, tf.transpose(Y),axes=1)"
      ],
      "metadata": {
        "colab": {
          "base_uri": "https://localhost:8080/"
        },
        "id": "u8OPC-sLZKyA",
        "outputId": "3d86e164-b9b5-4ec2-e4a2-064293ea7aae"
      },
      "execution_count": null,
      "outputs": [
        {
          "output_type": "execute_result",
          "data": {
            "text/plain": [
              "<tf.Tensor: shape=(3, 3), dtype=int32, numpy=\n",
              "array([[ 18,  19,   8],\n",
              "       [ 54,  57,  24],\n",
              "       [106,  98,  41]], dtype=int32)>"
            ]
          },
          "metadata": {},
          "execution_count": 50
        }
      ]
    },
    {
      "cell_type": "code",
      "source": [
        "#reshaping Y\n",
        "tf.matmul(X, tf.reshape(Y,shape=(2,3)))"
      ],
      "metadata": {
        "colab": {
          "base_uri": "https://localhost:8080/"
        },
        "id": "w0FYqJhVZiHA",
        "outputId": "32d9f3f8-a53b-41df-d465-5f2245dfa9fb"
      },
      "execution_count": null,
      "outputs": [
        {
          "output_type": "execute_result",
          "data": {
            "text/plain": [
              "<tf.Tensor: shape=(3, 3), dtype=int32, numpy=\n",
              "array([[ 24,   8,  11],\n",
              "       [ 72,  24,  33],\n",
              "       [133,  46,  62]], dtype=int32)>"
            ]
          },
          "metadata": {},
          "execution_count": 51
        }
      ]
    },
    {
      "cell_type": "code",
      "source": [
        "print(\"original matrix Y:\")\n",
        "print(Y, \"\\n\")\n",
        "print(\"reshaped Y into (2,3):\")\n",
        "print(tf.reshape(Y, shape=(2,3)))\n",
        "print(\"\\n\")\n",
        "print(\"Transpose of Y:\")\n",
        "print(tf.transpose(Y))\n"
      ],
      "metadata": {
        "colab": {
          "base_uri": "https://localhost:8080/"
        },
        "id": "OmV7mZacZuBc",
        "outputId": "4a4b0fc5-4642-4768-8e48-78e7fcedbbbe"
      },
      "execution_count": null,
      "outputs": [
        {
          "output_type": "stream",
          "name": "stdout",
          "text": [
            "original matrix Y:\n",
            "tf.Tensor(\n",
            "[[10  4]\n",
            " [ 5  7]\n",
            " [ 2  3]], shape=(3, 2), dtype=int32) \n",
            "\n",
            "reshaped Y into (2,3):\n",
            "tf.Tensor(\n",
            "[[10  4  5]\n",
            " [ 7  2  3]], shape=(2, 3), dtype=int32)\n",
            "\n",
            "\n",
            "Transpose of Y:\n",
            "tf.Tensor(\n",
            "[[10  5  2]\n",
            " [ 4  7  3]], shape=(2, 3), dtype=int32)\n"
          ]
        }
      ]
    },
    {
      "cell_type": "code",
      "source": [
        "tf.matmul(X, tf.transpose(Y))"
      ],
      "metadata": {
        "colab": {
          "base_uri": "https://localhost:8080/"
        },
        "id": "0En6rss9LycB",
        "outputId": "01971068-7043-4ef4-f3f2-21a8a0e46912"
      },
      "execution_count": null,
      "outputs": [
        {
          "output_type": "execute_result",
          "data": {
            "text/plain": [
              "<tf.Tensor: shape=(3, 3), dtype=int32, numpy=\n",
              "array([[ 18,  19,   8],\n",
              "       [ 54,  57,  24],\n",
              "       [106,  98,  41]], dtype=int32)>"
            ]
          },
          "metadata": {},
          "execution_count": 53
        }
      ]
    },
    {
      "cell_type": "markdown",
      "source": [
        "### Changing the datatype of a tensor"
      ],
      "metadata": {
        "id": "jOkUP6EQLl6R"
      }
    },
    {
      "cell_type": "code",
      "source": [
        "# create a tensor of datatype float32\n",
        "A= tf.constant([1.7, 3.4])\n",
        "A.dtype, A"
      ],
      "metadata": {
        "id": "PNiZvDa9aw7l",
        "colab": {
          "base_uri": "https://localhost:8080/"
        },
        "outputId": "39c1569b-1254-4ef8-f985-8482036f230d"
      },
      "execution_count": null,
      "outputs": [
        {
          "output_type": "execute_result",
          "data": {
            "text/plain": [
              "(tf.float32,\n",
              " <tf.Tensor: shape=(2,), dtype=float32, numpy=array([1.7, 3.4], dtype=float32)>)"
            ]
          },
          "metadata": {},
          "execution_count": 55
        }
      ]
    },
    {
      "cell_type": "code",
      "source": [
        "#to change float32 to float16 (reduced precision)\n",
        "D = tf.cast(A, dtype= tf.float16)\n",
        "D.dtype, D"
      ],
      "metadata": {
        "colab": {
          "base_uri": "https://localhost:8080/"
        },
        "id": "j7tmX59VNbt_",
        "outputId": "f50ad2c0-10c2-42fd-acb7-88ee7ddeda92"
      },
      "execution_count": null,
      "outputs": [
        {
          "output_type": "execute_result",
          "data": {
            "text/plain": [
              "(tf.float16,\n",
              " <tf.Tensor: shape=(2,), dtype=float16, numpy=array([1.7, 3.4], dtype=float16)>)"
            ]
          },
          "metadata": {},
          "execution_count": 58
        }
      ]
    },
    {
      "cell_type": "code",
      "source": [
        "E= tf.cast(D, dtype= tf.int32)\n",
        "E.dtype, E"
      ],
      "metadata": {
        "colab": {
          "base_uri": "https://localhost:8080/"
        },
        "id": "u_yAiIjrOEj9",
        "outputId": "582c2136-76bb-4e9f-d14e-49ef7cac1a46"
      },
      "execution_count": null,
      "outputs": [
        {
          "output_type": "execute_result",
          "data": {
            "text/plain": [
              "(tf.int32,\n",
              " <tf.Tensor: shape=(2,), dtype=int32, numpy=array([1, 3], dtype=int32)>)"
            ]
          },
          "metadata": {},
          "execution_count": 60
        }
      ]
    },
    {
      "cell_type": "markdown",
      "source": [
        "### Aggregating Tensors"
      ],
      "metadata": {
        "id": "XfRBr5DEOgSw"
      }
    },
    {
      "cell_type": "code",
      "source": [
        "# getting the absolute values\n",
        "tensor= tf.constant([-9,-2])\n",
        "tf.abs(tensor)"
      ],
      "metadata": {
        "colab": {
          "base_uri": "https://localhost:8080/"
        },
        "id": "L0mqWbVnOSZE",
        "outputId": "5f1ebaae-f816-48f9-b495-739e73ad616e"
      },
      "execution_count": null,
      "outputs": [
        {
          "output_type": "execute_result",
          "data": {
            "text/plain": [
              "<tf.Tensor: shape=(2,), dtype=int32, numpy=array([9, 2], dtype=int32)>"
            ]
          },
          "metadata": {},
          "execution_count": 61
        }
      ]
    },
    {
      "cell_type": "markdown",
      "source": [
        "different forms of aggregation\n",
        "* maximum element\n",
        "* minimum element\n",
        "* mean of a tensor\n",
        "* sum of tensor"
      ],
      "metadata": {
        "id": "cfiWNJynP8rW"
      }
    },
    {
      "cell_type": "code",
      "source": [
        "\n",
        "tensor= tf.constant (np.random.randint(0,100, size=50))\n",
        "tensor\n"
      ],
      "metadata": {
        "colab": {
          "base_uri": "https://localhost:8080/"
        },
        "id": "XUvg7owOPm4V",
        "outputId": "b8c57372-ec31-45ce-c9db-eb43c2b6126f"
      },
      "execution_count": null,
      "outputs": [
        {
          "output_type": "execute_result",
          "data": {
            "text/plain": [
              "<tf.Tensor: shape=(50,), dtype=int64, numpy=\n",
              "array([94, 80, 50, 98, 69, 93, 38, 51, 53, 36, 34, 17, 53, 18, 23,  8, 78,\n",
              "       20, 16, 83, 97, 20, 42, 75, 20, 88, 12, 17, 25, 83, 11, 83, 11, 15,\n",
              "       44, 76, 39, 45, 21, 74, 57, 92, 75, 86, 35, 58, 11, 79, 41, 66])>"
            ]
          },
          "metadata": {},
          "execution_count": 92
        }
      ]
    },
    {
      "cell_type": "code",
      "source": [
        "# min element in a tensor\n",
        "tf.reduce_min(tensor)"
      ],
      "metadata": {
        "colab": {
          "base_uri": "https://localhost:8080/"
        },
        "id": "QcDlGnnDQbwr",
        "outputId": "143c4187-d5a8-431a-e79e-aca7c47515b5"
      },
      "execution_count": null,
      "outputs": [
        {
          "output_type": "execute_result",
          "data": {
            "text/plain": [
              "<tf.Tensor: shape=(), dtype=int64, numpy=8>"
            ]
          },
          "metadata": {},
          "execution_count": 93
        }
      ]
    },
    {
      "cell_type": "code",
      "source": [
        "#max element\n",
        "tf.reduce_max(tensor)"
      ],
      "metadata": {
        "colab": {
          "base_uri": "https://localhost:8080/"
        },
        "id": "Y_IKexB5aCsA",
        "outputId": "c378491b-faae-49f1-87a5-225a59f717c2"
      },
      "execution_count": null,
      "outputs": [
        {
          "output_type": "execute_result",
          "data": {
            "text/plain": [
              "<tf.Tensor: shape=(), dtype=int64, numpy=98>"
            ]
          },
          "metadata": {},
          "execution_count": 94
        }
      ]
    },
    {
      "cell_type": "code",
      "source": [
        "# mean\n",
        "tf.reduce_mean(tensor)"
      ],
      "metadata": {
        "colab": {
          "base_uri": "https://localhost:8080/"
        },
        "id": "wdA13-xRaWRI",
        "outputId": "b216bcfb-fb1a-4b3d-9e98-39712356853a"
      },
      "execution_count": null,
      "outputs": [
        {
          "output_type": "execute_result",
          "data": {
            "text/plain": [
              "<tf.Tensor: shape=(), dtype=int64, numpy=50>"
            ]
          },
          "metadata": {},
          "execution_count": 95
        }
      ]
    },
    {
      "cell_type": "code",
      "source": [
        "#sum\n",
        "tf.reduce_sum(tensor)"
      ],
      "metadata": {
        "colab": {
          "base_uri": "https://localhost:8080/"
        },
        "id": "AKMLofLCabdH",
        "outputId": "bd69db3b-f23c-4c9a-e05a-643ec54227b4"
      },
      "execution_count": null,
      "outputs": [
        {
          "output_type": "execute_result",
          "data": {
            "text/plain": [
              "<tf.Tensor: shape=(), dtype=int64, numpy=2510>"
            ]
          },
          "metadata": {},
          "execution_count": 96
        }
      ]
    },
    {
      "cell_type": "code",
      "source": [
        "# for variance and std deviation, input must be of complex64 or complex128 type\n",
        "D= tf.constant(np.random.randint(0,100, size=50), dtype= tf.complex64)\n",
        "D"
      ],
      "metadata": {
        "colab": {
          "base_uri": "https://localhost:8080/"
        },
        "id": "dX7Ye17aa8JC",
        "outputId": "9a83aae8-4730-43da-a9a8-9f34f9da9731"
      },
      "execution_count": null,
      "outputs": [
        {
          "output_type": "execute_result",
          "data": {
            "text/plain": [
              "<tf.Tensor: shape=(50,), dtype=complex64, numpy=\n",
              "array([54.+0.j, 68.+0.j, 85.+0.j, 27.+0.j, 42.+0.j, 83.+0.j, 82.+0.j,\n",
              "       87.+0.j, 61.+0.j,  9.+0.j, 42.+0.j, 37.+0.j,  7.+0.j, 74.+0.j,\n",
              "       12.+0.j, 50.+0.j, 22.+0.j, 93.+0.j, 81.+0.j, 99.+0.j, 23.+0.j,\n",
              "        1.+0.j, 78.+0.j, 20.+0.j, 55.+0.j, 80.+0.j, 18.+0.j, 42.+0.j,\n",
              "       55.+0.j, 43.+0.j,  2.+0.j, 87.+0.j, 36.+0.j, 99.+0.j,  5.+0.j,\n",
              "       93.+0.j, 42.+0.j, 70.+0.j, 86.+0.j, 90.+0.j, 18.+0.j, 79.+0.j,\n",
              "       51.+0.j, 19.+0.j, 93.+0.j, 80.+0.j, 62.+0.j, 49.+0.j, 34.+0.j,\n",
              "       81.+0.j], dtype=complex64)>"
            ]
          },
          "metadata": {},
          "execution_count": 99
        }
      ]
    },
    {
      "cell_type": "code",
      "source": [
        "#variance\n",
        "tf.math.reduce_variance(D)"
      ],
      "metadata": {
        "colab": {
          "base_uri": "https://localhost:8080/"
        },
        "id": "ewLPZX1zaezD",
        "outputId": "a5547195-7afe-42cd-9286-82f19129168c"
      },
      "execution_count": null,
      "outputs": [
        {
          "output_type": "execute_result",
          "data": {
            "text/plain": [
              "<tf.Tensor: shape=(), dtype=float32, numpy=880.6655>"
            ]
          },
          "metadata": {},
          "execution_count": 100
        }
      ]
    },
    {
      "cell_type": "code",
      "source": [
        "#standard deviation\n",
        "tf.math.reduce_std(D)"
      ],
      "metadata": {
        "colab": {
          "base_uri": "https://localhost:8080/"
        },
        "id": "uDdY8TLCavmQ",
        "outputId": "cab0949e-6c33-4027-c871-e9fa2bf9d2fd"
      },
      "execution_count": null,
      "outputs": [
        {
          "output_type": "execute_result",
          "data": {
            "text/plain": [
              "<tf.Tensor: shape=(), dtype=float32, numpy=29.67601>"
            ]
          },
          "metadata": {},
          "execution_count": 102
        }
      ]
    },
    {
      "cell_type": "code",
      "source": [
        "import tensorflow_probability as tfp"
      ],
      "metadata": {
        "id": "ptrUoUhsevF3"
      },
      "execution_count": null,
      "outputs": []
    },
    {
      "cell_type": "code",
      "source": [
        "tfp.stats.variance(tensor)"
      ],
      "metadata": {
        "colab": {
          "base_uri": "https://localhost:8080/"
        },
        "id": "frTjB8GkfbaJ",
        "outputId": "d91526cc-b1ef-475e-fce9-fcce4a49186f"
      },
      "execution_count": null,
      "outputs": [
        {
          "output_type": "execute_result",
          "data": {
            "text/plain": [
              "<tf.Tensor: shape=(), dtype=int64, numpy=824>"
            ]
          },
          "metadata": {},
          "execution_count": 104
        }
      ]
    },
    {
      "cell_type": "markdown",
      "source": [
        "### Positional maximum and minimum"
      ],
      "metadata": {
        "id": "__oJj7cThx1y"
      }
    },
    {
      "cell_type": "code",
      "source": [
        "# create a tensor\n",
        "tf.random.set_seed(42)\n",
        "F= tf.random.uniform(shape=[50])\n",
        "F"
      ],
      "metadata": {
        "colab": {
          "base_uri": "https://localhost:8080/"
        },
        "id": "v-hbctWofgAJ",
        "outputId": "9f610103-6481-4071-b390-e287bf63659f"
      },
      "execution_count": null,
      "outputs": [
        {
          "output_type": "execute_result",
          "data": {
            "text/plain": [
              "<tf.Tensor: shape=(50,), dtype=float32, numpy=\n",
              "array([0.6645621 , 0.44100678, 0.3528825 , 0.46448255, 0.03366041,\n",
              "       0.68467236, 0.74011743, 0.8724445 , 0.22632635, 0.22319686,\n",
              "       0.3103881 , 0.7223358 , 0.13318717, 0.5480639 , 0.5746088 ,\n",
              "       0.8996835 , 0.00946367, 0.5212307 , 0.6345445 , 0.1993283 ,\n",
              "       0.72942245, 0.54583454, 0.10756552, 0.6767061 , 0.6602763 ,\n",
              "       0.33695042, 0.60141766, 0.21062577, 0.8527372 , 0.44062173,\n",
              "       0.9485276 , 0.23752594, 0.81179297, 0.5263394 , 0.494308  ,\n",
              "       0.21612847, 0.8457197 , 0.8718841 , 0.3083862 , 0.6868038 ,\n",
              "       0.23764038, 0.7817228 , 0.9671384 , 0.06870162, 0.79873943,\n",
              "       0.66028714, 0.5871513 , 0.16461694, 0.7381023 , 0.32054043],\n",
              "      dtype=float32)>"
            ]
          },
          "metadata": {},
          "execution_count": 108
        }
      ]
    },
    {
      "cell_type": "code",
      "source": [
        "#maximum positional element\n",
        "tf.argmax(F), F[tf.argmax(F)]"
      ],
      "metadata": {
        "colab": {
          "base_uri": "https://localhost:8080/"
        },
        "id": "2eNnN8GHfjzD",
        "outputId": "1d114639-b2e8-41c5-94bc-0f78e50d8011"
      },
      "execution_count": null,
      "outputs": [
        {
          "output_type": "execute_result",
          "data": {
            "text/plain": [
              "(<tf.Tensor: shape=(), dtype=int64, numpy=42>,\n",
              " <tf.Tensor: shape=(), dtype=float32, numpy=0.9671384>)"
            ]
          },
          "metadata": {},
          "execution_count": 112
        }
      ]
    },
    {
      "cell_type": "code",
      "source": [
        "#minimum positional element\n",
        "tf.argmin(F), F[tf.argmin(F)]"
      ],
      "metadata": {
        "colab": {
          "base_uri": "https://localhost:8080/"
        },
        "id": "r-RKegS4ij6U",
        "outputId": "f7858b65-d637-4184-a4e6-0cf8281d2d6e"
      },
      "execution_count": null,
      "outputs": [
        {
          "output_type": "execute_result",
          "data": {
            "text/plain": [
              "(<tf.Tensor: shape=(), dtype=int64, numpy=16>,\n",
              " <tf.Tensor: shape=(), dtype=float32, numpy=0.009463668>)"
            ]
          },
          "metadata": {},
          "execution_count": 111
        }
      ]
    },
    {
      "cell_type": "markdown",
      "source": [
        "### Squeezing a tensor"
      ],
      "metadata": {
        "id": "rqGoaYGRjO3M"
      }
    },
    {
      "cell_type": "code",
      "source": [
        "#create a tensor\n",
        "tf.random.set_seed(42)\n",
        "G= tf.constant(tf.random.uniform(shape=[50]), shape=(1, 1, 1, 1, 50))\n",
        "G"
      ],
      "metadata": {
        "colab": {
          "base_uri": "https://localhost:8080/"
        },
        "id": "gqexnZUGipXc",
        "outputId": "39383f81-4175-48ea-aa97-31e9a0205c82"
      },
      "execution_count": null,
      "outputs": [
        {
          "output_type": "execute_result",
          "data": {
            "text/plain": [
              "<tf.Tensor: shape=(1, 1, 1, 1, 50), dtype=float32, numpy=\n",
              "array([[[[[0.6645621 , 0.44100678, 0.3528825 , 0.46448255, 0.03366041,\n",
              "           0.68467236, 0.74011743, 0.8724445 , 0.22632635, 0.22319686,\n",
              "           0.3103881 , 0.7223358 , 0.13318717, 0.5480639 , 0.5746088 ,\n",
              "           0.8996835 , 0.00946367, 0.5212307 , 0.6345445 , 0.1993283 ,\n",
              "           0.72942245, 0.54583454, 0.10756552, 0.6767061 , 0.6602763 ,\n",
              "           0.33695042, 0.60141766, 0.21062577, 0.8527372 , 0.44062173,\n",
              "           0.9485276 , 0.23752594, 0.81179297, 0.5263394 , 0.494308  ,\n",
              "           0.21612847, 0.8457197 , 0.8718841 , 0.3083862 , 0.6868038 ,\n",
              "           0.23764038, 0.7817228 , 0.9671384 , 0.06870162, 0.79873943,\n",
              "           0.66028714, 0.5871513 , 0.16461694, 0.7381023 , 0.32054043]]]]],\n",
              "      dtype=float32)>"
            ]
          },
          "metadata": {},
          "execution_count": 118
        }
      ]
    },
    {
      "cell_type": "code",
      "source": [
        "G.shape"
      ],
      "metadata": {
        "colab": {
          "base_uri": "https://localhost:8080/"
        },
        "id": "Kyux2l73jrfG",
        "outputId": "12fff0e9-c2c7-42bc-f7c7-84e587767b0a"
      },
      "execution_count": null,
      "outputs": [
        {
          "output_type": "execute_result",
          "data": {
            "text/plain": [
              "TensorShape([1, 1, 1, 1, 50])"
            ]
          },
          "metadata": {},
          "execution_count": 119
        }
      ]
    },
    {
      "cell_type": "code",
      "source": [
        "G_squeezed= tf.squeeze(G)\n",
        "G_squeezed"
      ],
      "metadata": {
        "colab": {
          "base_uri": "https://localhost:8080/"
        },
        "id": "cYHKJC3WkVxQ",
        "outputId": "278a0d7f-42f2-4e94-af53-d11dc3ededc7"
      },
      "execution_count": null,
      "outputs": [
        {
          "output_type": "execute_result",
          "data": {
            "text/plain": [
              "<tf.Tensor: shape=(50,), dtype=float32, numpy=\n",
              "array([0.6645621 , 0.44100678, 0.3528825 , 0.46448255, 0.03366041,\n",
              "       0.68467236, 0.74011743, 0.8724445 , 0.22632635, 0.22319686,\n",
              "       0.3103881 , 0.7223358 , 0.13318717, 0.5480639 , 0.5746088 ,\n",
              "       0.8996835 , 0.00946367, 0.5212307 , 0.6345445 , 0.1993283 ,\n",
              "       0.72942245, 0.54583454, 0.10756552, 0.6767061 , 0.6602763 ,\n",
              "       0.33695042, 0.60141766, 0.21062577, 0.8527372 , 0.44062173,\n",
              "       0.9485276 , 0.23752594, 0.81179297, 0.5263394 , 0.494308  ,\n",
              "       0.21612847, 0.8457197 , 0.8718841 , 0.3083862 , 0.6868038 ,\n",
              "       0.23764038, 0.7817228 , 0.9671384 , 0.06870162, 0.79873943,\n",
              "       0.66028714, 0.5871513 , 0.16461694, 0.7381023 , 0.32054043],\n",
              "      dtype=float32)>"
            ]
          },
          "metadata": {},
          "execution_count": 121
        }
      ]
    },
    {
      "cell_type": "markdown",
      "source": [
        "### One-hot encoding in Tensors"
      ],
      "metadata": {
        "id": "yC6ZC7fTlAzC"
      }
    },
    {
      "cell_type": "code",
      "source": [
        "#create a list\n",
        "lst= [0,1,2,3]\n",
        "tf.one_hot(lst, depth=4)"
      ],
      "metadata": {
        "colab": {
          "base_uri": "https://localhost:8080/"
        },
        "id": "dMWPpjLEkdgH",
        "outputId": "d1738941-71aa-4ebf-c319-86b1174b1962"
      },
      "execution_count": null,
      "outputs": [
        {
          "output_type": "execute_result",
          "data": {
            "text/plain": [
              "<tf.Tensor: shape=(4, 4), dtype=float32, numpy=\n",
              "array([[1., 0., 0., 0.],\n",
              "       [0., 1., 0., 0.],\n",
              "       [0., 0., 1., 0.],\n",
              "       [0., 0., 0., 1.]], dtype=float32)>"
            ]
          },
          "metadata": {},
          "execution_count": 122
        }
      ]
    },
    {
      "cell_type": "markdown",
      "source": [
        "# Neural Network Regression with TensorFlow"
      ],
      "metadata": {
        "id": "RQdRoZkiog8z"
      }
    },
    {
      "cell_type": "code",
      "source": [],
      "metadata": {
        "id": "UYFXUqHLlfos"
      },
      "execution_count": null,
      "outputs": []
    }
  ]
}