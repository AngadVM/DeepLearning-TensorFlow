{
  "nbformat": 4,
  "nbformat_minor": 0,
  "metadata": {
    "colab": {
      "provenance": []
    },
    "kernelspec": {
      "name": "python3",
      "display_name": "Python 3"
    },
    "language_info": {
      "name": "python"
    }
  },
  "cells": [
    {
      "cell_type": "markdown",
      "source": [
        "#Introduction to Neural Networks with TensorFlow"
      ],
      "metadata": {
        "id": "XRpJmyPiWPJV"
      }
    },
    {
      "cell_type": "code",
      "source": [
        "#import Tensorflow\n",
        "import tensorflow as tf\n",
        "print(tf.__version__)"
      ],
      "metadata": {
        "colab": {
          "base_uri": "https://localhost:8080/"
        },
        "id": "beFJgNVcW394",
        "outputId": "807c1d51-623a-4f6c-d7ce-e2bc8d6700e4"
      },
      "execution_count": null,
      "outputs": [
        {
          "output_type": "stream",
          "name": "stdout",
          "text": [
            "2.15.0\n"
          ]
        }
      ]
    },
    {
      "cell_type": "markdown",
      "source": [
        "## creating data to view and fit"
      ],
      "metadata": {
        "id": "QYkpEFpcXIgE"
      }
    },
    {
      "cell_type": "code",
      "source": [
        "import numpy as np\n",
        "import matplotlib.pyplot as plt\n",
        "\n",
        "#create feautres\n",
        "X= np.array([-7.0, -4.0, -1.0, 2.0, 5.0, 8.0, 11.0, 14.0 ])\n",
        "\n",
        "#create labels\n",
        "y= np.array([3.0, 6.0, 9.0, 12.0, 15.0, 18.0, 21.0, 24.0])\n",
        "\n",
        "#visualize it\n",
        "plt.scatter(X,y)\n"
      ],
      "metadata": {
        "colab": {
          "base_uri": "https://localhost:8080/",
          "height": 452
        },
        "id": "WBBHGO5PXwoG",
        "outputId": "167d9ad7-820e-4cc8-fb04-bb45e6011923"
      },
      "execution_count": null,
      "outputs": [
        {
          "output_type": "execute_result",
          "data": {
            "text/plain": [
              "<matplotlib.collections.PathCollection at 0x784de7aeb820>"
            ]
          },
          "metadata": {},
          "execution_count": 2
        },
        {
          "output_type": "display_data",
          "data": {
            "text/plain": [
              "<Figure size 640x480 with 1 Axes>"
            ],
            "image/png": "[encoded data removed]"
          },
          "metadata": {}
        }
      ]
    },
    {
      "cell_type": "code",
      "source": [
        "# create a demo tensor for our house price prediction model\n",
        "house_info= tf.constant([\"bedroom\", \"bathroom\", \"garage\"])\n",
        "house_price= tf.constant([939700])\n",
        "house_info, house_price"
      ],
      "metadata": {
        "colab": {
          "base_uri": "https://localhost:8080/"
        },
        "id": "UtRKxcxwY_hx",
        "outputId": "988f2dcd-f1ee-4082-c5d6-db4d0f13036f"
      },
      "execution_count": null,
      "outputs": [
        {
          "output_type": "execute_result",
          "data": {
            "text/plain": [
              "(<tf.Tensor: shape=(3,), dtype=string, numpy=array([b'bedroom', b'bathroom', b'garage'], dtype=object)>,\n",
              " <tf.Tensor: shape=(1,), dtype=int32, numpy=array([939700], dtype=int32)>)"
            ]
          },
          "metadata": {},
          "execution_count": 3
        }
      ]
    },
    {
      "cell_type": "code",
      "source": [
        "X[0], y[0]\n"
      ],
      "metadata": {
        "colab": {
          "base_uri": "https://localhost:8080/"
        },
        "id": "Zod2CdX0bT1z",
        "outputId": "62941587-514b-4788-a2de-b81b8ac59195"
      },
      "execution_count": null,
      "outputs": [
        {
          "output_type": "execute_result",
          "data": {
            "text/plain": [
              "(-7.0, 3.0)"
            ]
          },
          "metadata": {},
          "execution_count": 4
        }
      ]
    },
    {
      "cell_type": "code",
      "source": [
        "input_shape= X[0].shape\n",
        "output_shape= y[0].shape\n",
        "input_shape, output_shape"
      ],
      "metadata": {
        "colab": {
          "base_uri": "https://localhost:8080/"
        },
        "id": "K8u0KhC_fmyE",
        "outputId": "ec394661-ec49-42f4-862d-d6da995acc0a"
      },
      "execution_count": null,
      "outputs": [
        {
          "output_type": "execute_result",
          "data": {
            "text/plain": [
              "((), ())"
            ]
          },
          "metadata": {},
          "execution_count": 5
        }
      ]
    },
    {
      "cell_type": "code",
      "source": [
        "#turn our Numpy arrays into tensors\n",
        "X= tf.cast(tf.constant(X), dtype= tf.float32)\n",
        "y= tf.cast(tf.constant(y), dtype=tf.float32)\n",
        "X,y"
      ],
      "metadata": {
        "colab": {
          "base_uri": "https://localhost:8080/"
        },
        "id": "Mx96EzApfu-6",
        "outputId": "672ab6a4-7464-4e32-f940-f4b958410ebe"
      },
      "execution_count": null,
      "outputs": [
        {
          "output_type": "execute_result",
          "data": {
            "text/plain": [
              "(<tf.Tensor: shape=(8,), dtype=float32, numpy=array([-7., -4., -1.,  2.,  5.,  8., 11., 14.], dtype=float32)>,\n",
              " <tf.Tensor: shape=(8,), dtype=float32, numpy=array([ 3.,  6.,  9., 12., 15., 18., 21., 24.], dtype=float32)>)"
            ]
          },
          "metadata": {},
          "execution_count": 6
        }
      ]
    },
    {
      "cell_type": "code",
      "source": [
        "X[0].shape, y[0].shape\n"
      ],
      "metadata": {
        "colab": {
          "base_uri": "https://localhost:8080/"
        },
        "id": "7EPMX5hFgTCZ",
        "outputId": "a615194f-b65c-42ac-ecdf-58d65238907a"
      },
      "execution_count": null,
      "outputs": [
        {
          "output_type": "execute_result",
          "data": {
            "text/plain": [
              "(TensorShape([]), TensorShape([]))"
            ]
          },
          "metadata": {},
          "execution_count": 7
        }
      ]
    },
    {
      "cell_type": "markdown",
      "source": [
        "## Steps in modelling with TensorFlow\n",
        "1. **creating a model**- define input and output layers, as well as hidden layers of a deep learning model\n",
        "2. **compiling a model**- define the loss function(how wrong our model is), the optimizer(how to improve our model) and evaluation metrics (what we can use to imterpret the performance of the model)\n",
        "3. **fit the model**- letting the model to find relationship between X and y (features and labels)"
      ],
      "metadata": {
        "id": "oQ4rnvqCgjEp"
      }
    },
    {
      "cell_type": "code",
      "source": [
        "# Set random seed\n",
        "tf.random.set_seed(42)\n",
        "\n",
        "# Create a model using the Sequential API\n",
        "model = tf.keras.Sequential([\n",
        "  tf.keras.layers.Dense(1)\n",
        "])\n",
        "\n",
        "# Compile the model\n",
        "model.compile(loss=tf.keras.losses.mae, # mae is short for mean absolute error\n",
        "              optimizer=tf.keras.optimizers.SGD(), # SGD is short for stochastic gradient descent\n",
        "              metrics=[\"mae\"])\n",
        "\n",
        "# Fit the model\n",
        "# model.fit(X, y, epochs=5) # this will break with TensorFlow 2.7.0+\n",
        "model.fit(tf.expand_dims(X, axis=-1), y, epochs=5)"
      ],
      "metadata": {
        "colab": {
          "base_uri": "https://localhost:8080/"
        },
        "id": "fLWa8NVcgW_E",
        "outputId": "125d52d1-a481-4dc1-bc98-741921df402e"
      },
      "execution_count": null,
      "outputs": [
        {
          "output_type": "stream",
          "name": "stdout",
          "text": [
            "Epoch 1/5\n",
            "1/1 [==============================] - 1s 731ms/step - loss: 13.5386 - mae: 13.5386\n",
            "Epoch 2/5\n",
            "1/1 [==============================] - 0s 16ms/step - loss: 13.4061 - mae: 13.4061\n",
            "Epoch 3/5\n",
            "1/1 [==============================] - 0s 12ms/step - loss: 13.2736 - mae: 13.2736\n",
            "Epoch 4/5\n",
            "1/1 [==============================] - 0s 11ms/step - loss: 13.1411 - mae: 13.1411\n",
            "Epoch 5/5\n",
            "1/1 [==============================] - 0s 11ms/step - loss: 13.0086 - mae: 13.0086\n"
          ]
        },
        {
          "output_type": "execute_result",
          "data": {
            "text/plain": [
              "<keras.src.callbacks.History at 0x784de40fbe50>"
            ]
          },
          "metadata": {},
          "execution_count": 8
        }
      ]
    },
    {
      "cell_type": "code",
      "source": [
        "# try and make predictions with our model\n",
        "y_predict= model.predict([11.0])\n",
        "y_predict"
      ],
      "metadata": {
        "colab": {
          "base_uri": "https://localhost:8080/"
        },
        "id": "gx7r_630mW5D",
        "outputId": "1d25bbd6-9355-4e91-f1e6-0e280c0f10fa"
      },
      "execution_count": null,
      "outputs": [
        {
          "output_type": "stream",
          "name": "stdout",
          "text": [
            "1/1 [==============================] - 0s 137ms/step\n"
          ]
        },
        {
          "output_type": "execute_result",
          "data": {
            "text/plain": [
              "array([[1.8535838]], dtype=float32)"
            ]
          },
          "metadata": {},
          "execution_count": 9
        }
      ]
    },
    {
      "cell_type": "markdown",
      "source": [
        "## Imporving our model\n",
        "To improve our model, we alter almost every part of the 3 steps we went through before.\n",
        "\n",
        "1. **Creating a model** - here you might want to add more layers, increase the number of hidden units (also called neurons) within each layer, change the activation functions of each layer.\n",
        "2. **Compiling a model** - you might want to choose optimization function or perhaps change the learning rate of the optimization function.\n",
        "3. **Fitting a model** - perhaps you could fit a model for more epochs (leave it training for longer) or on more data (give the model more examples to learn from)."
      ],
      "metadata": {
        "id": "6i6amIvywsN9"
      }
    },
    {
      "cell_type": "code",
      "source": [
        "#rebuilding our model\n",
        "model= tf.keras.Sequential([\n",
        "    tf.keras.layers.Dense(100, activation=\"relu\"),\n",
        "    tf.keras.layers.Dense(100, activation=\"relu\"),\n",
        "    tf.keras.layers.Dense(100, activation=\"relu\"),\n",
        "    tf.keras.layers.Dense(1)\n",
        "\n",
        "])\n",
        "\n",
        "model.compile(loss=tf.keras.losses.mae,\n",
        "              optimizer= tf.keras.optimizers.Adam(lr=0.0001),\n",
        "              metrics=[\"mae\"])\n",
        "model.fit(tf.expand_dims(X, axis=-1),y, epochs=200)"
      ],
      "metadata": {
        "colab": {
          "base_uri": "https://localhost:8080/"
        },
        "id": "sGthsG_irDlO",
        "outputId": "cc143ca0-5e85-468d-f839-021a24336d43"
      },
      "execution_count": null,
      "outputs": [
        {
          "output_type": "stream",
          "name": "stderr",
          "text": [
            "WARNING:absl:`lr` is deprecated in Keras optimizer, please use `learning_rate` or use the legacy optimizer, e.g.,tf.keras.optimizers.legacy.Adam.\n"
          ]
        },
        {
          "output_type": "stream",
          "name": "stdout",
          "text": [
            "Epoch 1/200\n",
            "1/1 [==============================] - 2s 2s/step - loss: 13.2820 - mae: 13.2820\n",
            "Epoch 2/200\n",
            "1/1 [==============================] - 0s 27ms/step - loss: 12.7559 - mae: 12.7559\n",
            "Epoch 3/200\n",
            "1/1 [==============================] - 0s 19ms/step - loss: 12.2667 - mae: 12.2667\n",
            "Epoch 4/200\n",
            "1/1 [==============================] - 0s 26ms/step - loss: 11.7925 - mae: 11.7925\n",
            "Epoch 5/200\n",
            "1/1 [==============================] - 0s 22ms/step - loss: 11.3207 - mae: 11.3207\n",
            "Epoch 6/200\n",
            "1/1 [==============================] - 0s 20ms/step - loss: 10.8695 - mae: 10.8695\n",
            "Epoch 7/200\n",
            "1/1 [==============================] - 0s 51ms/step - loss: 10.4103 - mae: 10.4103\n",
            "Epoch 8/200\n",
            "1/1 [==============================] - 0s 45ms/step - loss: 9.9458 - mae: 9.9458\n",
            "Epoch 9/200\n",
            "1/1 [==============================] - 0s 33ms/step - loss: 9.4960 - mae: 9.4960\n",
            "Epoch 10/200\n",
            "1/1 [==============================] - 0s 35ms/step - loss: 9.0705 - mae: 9.0705\n",
            "Epoch 11/200\n",
            "1/1 [==============================] - 0s 33ms/step - loss: 8.6223 - mae: 8.6223\n",
            "Epoch 12/200\n",
            "1/1 [==============================] - 0s 44ms/step - loss: 8.1483 - mae: 8.1483\n",
            "Epoch 13/200\n",
            "1/1 [==============================] - 0s 38ms/step - loss: 7.6573 - mae: 7.6573\n",
            "Epoch 14/200\n",
            "1/1 [==============================] - 0s 33ms/step - loss: 7.1353 - mae: 7.1353\n",
            "Epoch 15/200\n",
            "1/1 [==============================] - 0s 39ms/step - loss: 6.5852 - mae: 6.5852\n",
            "Epoch 16/200\n",
            "1/1 [==============================] - 0s 33ms/step - loss: 6.0039 - mae: 6.0039\n",
            "Epoch 17/200\n",
            "1/1 [==============================] - 0s 37ms/step - loss: 5.3799 - mae: 5.3799\n",
            "Epoch 18/200\n",
            "1/1 [==============================] - 0s 36ms/step - loss: 4.7132 - mae: 4.7132\n",
            "Epoch 19/200\n",
            "1/1 [==============================] - 0s 40ms/step - loss: 4.1598 - mae: 4.1598\n",
            "Epoch 20/200\n",
            "1/1 [==============================] - 0s 23ms/step - loss: 3.9411 - mae: 3.9411\n",
            "Epoch 21/200\n",
            "1/1 [==============================] - 0s 37ms/step - loss: 4.0947 - mae: 4.0947\n",
            "Epoch 22/200\n",
            "1/1 [==============================] - 0s 18ms/step - loss: 4.2402 - mae: 4.2402\n",
            "Epoch 23/200\n",
            "1/1 [==============================] - 0s 28ms/step - loss: 4.4589 - mae: 4.4589\n",
            "Epoch 24/200\n",
            "1/1 [==============================] - 0s 28ms/step - loss: 4.6958 - mae: 4.6958\n",
            "Epoch 25/200\n",
            "1/1 [==============================] - 0s 31ms/step - loss: 4.8318 - mae: 4.8318\n",
            "Epoch 26/200\n",
            "1/1 [==============================] - 0s 22ms/step - loss: 4.8799 - mae: 4.8799\n",
            "Epoch 27/200\n",
            "1/1 [==============================] - 0s 30ms/step - loss: 4.8515 - mae: 4.8515\n",
            "Epoch 28/200\n",
            "1/1 [==============================] - 0s 30ms/step - loss: 4.7572 - mae: 4.7572\n",
            "Epoch 29/200\n",
            "1/1 [==============================] - 0s 36ms/step - loss: 4.6080 - mae: 4.6080\n",
            "Epoch 30/200\n",
            "1/1 [==============================] - 0s 33ms/step - loss: 4.4140 - mae: 4.4140\n",
            "Epoch 31/200\n",
            "1/1 [==============================] - 0s 20ms/step - loss: 4.2212 - mae: 4.2212\n",
            "Epoch 32/200\n",
            "1/1 [==============================] - 0s 17ms/step - loss: 4.1315 - mae: 4.1315\n",
            "Epoch 33/200\n",
            "1/1 [==============================] - 0s 41ms/step - loss: 4.0433 - mae: 4.0433\n",
            "Epoch 34/200\n",
            "1/1 [==============================] - 0s 33ms/step - loss: 3.9567 - mae: 3.9567\n",
            "Epoch 35/200\n",
            "1/1 [==============================] - 0s 34ms/step - loss: 3.8735 - mae: 3.8735\n",
            "Epoch 36/200\n",
            "1/1 [==============================] - 0s 25ms/step - loss: 3.8507 - mae: 3.8507\n",
            "Epoch 37/200\n",
            "1/1 [==============================] - 0s 34ms/step - loss: 3.9156 - mae: 3.9156\n",
            "Epoch 38/200\n",
            "1/1 [==============================] - 0s 26ms/step - loss: 3.9610 - mae: 3.9610\n",
            "Epoch 39/200\n",
            "1/1 [==============================] - 0s 48ms/step - loss: 3.9895 - mae: 3.9895\n",
            "Epoch 40/200\n",
            "1/1 [==============================] - 0s 36ms/step - loss: 4.0032 - mae: 4.0032\n",
            "Epoch 41/200\n",
            "1/1 [==============================] - 0s 32ms/step - loss: 4.0038 - mae: 4.0038\n",
            "Epoch 42/200\n",
            "1/1 [==============================] - 0s 26ms/step - loss: 3.9909 - mae: 3.9909\n",
            "Epoch 43/200\n",
            "1/1 [==============================] - 0s 121ms/step - loss: 3.9672 - mae: 3.9672\n",
            "Epoch 44/200\n",
            "1/1 [==============================] - 0s 55ms/step - loss: 3.9329 - mae: 3.9329\n",
            "Epoch 45/200\n",
            "1/1 [==============================] - 0s 34ms/step - loss: 3.8886 - mae: 3.8886\n",
            "Epoch 46/200\n",
            "1/1 [==============================] - 0s 52ms/step - loss: 3.8370 - mae: 3.8370\n",
            "Epoch 47/200\n",
            "1/1 [==============================] - 0s 27ms/step - loss: 3.7737 - mae: 3.7737\n",
            "Epoch 48/200\n",
            "1/1 [==============================] - 0s 28ms/step - loss: 3.7137 - mae: 3.7137\n",
            "Epoch 49/200\n",
            "1/1 [==============================] - 0s 40ms/step - loss: 3.7421 - mae: 3.7421\n",
            "Epoch 50/200\n",
            "1/1 [==============================] - 0s 23ms/step - loss: 3.7592 - mae: 3.7592\n",
            "Epoch 51/200\n",
            "1/1 [==============================] - 0s 38ms/step - loss: 3.7655 - mae: 3.7655\n",
            "Epoch 52/200\n",
            "1/1 [==============================] - 0s 24ms/step - loss: 3.7627 - mae: 3.7627\n",
            "Epoch 53/200\n",
            "1/1 [==============================] - 0s 22ms/step - loss: 3.7551 - mae: 3.7551\n",
            "Epoch 54/200\n",
            "1/1 [==============================] - 0s 13ms/step - loss: 3.7346 - mae: 3.7346\n",
            "Epoch 55/200\n",
            "1/1 [==============================] - 0s 24ms/step - loss: 3.7113 - mae: 3.7113\n",
            "Epoch 56/200\n",
            "1/1 [==============================] - 0s 17ms/step - loss: 3.6812 - mae: 3.6812\n",
            "Epoch 57/200\n",
            "1/1 [==============================] - 0s 21ms/step - loss: 3.6454 - mae: 3.6454\n",
            "Epoch 58/200\n",
            "1/1 [==============================] - 0s 16ms/step - loss: 3.6816 - mae: 3.6816\n",
            "Epoch 59/200\n",
            "1/1 [==============================] - 0s 22ms/step - loss: 3.6994 - mae: 3.6994\n",
            "Epoch 60/200\n",
            "1/1 [==============================] - 0s 35ms/step - loss: 3.7002 - mae: 3.7002\n",
            "Epoch 61/200\n",
            "1/1 [==============================] - 0s 48ms/step - loss: 3.6854 - mae: 3.6854\n",
            "Epoch 62/200\n",
            "1/1 [==============================] - 0s 36ms/step - loss: 3.6578 - mae: 3.6578\n",
            "Epoch 63/200\n",
            "1/1 [==============================] - 0s 73ms/step - loss: 3.6138 - mae: 3.6138\n",
            "Epoch 64/200\n",
            "1/1 [==============================] - 0s 40ms/step - loss: 3.6029 - mae: 3.6029\n",
            "Epoch 65/200\n",
            "1/1 [==============================] - 0s 34ms/step - loss: 3.6174 - mae: 3.6174\n",
            "Epoch 66/200\n",
            "1/1 [==============================] - 0s 38ms/step - loss: 3.6211 - mae: 3.6211\n",
            "Epoch 67/200\n",
            "1/1 [==============================] - 0s 19ms/step - loss: 3.6144 - mae: 3.6144\n",
            "Epoch 68/200\n",
            "1/1 [==============================] - 0s 28ms/step - loss: 3.5985 - mae: 3.5985\n",
            "Epoch 69/200\n",
            "1/1 [==============================] - 0s 41ms/step - loss: 3.5740 - mae: 3.5740\n",
            "Epoch 70/200\n",
            "1/1 [==============================] - 0s 29ms/step - loss: 3.5433 - mae: 3.5433\n",
            "Epoch 71/200\n",
            "1/1 [==============================] - 0s 19ms/step - loss: 3.5223 - mae: 3.5223\n",
            "Epoch 72/200\n",
            "1/1 [==============================] - 0s 32ms/step - loss: 3.5240 - mae: 3.5240\n",
            "Epoch 73/200\n",
            "1/1 [==============================] - 0s 25ms/step - loss: 3.5108 - mae: 3.5108\n",
            "Epoch 74/200\n",
            "1/1 [==============================] - 0s 29ms/step - loss: 3.4797 - mae: 3.4797\n",
            "Epoch 75/200\n",
            "1/1 [==============================] - 0s 33ms/step - loss: 3.4773 - mae: 3.4773\n",
            "Epoch 76/200\n",
            "1/1 [==============================] - 0s 28ms/step - loss: 3.4637 - mae: 3.4637\n",
            "Epoch 77/200\n",
            "1/1 [==============================] - 0s 17ms/step - loss: 3.4494 - mae: 3.4494\n",
            "Epoch 78/200\n",
            "1/1 [==============================] - 0s 25ms/step - loss: 3.4324 - mae: 3.4324\n",
            "Epoch 79/200\n",
            "1/1 [==============================] - 0s 20ms/step - loss: 3.4352 - mae: 3.4352\n",
            "Epoch 80/200\n",
            "1/1 [==============================] - 0s 20ms/step - loss: 3.4273 - mae: 3.4273\n",
            "Epoch 81/200\n",
            "1/1 [==============================] - 0s 31ms/step - loss: 3.4079 - mae: 3.4079\n",
            "Epoch 82/200\n",
            "1/1 [==============================] - 0s 21ms/step - loss: 3.3776 - mae: 3.3776\n",
            "Epoch 83/200\n",
            "1/1 [==============================] - 0s 21ms/step - loss: 3.3928 - mae: 3.3928\n",
            "Epoch 84/200\n",
            "1/1 [==============================] - 0s 28ms/step - loss: 3.3747 - mae: 3.3747\n",
            "Epoch 85/200\n",
            "1/1 [==============================] - 0s 19ms/step - loss: 3.3417 - mae: 3.3417\n",
            "Epoch 86/200\n",
            "1/1 [==============================] - 0s 40ms/step - loss: 3.3402 - mae: 3.3402\n",
            "Epoch 87/200\n",
            "1/1 [==============================] - 0s 49ms/step - loss: 3.3397 - mae: 3.3397\n",
            "Epoch 88/200\n",
            "1/1 [==============================] - 0s 31ms/step - loss: 3.3258 - mae: 3.3258\n",
            "Epoch 89/200\n",
            "1/1 [==============================] - 0s 32ms/step - loss: 3.2988 - mae: 3.2988\n",
            "Epoch 90/200\n",
            "1/1 [==============================] - 0s 19ms/step - loss: 3.2586 - mae: 3.2586\n",
            "Epoch 91/200\n",
            "1/1 [==============================] - 0s 21ms/step - loss: 3.2350 - mae: 3.2350\n",
            "Epoch 92/200\n",
            "1/1 [==============================] - 0s 21ms/step - loss: 3.2096 - mae: 3.2096\n",
            "Epoch 93/200\n",
            "1/1 [==============================] - 0s 14ms/step - loss: 3.1883 - mae: 3.1883\n",
            "Epoch 94/200\n",
            "1/1 [==============================] - 0s 49ms/step - loss: 3.1684 - mae: 3.1684\n",
            "Epoch 95/200\n",
            "1/1 [==============================] - 0s 25ms/step - loss: 3.1462 - mae: 3.1462\n",
            "Epoch 96/200\n",
            "1/1 [==============================] - 0s 18ms/step - loss: 3.1091 - mae: 3.1091\n",
            "Epoch 97/200\n",
            "1/1 [==============================] - 0s 30ms/step - loss: 3.0832 - mae: 3.0832\n",
            "Epoch 98/200\n",
            "1/1 [==============================] - 0s 20ms/step - loss: 3.0722 - mae: 3.0722\n",
            "Epoch 99/200\n",
            "1/1 [==============================] - 0s 15ms/step - loss: 3.0456 - mae: 3.0456\n",
            "Epoch 100/200\n",
            "1/1 [==============================] - 0s 34ms/step - loss: 3.0209 - mae: 3.0209\n",
            "Epoch 101/200\n",
            "1/1 [==============================] - 0s 33ms/step - loss: 2.9871 - mae: 2.9871\n",
            "Epoch 102/200\n",
            "1/1 [==============================] - 0s 43ms/step - loss: 2.9592 - mae: 2.9592\n",
            "Epoch 103/200\n",
            "1/1 [==============================] - 0s 39ms/step - loss: 2.9237 - mae: 2.9237\n",
            "Epoch 104/200\n",
            "1/1 [==============================] - 0s 30ms/step - loss: 2.8900 - mae: 2.8900\n",
            "Epoch 105/200\n",
            "1/1 [==============================] - 0s 35ms/step - loss: 2.8521 - mae: 2.8521\n",
            "Epoch 106/200\n",
            "1/1 [==============================] - 0s 29ms/step - loss: 2.8105 - mae: 2.8105\n",
            "Epoch 107/200\n",
            "1/1 [==============================] - 0s 37ms/step - loss: 2.8161 - mae: 2.8161\n",
            "Epoch 108/200\n",
            "1/1 [==============================] - 0s 30ms/step - loss: 2.7462 - mae: 2.7462\n",
            "Epoch 109/200\n",
            "1/1 [==============================] - 0s 30ms/step - loss: 2.7285 - mae: 2.7285\n",
            "Epoch 110/200\n",
            "1/1 [==============================] - 0s 24ms/step - loss: 2.7086 - mae: 2.7086\n",
            "Epoch 111/200\n",
            "1/1 [==============================] - 0s 25ms/step - loss: 2.6699 - mae: 2.6699\n",
            "Epoch 112/200\n",
            "1/1 [==============================] - 0s 24ms/step - loss: 2.6125 - mae: 2.6125\n",
            "Epoch 113/200\n",
            "1/1 [==============================] - 0s 46ms/step - loss: 2.5562 - mae: 2.5562\n",
            "Epoch 114/200\n",
            "1/1 [==============================] - 0s 41ms/step - loss: 2.5106 - mae: 2.5106\n",
            "Epoch 115/200\n",
            "1/1 [==============================] - 0s 34ms/step - loss: 2.4747 - mae: 2.4747\n",
            "Epoch 116/200\n",
            "1/1 [==============================] - 0s 23ms/step - loss: 2.4336 - mae: 2.4336\n",
            "Epoch 117/200\n",
            "1/1 [==============================] - 0s 22ms/step - loss: 2.3721 - mae: 2.3721\n",
            "Epoch 118/200\n",
            "1/1 [==============================] - 0s 24ms/step - loss: 2.2931 - mae: 2.2931\n",
            "Epoch 119/200\n",
            "1/1 [==============================] - 0s 26ms/step - loss: 2.3030 - mae: 2.3030\n",
            "Epoch 120/200\n",
            "1/1 [==============================] - 0s 23ms/step - loss: 2.2100 - mae: 2.2100\n",
            "Epoch 121/200\n",
            "1/1 [==============================] - 0s 28ms/step - loss: 2.1144 - mae: 2.1144\n",
            "Epoch 122/200\n",
            "1/1 [==============================] - 0s 34ms/step - loss: 2.0767 - mae: 2.0767\n",
            "Epoch 123/200\n",
            "1/1 [==============================] - 0s 25ms/step - loss: 2.0168 - mae: 2.0168\n",
            "Epoch 124/200\n",
            "1/1 [==============================] - 0s 14ms/step - loss: 1.9363 - mae: 1.9363\n",
            "Epoch 125/200\n",
            "1/1 [==============================] - 0s 15ms/step - loss: 1.8319 - mae: 1.8319\n",
            "Epoch 126/200\n",
            "1/1 [==============================] - 0s 22ms/step - loss: 1.8374 - mae: 1.8374\n",
            "Epoch 127/200\n",
            "1/1 [==============================] - 0s 20ms/step - loss: 1.7495 - mae: 1.7495\n",
            "Epoch 128/200\n",
            "1/1 [==============================] - 0s 15ms/step - loss: 1.5769 - mae: 1.5769\n",
            "Epoch 129/200\n",
            "1/1 [==============================] - 0s 30ms/step - loss: 1.5517 - mae: 1.5517\n",
            "Epoch 130/200\n",
            "1/1 [==============================] - 0s 49ms/step - loss: 1.5420 - mae: 1.5420\n",
            "Epoch 131/200\n",
            "1/1 [==============================] - 0s 19ms/step - loss: 1.4944 - mae: 1.4944\n",
            "Epoch 132/200\n",
            "1/1 [==============================] - 0s 50ms/step - loss: 1.3158 - mae: 1.3158\n",
            "Epoch 133/200\n",
            "1/1 [==============================] - 0s 38ms/step - loss: 1.1643 - mae: 1.1643\n",
            "Epoch 134/200\n",
            "1/1 [==============================] - 0s 24ms/step - loss: 1.0874 - mae: 1.0874\n",
            "Epoch 135/200\n",
            "1/1 [==============================] - 0s 27ms/step - loss: 1.0513 - mae: 1.0513\n",
            "Epoch 136/200\n",
            "1/1 [==============================] - 0s 26ms/step - loss: 0.8507 - mae: 0.8507\n",
            "Epoch 137/200\n",
            "1/1 [==============================] - 0s 27ms/step - loss: 0.7091 - mae: 0.7091\n",
            "Epoch 138/200\n",
            "1/1 [==============================] - 0s 27ms/step - loss: 0.6457 - mae: 0.6457\n",
            "Epoch 139/200\n",
            "1/1 [==============================] - 0s 28ms/step - loss: 0.6148 - mae: 0.6148\n",
            "Epoch 140/200\n",
            "1/1 [==============================] - 0s 21ms/step - loss: 0.4726 - mae: 0.4726\n",
            "Epoch 141/200\n",
            "1/1 [==============================] - 0s 23ms/step - loss: 0.5731 - mae: 0.5731\n",
            "Epoch 142/200\n",
            "1/1 [==============================] - 0s 26ms/step - loss: 0.3758 - mae: 0.3758\n",
            "Epoch 143/200\n",
            "1/1 [==============================] - 0s 34ms/step - loss: 0.5204 - mae: 0.5204\n",
            "Epoch 144/200\n",
            "1/1 [==============================] - 0s 29ms/step - loss: 0.5853 - mae: 0.5853\n",
            "Epoch 145/200\n",
            "1/1 [==============================] - 0s 27ms/step - loss: 0.3237 - mae: 0.3237\n",
            "Epoch 146/200\n",
            "1/1 [==============================] - 0s 24ms/step - loss: 0.5077 - mae: 0.5077\n",
            "Epoch 147/200\n",
            "1/1 [==============================] - 0s 28ms/step - loss: 0.2590 - mae: 0.2590\n",
            "Epoch 148/200\n",
            "1/1 [==============================] - 0s 27ms/step - loss: 0.3753 - mae: 0.3753\n",
            "Epoch 149/200\n",
            "1/1 [==============================] - 0s 28ms/step - loss: 0.5118 - mae: 0.5118\n",
            "Epoch 150/200\n",
            "1/1 [==============================] - 0s 33ms/step - loss: 0.4783 - mae: 0.4783\n",
            "Epoch 151/200\n",
            "1/1 [==============================] - 0s 36ms/step - loss: 0.3953 - mae: 0.3953\n",
            "Epoch 152/200\n",
            "1/1 [==============================] - 0s 37ms/step - loss: 0.2924 - mae: 0.2924\n",
            "Epoch 153/200\n",
            "1/1 [==============================] - 0s 29ms/step - loss: 0.6077 - mae: 0.6077\n",
            "Epoch 154/200\n",
            "1/1 [==============================] - 0s 23ms/step - loss: 0.6643 - mae: 0.6643\n",
            "Epoch 155/200\n",
            "1/1 [==============================] - 0s 27ms/step - loss: 0.3547 - mae: 0.3547\n",
            "Epoch 156/200\n",
            "1/1 [==============================] - 0s 23ms/step - loss: 0.6176 - mae: 0.6176\n",
            "Epoch 157/200\n",
            "1/1 [==============================] - 0s 22ms/step - loss: 0.7813 - mae: 0.7813\n",
            "Epoch 158/200\n",
            "1/1 [==============================] - 0s 21ms/step - loss: 0.5039 - mae: 0.5039\n",
            "Epoch 159/200\n",
            "1/1 [==============================] - 0s 23ms/step - loss: 0.3429 - mae: 0.3429\n",
            "Epoch 160/200\n",
            "1/1 [==============================] - 0s 34ms/step - loss: 0.5129 - mae: 0.5129\n",
            "Epoch 161/200\n",
            "1/1 [==============================] - 0s 23ms/step - loss: 0.3320 - mae: 0.3320\n",
            "Epoch 162/200\n",
            "1/1 [==============================] - 0s 16ms/step - loss: 0.3142 - mae: 0.3142\n",
            "Epoch 163/200\n",
            "1/1 [==============================] - 0s 33ms/step - loss: 0.4010 - mae: 0.4010\n",
            "Epoch 164/200\n",
            "1/1 [==============================] - 0s 38ms/step - loss: 0.2471 - mae: 0.2471\n",
            "Epoch 165/200\n",
            "1/1 [==============================] - 0s 22ms/step - loss: 0.2530 - mae: 0.2530\n",
            "Epoch 166/200\n",
            "1/1 [==============================] - 0s 27ms/step - loss: 0.3986 - mae: 0.3986\n",
            "Epoch 167/200\n",
            "1/1 [==============================] - 0s 34ms/step - loss: 0.2339 - mae: 0.2339\n",
            "Epoch 168/200\n",
            "1/1 [==============================] - 0s 31ms/step - loss: 0.2433 - mae: 0.2433\n",
            "Epoch 169/200\n",
            "1/1 [==============================] - 0s 33ms/step - loss: 0.2830 - mae: 0.2830\n",
            "Epoch 170/200\n",
            "1/1 [==============================] - 0s 42ms/step - loss: 0.1969 - mae: 0.1969\n",
            "Epoch 171/200\n",
            "1/1 [==============================] - 0s 48ms/step - loss: 0.1679 - mae: 0.1679\n",
            "Epoch 172/200\n",
            "1/1 [==============================] - 0s 43ms/step - loss: 0.1873 - mae: 0.1873\n",
            "Epoch 173/200\n",
            "1/1 [==============================] - 0s 34ms/step - loss: 0.1769 - mae: 0.1769\n",
            "Epoch 174/200\n",
            "1/1 [==============================] - 0s 24ms/step - loss: 0.2233 - mae: 0.2233\n",
            "Epoch 175/200\n",
            "1/1 [==============================] - 0s 74ms/step - loss: 0.1164 - mae: 0.1164\n",
            "Epoch 176/200\n",
            "1/1 [==============================] - 0s 43ms/step - loss: 0.3012 - mae: 0.3012\n",
            "Epoch 177/200\n",
            "1/1 [==============================] - 0s 33ms/step - loss: 0.1708 - mae: 0.1708\n",
            "Epoch 178/200\n",
            "1/1 [==============================] - 0s 44ms/step - loss: 0.2766 - mae: 0.2766\n",
            "Epoch 179/200\n",
            "1/1 [==============================] - 0s 51ms/step - loss: 0.3225 - mae: 0.3225\n",
            "Epoch 180/200\n",
            "1/1 [==============================] - 0s 53ms/step - loss: 0.0414 - mae: 0.0414\n",
            "Epoch 181/200\n",
            "1/1 [==============================] - 0s 40ms/step - loss: 0.4151 - mae: 0.4151\n",
            "Epoch 182/200\n",
            "1/1 [==============================] - 0s 37ms/step - loss: 0.5111 - mae: 0.5111\n",
            "Epoch 183/200\n",
            "1/1 [==============================] - 0s 33ms/step - loss: 0.2830 - mae: 0.2830\n",
            "Epoch 184/200\n",
            "1/1 [==============================] - 0s 53ms/step - loss: 0.2619 - mae: 0.2619\n",
            "Epoch 185/200\n",
            "1/1 [==============================] - 0s 36ms/step - loss: 0.4047 - mae: 0.4047\n",
            "Epoch 186/200\n",
            "1/1 [==============================] - 0s 34ms/step - loss: 0.2022 - mae: 0.2022\n",
            "Epoch 187/200\n",
            "1/1 [==============================] - 0s 29ms/step - loss: 0.3031 - mae: 0.3031\n",
            "Epoch 188/200\n",
            "1/1 [==============================] - 0s 17ms/step - loss: 0.4419 - mae: 0.4419\n",
            "Epoch 189/200\n",
            "1/1 [==============================] - 0s 30ms/step - loss: 0.2661 - mae: 0.2661\n",
            "Epoch 190/200\n",
            "1/1 [==============================] - 0s 14ms/step - loss: 0.2536 - mae: 0.2536\n",
            "Epoch 191/200\n",
            "1/1 [==============================] - 0s 19ms/step - loss: 0.3608 - mae: 0.3608\n",
            "Epoch 192/200\n",
            "1/1 [==============================] - 0s 16ms/step - loss: 0.2146 - mae: 0.2146\n",
            "Epoch 193/200\n",
            "1/1 [==============================] - 0s 16ms/step - loss: 0.3253 - mae: 0.3253\n",
            "Epoch 194/200\n",
            "1/1 [==============================] - 0s 21ms/step - loss: 0.3798 - mae: 0.3798\n",
            "Epoch 195/200\n",
            "1/1 [==============================] - 0s 20ms/step - loss: 0.2441 - mae: 0.2441\n",
            "Epoch 196/200\n",
            "1/1 [==============================] - 0s 26ms/step - loss: 0.2970 - mae: 0.2970\n",
            "Epoch 197/200\n",
            "1/1 [==============================] - 0s 51ms/step - loss: 0.3245 - mae: 0.3245\n",
            "Epoch 198/200\n",
            "1/1 [==============================] - 0s 21ms/step - loss: 0.0883 - mae: 0.0883\n",
            "Epoch 199/200\n",
            "1/1 [==============================] - 0s 23ms/step - loss: 0.4581 - mae: 0.4581\n",
            "Epoch 200/200\n",
            "1/1 [==============================] - 0s 20ms/step - loss: 0.5742 - mae: 0.5742\n"
          ]
        },
        {
          "output_type": "execute_result",
          "data": {
            "text/plain": [
              "<keras.src.callbacks.History at 0x784dddedf9a0>"
            ]
          },
          "metadata": {},
          "execution_count": 10
        }
      ]
    },
    {
      "cell_type": "code",
      "source": [
        "y_pred= model.predict([1.0])\n",
        "y_pred"
      ],
      "metadata": {
        "colab": {
          "base_uri": "https://localhost:8080/"
        },
        "id": "UHHqTK280E_T",
        "outputId": "d6a674e9-2f28-43b3-ed99-f4d4ce01ba93"
      },
      "execution_count": null,
      "outputs": [
        {
          "output_type": "stream",
          "name": "stdout",
          "text": [
            "1/1 [==============================] - 0s 203ms/step\n"
          ]
        },
        {
          "output_type": "execute_result",
          "data": {
            "text/plain": [
              "array([[10.746579]], dtype=float32)"
            ]
          },
          "metadata": {},
          "execution_count": 11
        }
      ]
    },
    {
      "cell_type": "markdown",
      "source": [
        "## Evaluating our model\n",
        "A typical workflow you'll go through when building neural networks is:\n",
        "\n",
        "'''\n",
        "  Build a model -> evaluate it -> build (tweak) a model -> evaulate it -> build (tweak) a model -> evaluate it...\n",
        "'''\n",
        "\n",
        "The tweaking comes from maybe not building a model from scratch but adjusting an existing one.\n",
        "\n",
        "# Visualize, visualize, visualize\n",
        "When it comes to evaluation, you'll want to remember the words:\n",
        "# \"visualize, visualize, visualize.\"\n",
        "\n",
        "This is because you're probably better looking at something (doing) than you are thinking about something.\n",
        "\n",
        "It's a good idea to visualize:\n",
        "\n",
        "* The data - what data are you working with? What does it look like?\n",
        "* The model itself - what does the architecture look like? What are the different shapes?\n",
        "* The training of a model - how does a model perform while it learns?\n",
        "* The predictions of a model - how do the predictions of a model line up against the ground truth (the original labels)?"
      ],
      "metadata": {
        "id": "AKvob2ZL0P7U"
      }
    },
    {
      "cell_type": "code",
      "source": [
        "#make a bigger dataset\n",
        "X= tf.range(-100, 100, 4)\n",
        "X"
      ],
      "metadata": {
        "colab": {
          "base_uri": "https://localhost:8080/"
        },
        "id": "tpbzkhAa4lMP",
        "outputId": "b7cf93d3-9307-4d6e-f8a6-835311967f3f"
      },
      "execution_count": null,
      "outputs": [
        {
          "output_type": "execute_result",
          "data": {
            "text/plain": [
              "<tf.Tensor: shape=(50,), dtype=int32, numpy=\n",
              "array([-100,  -96,  -92,  -88,  -84,  -80,  -76,  -72,  -68,  -64,  -60,\n",
              "        -56,  -52,  -48,  -44,  -40,  -36,  -32,  -28,  -24,  -20,  -16,\n",
              "        -12,   -8,   -4,    0,    4,    8,   12,   16,   20,   24,   28,\n",
              "         32,   36,   40,   44,   48,   52,   56,   60,   64,   68,   72,\n",
              "         76,   80,   84,   88,   92,   96], dtype=int32)>"
            ]
          },
          "metadata": {},
          "execution_count": 12
        }
      ]
    },
    {
      "cell_type": "code",
      "source": [
        "# make labels for the dataset\n",
        "y = X+10\n",
        "y"
      ],
      "metadata": {
        "colab": {
          "base_uri": "https://localhost:8080/"
        },
        "id": "ESoMsPtX75XT",
        "outputId": "e7ec17fc-7428-4908-afa0-29edc9621bbf"
      },
      "execution_count": null,
      "outputs": [
        {
          "output_type": "execute_result",
          "data": {
            "text/plain": [
              "<tf.Tensor: shape=(50,), dtype=int32, numpy=\n",
              "array([-90, -86, -82, -78, -74, -70, -66, -62, -58, -54, -50, -46, -42,\n",
              "       -38, -34, -30, -26, -22, -18, -14, -10,  -6,  -2,   2,   6,  10,\n",
              "        14,  18,  22,  26,  30,  34,  38,  42,  46,  50,  54,  58,  62,\n",
              "        66,  70,  74,  78,  82,  86,  90,  94,  98, 102, 106], dtype=int32)>"
            ]
          },
          "metadata": {},
          "execution_count": 13
        }
      ]
    },
    {
      "cell_type": "code",
      "source": [
        "import matplotlib.pyplot as plt\n",
        "plt.scatter(X,y)"
      ],
      "metadata": {
        "colab": {
          "base_uri": "https://localhost:8080/",
          "height": 447
        },
        "id": "wYqfLHIH8HfR",
        "outputId": "54b204dc-7dc3-48d4-d8bb-524d78d31501"
      },
      "execution_count": null,
      "outputs": [
        {
          "output_type": "execute_result",
          "data": {
            "text/plain": [
              "<matplotlib.collections.PathCollection at 0x784ddeee6140>"
            ]
          },
          "metadata": {},
          "execution_count": 14
        },
        {
          "output_type": "display_data",
          "data": {
            "text/plain": [
              "<Figure size 640x480 with 1 Axes>"
            ],
            "image/png": "[encoded data removed]"
          },
          "metadata": {}
        }
      ]
    },
    {
      "cell_type": "markdown",
      "source": [
        "### The 3 sets......\n",
        "* **Training set** - the model learns from this dataset(70-80% available data)\n",
        "* **Validation set** - model gets tuned on this data(10-15% data available)\n",
        "* **Test set** - the model gets evaluated on this data to test what it has learned.(10-15% data available)"
      ],
      "metadata": {
        "id": "7siTLQhi8O5x"
      }
    },
    {
      "cell_type": "code",
      "source": [
        "# check the length of how many samples we have\n",
        "len(X)"
      ],
      "metadata": {
        "colab": {
          "base_uri": "https://localhost:8080/"
        },
        "id": "JEwXRWcF8rDm",
        "outputId": "848a7020-7d6e-4425-98b6-a7942d87de17"
      },
      "execution_count": null,
      "outputs": [
        {
          "output_type": "execute_result",
          "data": {
            "text/plain": [
              "50"
            ]
          },
          "metadata": {},
          "execution_count": 15
        }
      ]
    },
    {
      "cell_type": "code",
      "source": [
        "#split the dataset into training set and testing set\n",
        "X_train= X[:40] #first 40 are training samples(80% of data)\n",
        "y_train= X[:40]\n",
        "\n",
        "X_test= X[40:] #last 10 are testing samples(20% of data)\n",
        "y_test=X[40:]\n",
        "len(X_train), len(X_test)"
      ],
      "metadata": {
        "colab": {
          "base_uri": "https://localhost:8080/"
        },
        "id": "Qp3kFlUv_FXg",
        "outputId": "9c91fb09-7690-47f9-f166-827070c2d15a"
      },
      "execution_count": null,
      "outputs": [
        {
          "output_type": "execute_result",
          "data": {
            "text/plain": [
              "(40, 10)"
            ]
          },
          "metadata": {},
          "execution_count": 16
        }
      ]
    },
    {
      "cell_type": "markdown",
      "source": [
        "### Visualizing our Data\n",
        "we have created the training and testing sets, now let us visualize it!"
      ],
      "metadata": {
        "id": "D6hBrasaAkF3"
      }
    },
    {
      "cell_type": "code",
      "source": [
        "plt.figure(figsize=(10,7))\n",
        "#plot training set in blue\n",
        "plt.scatter(X_train,y_train, c=\"b\", label=\"Training data\")\n",
        "#plot testing set in green\n",
        "plt.scatter(X_test,y_test,c=\"g\",label=\"Testing data\")\n",
        "#show legend\n",
        "plt.legend();"
      ],
      "metadata": {
        "colab": {
          "base_uri": "https://localhost:8080/",
          "height": 599
        },
        "id": "ewIx-xgbALZU",
        "outputId": "13f6d6ca-d3a9-45c2-a216-c74c205ac9fb"
      },
      "execution_count": null,
      "outputs": [
        {
          "output_type": "display_data",
          "data": {
            "text/plain": [
              "<Figure size 1000x700 with 1 Axes>"
            ],
            "image/png": "[encoded data removed]"
          },
          "metadata": {}
        }
      ]
    },
    {
      "cell_type": "code",
      "source": [
        "#let's have a look at how to build a neural network for our data\n",
        "# 1. create a model\n",
        "model= tf.keras.Sequential([\n",
        "    tf.keras.layers.Dense(1)\n",
        "])\n",
        "# 2.compile model\n",
        "model.compile(loss= tf.keras.losses.mae,\n",
        "              optimizer= tf.keras.optimizers.SGD(),\n",
        "              metrics=[\"mae\"])\n",
        "# 3.fit the model\n",
        "#model.fit(X_train, y_train, epochs=100,verbose=0)\n"
      ],
      "metadata": {
        "id": "rRMt6489BhOW"
      },
      "execution_count": null,
      "outputs": []
    },
    {
      "cell_type": "markdown",
      "source": [
        "### Visualizing our model\n"
      ],
      "metadata": {
        "id": "VUy7PRvY36nN"
      }
    },
    {
      "cell_type": "code",
      "source": [
        "model.summary()\n",
        "#you need to build the model before using this method"
      ],
      "metadata": {
        "id": "-chKXhXw36Eb"
      },
      "execution_count": null,
      "outputs": []
    },
    {
      "cell_type": "code",
      "source": [
        "#model that builds automatically by defining the input_shape argument\n",
        "tf.random.set_seed(42)\n",
        "model= tf.keras.Sequential([\n",
        "    tf.keras.layers.Dense(5, input_shape=[1], name=\"input_layer_01\"),\n",
        "    tf.keras.layers.Dense(5, input_shape=[1], name=\"input_layer_02\"),\n",
        "    tf.keras.layers.Dense(5, input_shape=[1], name=\"input_layer_03\"),\n",
        "    tf.keras.layers.Dense(1, name=\"output_layer\"),\n",
        "], name=\"model_1\")\n",
        "model.compile(loss=tf.keras.losses.mae,\n",
        "              optimizer=tf.keras.optimizers.Adam(learning_rate=0.001),\n",
        "              metrics=[\"mae\"])\n"
      ],
      "metadata": {
        "id": "6tjv4_4L4QtM"
      },
      "execution_count": null,
      "outputs": []
    },
    {
      "cell_type": "code",
      "source": [
        "model.summary()"
      ],
      "metadata": {
        "colab": {
          "base_uri": "https://localhost:8080/"
        },
        "id": "-QHNVAko4TM6",
        "outputId": "45cb6164-aec1-4c99-c1b8-df35b57ba16c"
      },
      "execution_count": null,
      "outputs": [
        {
          "output_type": "stream",
          "name": "stdout",
          "text": [
            "Model: \"model_1\"\n",
            "_________________________________________________________________\n",
            " Layer (type)                Output Shape              Param #   \n",
            "=================================================================\n",
            " input_layer_01 (Dense)      (None, 5)                 10        \n",
            "                                                                 \n",
            " input_layer_02 (Dense)      (None, 5)                 30        \n",
            "                                                                 \n",
            " input_layer_03 (Dense)      (None, 5)                 30        \n",
            "                                                                 \n",
            " output_layer (Dense)        (None, 1)                 6         \n",
            "                                                                 \n",
            "=================================================================\n",
            "Total params: 76 (304.00 Byte)\n",
            "Trainable params: 76 (304.00 Byte)\n",
            "Non-trainable params: 0 (0.00 Byte)\n",
            "_________________________________________________________________\n"
          ]
        }
      ]
    },
    {
      "cell_type": "markdown",
      "source": [
        "* total params- total no. of parametres in the model.\n",
        "* trainable params- parametres/patterns our model can train or update\n",
        "* non-trainable params- these parametres are not updated during training(this is typical when you bring in already larned patterns or parametres from other models during **transfer learning**)\n"
      ],
      "metadata": {
        "id": "POZUdNt45mrA"
      }
    },
    {
      "cell_type": "code",
      "source": [
        "# let's fit our model to the training data\n",
        "model.fit(X_train,y_train, epochs=500, verbose=0)"
      ],
      "metadata": {
        "colab": {
          "base_uri": "https://localhost:8080/"
        },
        "id": "UivVoA4a5R4Z",
        "outputId": "7b95b0fd-51c1-472c-e78a-aeebed875f85"
      },
      "execution_count": null,
      "outputs": [
        {
          "output_type": "execute_result",
          "data": {
            "text/plain": [
              "<keras.src.callbacks.History at 0x784dde86ceb0>"
            ]
          },
          "metadata": {},
          "execution_count": 23
        }
      ]
    },
    {
      "cell_type": "code",
      "source": [
        "#get summary of our model\n",
        "model.summary()"
      ],
      "metadata": {
        "colab": {
          "base_uri": "https://localhost:8080/"
        },
        "id": "jf0Mz4Z07oy9",
        "outputId": "9811cf65-6a61-4f48-f9f1-2ddf5c004748"
      },
      "execution_count": null,
      "outputs": [
        {
          "output_type": "stream",
          "name": "stdout",
          "text": [
            "Model: \"model_1\"\n",
            "_________________________________________________________________\n",
            " Layer (type)                Output Shape              Param #   \n",
            "=================================================================\n",
            " input_layer_01 (Dense)      (None, 5)                 10        \n",
            "                                                                 \n",
            " input_layer_02 (Dense)      (None, 5)                 30        \n",
            "                                                                 \n",
            " input_layer_03 (Dense)      (None, 5)                 30        \n",
            "                                                                 \n",
            " output_layer (Dense)        (None, 1)                 6         \n",
            "                                                                 \n",
            "=================================================================\n",
            "Total params: 76 (304.00 Byte)\n",
            "Trainable params: 76 (304.00 Byte)\n",
            "Non-trainable params: 0 (0.00 Byte)\n",
            "_________________________________________________________________\n"
          ]
        }
      ]
    },
    {
      "cell_type": "code",
      "source": [
        "#plot our model\n",
        "from tensorflow.keras.utils import plot_model\n",
        "plot_model(model=model, show_shapes=True)\n"
      ],
      "metadata": {
        "colab": {
          "base_uri": "https://localhost:8080/",
          "height": 533
        },
        "id": "83NOIeyS8QL9",
        "outputId": "27d01e02-1b35-4f83-9b88-df21bf6340d0"
      },
      "execution_count": null,
      "outputs": [
        {
          "output_type": "execute_result",
          "data": {
            "image/png": "[encoded data removed]",
            "text/plain": [
              "<IPython.core.display.Image object>"
            ]
          },
          "metadata": {},
          "execution_count": 25
        }
      ]
    },
    {
      "cell_type": "markdown",
      "source": [
        "### Visualizing our Model's predcitions\n",
        "to visualize models, it's a good idea to plot them against ground truth\n",
        "ie \"y_test\" or \"y_true\" vs \"y_pred\""
      ],
      "metadata": {
        "id": "l_AbaDIm9IGQ"
      }
    },
    {
      "cell_type": "code",
      "source": [
        "#make some predictions\n",
        "y_pred= model.predict(X_test)\n",
        "y_pred"
      ],
      "metadata": {
        "colab": {
          "base_uri": "https://localhost:8080/"
        },
        "id": "B9izKKwa-3fR",
        "outputId": "c194936e-296c-4728-d9f4-a20635da603c"
      },
      "execution_count": null,
      "outputs": [
        {
          "output_type": "stream",
          "name": "stdout",
          "text": [
            "1/1 [==============================] - 0s 71ms/step\n"
          ]
        },
        {
          "output_type": "execute_result",
          "data": {
            "text/plain": [
              "array([[60.02871 ],\n",
              "       [64.03048 ],\n",
              "       [68.03225 ],\n",
              "       [72.03401 ],\n",
              "       [76.03577 ],\n",
              "       [80.037544],\n",
              "       [84.039314],\n",
              "       [88.04108 ],\n",
              "       [92.04283 ],\n",
              "       [96.04461 ]], dtype=float32)"
            ]
          },
          "metadata": {},
          "execution_count": 26
        }
      ]
    },
    {
      "cell_type": "code",
      "source": [
        "y_test"
      ],
      "metadata": {
        "colab": {
          "base_uri": "https://localhost:8080/"
        },
        "id": "SEm92-w5AJ-6",
        "outputId": "ade3aba7-8846-4fe2-c895-682d54a6777f"
      },
      "execution_count": null,
      "outputs": [
        {
          "output_type": "execute_result",
          "data": {
            "text/plain": [
              "<tf.Tensor: shape=(10,), dtype=int32, numpy=array([60, 64, 68, 72, 76, 80, 84, 88, 92, 96], dtype=int32)>"
            ]
          },
          "metadata": {},
          "execution_count": 27
        }
      ]
    },
    {
      "cell_type": "code",
      "source": [
        "# Let's create a plotting function\n",
        "def plot_predictions(train_data= X_train,\n",
        "                     train_labels= y_train,\n",
        "                     test_data=X_test,\n",
        "                     test_labels=y_test,\n",
        "                     predictions=y_pred):\n",
        "  \"\"\"\n",
        "  plots training data, test data and compares predictions to ground truth labels\n",
        "  \"\"\"\n",
        "  plt.figure(figsize=(10,7))\n",
        "  #plot traning data in blue\n",
        "  plt.scatter(train_data,train_labels, c=\"b\", label=\"Training data\")\n",
        "  #plot testing data in green\n",
        "  plt.scatter(test_data,test_labels, c=\"g\",label=\"Testing data\")\n",
        "  #plot model's prediction in red\n",
        "  plt.scatter(test_data, predictions, c=\"r\", label=\"Predictions\")\n",
        "\n",
        "  #show the legend\n",
        "  plt.legend();\n"
      ],
      "metadata": {
        "id": "Iho7KqLIARfh"
      },
      "execution_count": null,
      "outputs": []
    },
    {
      "cell_type": "code",
      "source": [
        "plot_predictions()"
      ],
      "metadata": {
        "colab": {
          "base_uri": "https://localhost:8080/",
          "height": 599
        },
        "id": "kZwULTSYCWjM",
        "outputId": "4a2151fc-2b23-43d4-92ff-cd82363c6ab6"
      },
      "execution_count": null,
      "outputs": [
        {
          "output_type": "display_data",
          "data": {
            "text/plain": [
              "<Figure size 1000x700 with 1 Axes>"
            ],
            "image/png": "[encoded data removed]"
          },
          "metadata": {}
        }
      ]
    },
    {
      "cell_type": "markdown",
      "source": [
        "###Evaluating our model's predictions with regression evaluation metrics\n",
        "Depending on the problem we are working on, there can be different types of evaluation metrics.\n",
        "* for regression, two major metrics for evaluation is:\n",
        "* MAE- Mean Absolute Error \"on average, how wrong is each of my model's predictions\"\n",
        "* MSE- Mean Square Error \"square the avg errors\"\n"
      ],
      "metadata": {
        "id": "Z9-f-LfnCZYR"
      }
    },
    {
      "cell_type": "code",
      "source": [
        "#evaluate the model on the test\n",
        "model.evaluate(X_test,y_test)"
      ],
      "metadata": {
        "colab": {
          "base_uri": "https://localhost:8080/"
        },
        "id": "lyqdjFf-C8_E",
        "outputId": "bec5989e-1fd8-4b2d-f2f1-9c0f8e237fe6"
      },
      "execution_count": null,
      "outputs": [
        {
          "output_type": "stream",
          "name": "stdout",
          "text": [
            "1/1 [==============================] - 0s 183ms/step - loss: 0.0367 - mae: 0.0367\n"
          ]
        },
        {
          "output_type": "execute_result",
          "data": {
            "text/plain": [
              "[0.03665962070226669, 0.03665962070226669]"
            ]
          },
          "metadata": {},
          "execution_count": 30
        }
      ]
    },
    {
      "cell_type": "code",
      "source": [
        "#calculate the mean absolute error\n",
        "tf.metrics.mean_absolute_error(y_test,y_pred)"
      ],
      "metadata": {
        "colab": {
          "base_uri": "https://localhost:8080/"
        },
        "id": "Kh7aM7GnHbjP",
        "outputId": "9d27b995-e71d-4be5-af0b-3bfccf533b6a"
      },
      "execution_count": null,
      "outputs": [
        {
          "output_type": "execute_result",
          "data": {
            "text/plain": [
              "<tf.Tensor: shape=(10,), dtype=float32, numpy=\n",
              "array([17.977032, 14.781713, 12.3871  , 10.793198, 10.      , 10.007509,\n",
              "       10.815725, 12.424646, 14.834265, 18.04461 ], dtype=float32)>"
            ]
          },
          "metadata": {},
          "execution_count": 31
        }
      ]
    },
    {
      "cell_type": "code",
      "source": [
        "y_test"
      ],
      "metadata": {
        "colab": {
          "base_uri": "https://localhost:8080/"
        },
        "id": "S-M1BmkEH1Xd",
        "outputId": "6c2eb556-cf4a-4f22-a538-3ea527161f93"
      },
      "execution_count": null,
      "outputs": [
        {
          "output_type": "execute_result",
          "data": {
            "text/plain": [
              "<tf.Tensor: shape=(10,), dtype=int32, numpy=array([60, 64, 68, 72, 76, 80, 84, 88, 92, 96], dtype=int32)>"
            ]
          },
          "metadata": {},
          "execution_count": 32
        }
      ]
    },
    {
      "cell_type": "code",
      "source": [
        "tf.constant(y_pred)"
      ],
      "metadata": {
        "colab": {
          "base_uri": "https://localhost:8080/"
        },
        "id": "2PAYJiryIJs3",
        "outputId": "30edcc11-5ced-436b-aafc-79f206ee5c76"
      },
      "execution_count": null,
      "outputs": [
        {
          "output_type": "execute_result",
          "data": {
            "text/plain": [
              "<tf.Tensor: shape=(10, 1), dtype=float32, numpy=\n",
              "array([[60.02871 ],\n",
              "       [64.03048 ],\n",
              "       [68.03225 ],\n",
              "       [72.03401 ],\n",
              "       [76.03577 ],\n",
              "       [80.037544],\n",
              "       [84.039314],\n",
              "       [88.04108 ],\n",
              "       [92.04283 ],\n",
              "       [96.04461 ]], dtype=float32)>"
            ]
          },
          "metadata": {},
          "execution_count": 33
        }
      ]
    },
    {
      "cell_type": "code",
      "source": [
        "tf.squeeze(y_pred)"
      ],
      "metadata": {
        "colab": {
          "base_uri": "https://localhost:8080/"
        },
        "id": "DReQxr8YIK9o",
        "outputId": "3547ab32-ccf1-4e1c-bb78-d42654546487"
      },
      "execution_count": null,
      "outputs": [
        {
          "output_type": "execute_result",
          "data": {
            "text/plain": [
              "<tf.Tensor: shape=(10,), dtype=float32, numpy=\n",
              "array([60.02871 , 64.03048 , 68.03225 , 72.03401 , 76.03577 , 80.037544,\n",
              "       84.039314, 88.04108 , 92.04283 , 96.04461 ], dtype=float32)>"
            ]
          },
          "metadata": {},
          "execution_count": 34
        }
      ]
    },
    {
      "cell_type": "code",
      "source": [
        "tf.metrics.mean_absolute_error(y_test,tf.squeeze(y_pred))"
      ],
      "metadata": {
        "colab": {
          "base_uri": "https://localhost:8080/"
        },
        "id": "Oqsj_DesJtAi",
        "outputId": "73902b68-ea2f-4848-e2d9-e2506c5162b9"
      },
      "execution_count": null,
      "outputs": [
        {
          "output_type": "execute_result",
          "data": {
            "text/plain": [
              "<tf.Tensor: shape=(), dtype=float32, numpy=0.03665924>"
            ]
          },
          "metadata": {},
          "execution_count": 35
        }
      ]
    },
    {
      "cell_type": "code",
      "source": [
        "#Mean Square Error\n",
        "tf.metrics.mean_squared_error(y_test, tf.squeeze(y_pred))"
      ],
      "metadata": {
        "colab": {
          "base_uri": "https://localhost:8080/"
        },
        "id": "2w0-bEvSJ1Ke",
        "outputId": "a8f8b9d9-69e2-4cca-ed76-15b361882f0c"
      },
      "execution_count": null,
      "outputs": [
        {
          "output_type": "execute_result",
          "data": {
            "text/plain": [
              "<tf.Tensor: shape=(), dtype=float32, numpy=0.0013696282>"
            ]
          },
          "metadata": {},
          "execution_count": 36
        }
      ]
    },
    {
      "cell_type": "code",
      "source": [
        "# Make some functions for MAE and MSE\n",
        "\n",
        "def mae(y_true, y_pred):\n",
        "  return tf.metrics.mean_absolute_error(y_true=y_true, y_pred=tf.squeeze(y_pred))\n",
        "\n",
        "def mse(y_true, y_pred):\n",
        "  return tf.metrics.mean_squared_error(y_true=y_true, y_pred=tf.squeeze(y_pred))\n"
      ],
      "metadata": {
        "id": "H_Xi3Pp7KW-i"
      },
      "execution_count": null,
      "outputs": []
    },
    {
      "cell_type": "markdown",
      "source": [
        "### Running experiments on the model\n",
        "* get more data\n",
        "* make the model larger (more complex)\n",
        "* train longer\n",
        "\n",
        "tweak the model:\n",
        "* increase layers\n",
        "* increase epochs\n",
        "* mae, mse"
      ],
      "metadata": {
        "id": "Dmyfl5gqMoJN"
      }
    },
    {
      "cell_type": "markdown",
      "source": [
        "### Model-1\n",
        "1 layer, trained for 100 epochs"
      ],
      "metadata": {
        "id": "NN6R7fhPNbSA"
      }
    },
    {
      "cell_type": "code",
      "source": [
        "#create a model\n",
        "model= tf.keras.Sequential([\n",
        "    tf.keras.layers.Dense(1,input_shape=[1], name=\"output_layer\")\n",
        "])\n",
        "model.compile(loss=tf.keras.losses.mae,\n",
        "              optimizer=tf.keras.optimizers.SGD(),\n",
        "              metrics=[\"mae\"])\n",
        "model.fit(X_train,y_train, epochs=100,verbose=0)"
      ],
      "metadata": {
        "colab": {
          "base_uri": "https://localhost:8080/"
        },
        "id": "vw9VccG5L1wo",
        "outputId": "f99e5add-42a4-4372-bbe3-f5818af61685"
      },
      "execution_count": null,
      "outputs": [
        {
          "output_type": "execute_result",
          "data": {
            "text/plain": [
              "<keras.src.callbacks.History at 0x784ddc224cd0>"
            ]
          },
          "metadata": {},
          "execution_count": 38
        }
      ]
    },
    {
      "cell_type": "code",
      "source": [
        "y_pred_1= model.predict(X_test)\n",
        "y_pred_1"
      ],
      "metadata": {
        "colab": {
          "base_uri": "https://localhost:8080/"
        },
        "id": "tb14AL-KOZxs",
        "outputId": "842bcb61-325f-4fc9-f8dd-b8b83406a79f"
      },
      "execution_count": null,
      "outputs": [
        {
          "output_type": "stream",
          "name": "stdout",
          "text": [
            "1/1 [==============================] - 0s 46ms/step\n"
          ]
        },
        {
          "output_type": "execute_result",
          "data": {
            "text/plain": [
              "array([[34.354923],\n",
              "       [36.644814],\n",
              "       [38.934704],\n",
              "       [41.224594],\n",
              "       [43.514484],\n",
              "       [45.804375],\n",
              "       [48.09427 ],\n",
              "       [50.38416 ],\n",
              "       [52.67405 ],\n",
              "       [54.96394 ]], dtype=float32)"
            ]
          },
          "metadata": {},
          "execution_count": 39
        }
      ]
    },
    {
      "cell_type": "code",
      "source": [
        "y_test"
      ],
      "metadata": {
        "colab": {
          "base_uri": "https://localhost:8080/"
        },
        "id": "0LupFalVOefu",
        "outputId": "8f76778f-ff8d-4ad8-b290-ce2436b17ecc"
      },
      "execution_count": null,
      "outputs": [
        {
          "output_type": "execute_result",
          "data": {
            "text/plain": [
              "<tf.Tensor: shape=(10,), dtype=int32, numpy=array([60, 64, 68, 72, 76, 80, 84, 88, 92, 96], dtype=int32)>"
            ]
          },
          "metadata": {},
          "execution_count": 40
        }
      ]
    },
    {
      "cell_type": "code",
      "source": [
        "mae_1= mae(y_test,y_pred_1)\n",
        "mse_1= mse(y_test, y_pred_1)\n",
        "mae_1, mse_1"
      ],
      "metadata": {
        "colab": {
          "base_uri": "https://localhost:8080/"
        },
        "id": "OTi7rL3sOpUH",
        "outputId": "0d2f3137-2acc-4b99-e124-20ee3ea1ca97"
      },
      "execution_count": null,
      "outputs": [
        {
          "output_type": "execute_result",
          "data": {
            "text/plain": [
              "(<tf.Tensor: shape=(), dtype=float32, numpy=33.34057>,\n",
              " <tf.Tensor: shape=(), dtype=float32, numpy=1135.7205>)"
            ]
          },
          "metadata": {},
          "execution_count": 41
        }
      ]
    },
    {
      "cell_type": "code",
      "source": [
        "plot_predictions(predictions=y_pred_1)"
      ],
      "metadata": {
        "colab": {
          "base_uri": "https://localhost:8080/",
          "height": 599
        },
        "id": "d9l1dJ-lOsHf",
        "outputId": "f9f1b011-9d17-44b9-e6e8-e42b11b96871"
      },
      "execution_count": null,
      "outputs": [
        {
          "output_type": "display_data",
          "data": {
            "text/plain": [
              "<Figure size 1000x700 with 1 Axes>"
            ],
            "image/png": "[encoded data removed]"
          },
          "metadata": {}
        }
      ]
    },
    {
      "cell_type": "markdown",
      "source": [
        "### Model2\n",
        "2 layers and 100 epochs\n"
      ],
      "metadata": {
        "id": "3bPYPMkRQRkC"
      }
    },
    {
      "cell_type": "code",
      "source": [
        "model_2= tf.keras.Sequential([\n",
        "    tf.keras.layers.Dense(10,input_shape=[1],name=\"input_layers\"),\n",
        "    tf.keras.layers.Dense(1,input_shape=[1], name=\"output_layers\")\n",
        "])\n",
        "model_2.compile(loss=tf.keras.losses.mae,\n",
        "              optimizer=tf.keras.optimizers.SGD(),\n",
        "              metrics=[\"mae\"])\n",
        "model_2.fit(X_train,y_train,epochs=100, verbose=0)\n"
      ],
      "metadata": {
        "colab": {
          "base_uri": "https://localhost:8080/"
        },
        "id": "LtoKJQCGPOsT",
        "outputId": "78221703-65f5-436d-d18f-0ae727d06482"
      },
      "execution_count": null,
      "outputs": [
        {
          "output_type": "execute_result",
          "data": {
            "text/plain": [
              "<keras.src.callbacks.History at 0x784ddca63790>"
            ]
          },
          "metadata": {},
          "execution_count": 43
        }
      ]
    },
    {
      "cell_type": "code",
      "source": [
        "y_pred_2=model_2.predict(X_test)\n",
        "y_pred_2"
      ],
      "metadata": {
        "colab": {
          "base_uri": "https://localhost:8080/"
        },
        "id": "X00iata_Q814",
        "outputId": "c20956d9-61fe-4392-9f9e-8fbf2630459f"
      },
      "execution_count": null,
      "outputs": [
        {
          "output_type": "stream",
          "name": "stderr",
          "text": [
            "WARNING:tensorflow:5 out of the last 5 calls to <function Model.make_predict_function.<locals>.predict_function at 0x784ddd336dd0> triggered tf.function retracing. Tracing is expensive and the excessive number of tracings could be due to (1) creating @tf.function repeatedly in a loop, (2) passing tensors with different shapes, (3) passing Python objects instead of tensors. For (1), please define your @tf.function outside of the loop. For (2), @tf.function has reduce_retracing=True option that can avoid unnecessary retracing. For (3), please refer to https://www.tensorflow.org/guide/function#controlling_retracing and https://www.tensorflow.org/api_docs/python/tf/function for  more details.\n"
          ]
        },
        {
          "output_type": "stream",
          "name": "stdout",
          "text": [
            "1/1 [==============================] - 0s 284ms/step\n"
          ]
        },
        {
          "output_type": "execute_result",
          "data": {
            "text/plain": [
              "array([[ 67.24737 ],\n",
              "       [ 71.73936 ],\n",
              "       [ 76.231346],\n",
              "       [ 80.72333 ],\n",
              "       [ 85.21533 ],\n",
              "       [ 89.70732 ],\n",
              "       [ 94.19931 ],\n",
              "       [ 98.6913  ],\n",
              "       [103.18328 ],\n",
              "       [107.67528 ]], dtype=float32)"
            ]
          },
          "metadata": {},
          "execution_count": 44
        }
      ]
    },
    {
      "cell_type": "code",
      "source": [
        "y_test"
      ],
      "metadata": {
        "colab": {
          "base_uri": "https://localhost:8080/"
        },
        "id": "7bNtVtO-RH_3",
        "outputId": "8d6371a0-ae6c-4e4b-c61b-1168428832e3"
      },
      "execution_count": null,
      "outputs": [
        {
          "output_type": "execute_result",
          "data": {
            "text/plain": [
              "<tf.Tensor: shape=(10,), dtype=int32, numpy=array([60, 64, 68, 72, 76, 80, 84, 88, 92, 96], dtype=int32)>"
            ]
          },
          "metadata": {},
          "execution_count": 45
        }
      ]
    },
    {
      "cell_type": "code",
      "source": [
        "\n",
        "plot_predictions(predictions=y_pred_2)"
      ],
      "metadata": {
        "colab": {
          "base_uri": "https://localhost:8080/",
          "height": 599
        },
        "id": "yLNIlqz4RKko",
        "outputId": "82ab588e-dd8a-4786-9c16-559d1d10acb7"
      },
      "execution_count": null,
      "outputs": [
        {
          "output_type": "display_data",
          "data": {
            "text/plain": [
              "<Figure size 1000x700 with 1 Axes>"
            ],
            "image/png": "[encoded data removed]"
          },
          "metadata": {}
        }
      ]
    },
    {
      "cell_type": "code",
      "source": [
        "mae_2= mae(y_test,y_pred_2)\n",
        "mse_2= mse(y_test,y_pred_2)\n",
        "mae_2, mse_2"
      ],
      "metadata": {
        "colab": {
          "base_uri": "https://localhost:8080/"
        },
        "id": "J89QYIAHRRXn",
        "outputId": "3de39b4b-d165-4285-91c7-f8f2a12e4f94"
      },
      "execution_count": null,
      "outputs": [
        {
          "output_type": "execute_result",
          "data": {
            "text/plain": [
              "(<tf.Tensor: shape=(), dtype=float32, numpy=9.461322>,\n",
              " <tf.Tensor: shape=(), dtype=float32, numpy=91.51356>)"
            ]
          },
          "metadata": {},
          "execution_count": 47
        }
      ]
    },
    {
      "cell_type": "markdown",
      "source": [
        "### Model 3\n",
        "2 layers and 500 epochs"
      ],
      "metadata": {
        "id": "cPTFnrWKRrkv"
      }
    },
    {
      "cell_type": "code",
      "source": [
        "\n",
        "\n",
        "#set random seed\n",
        "tf.random.set_seed(42)\n",
        "\n",
        "# create a model\n",
        "model_3= tf.keras.Sequential([\n",
        "    tf.keras.layers.Dense(1, input_shape=[1],name=\"input_layers\"),\n",
        "    tf.keras.layers.Dense(1, input_shape=[1], name=\"output_layers\")\n",
        "])\n",
        "model_3.compile(loss=tf.keras.losses.mae,\n",
        "                optimizer=tf.keras.optimizers.Adam(learning_rate=0.001),\n",
        "                metrics=[\"mae\"])\n",
        "model_3.fit(X_train,y_train,epochs=500, verbose=0)"
      ],
      "metadata": {
        "colab": {
          "base_uri": "https://localhost:8080/"
        },
        "id": "la-39AWVRnpx",
        "outputId": "eb3fa0a3-403b-4a7e-8a62-0ccfe8d20e2a"
      },
      "execution_count": null,
      "outputs": [
        {
          "output_type": "execute_result",
          "data": {
            "text/plain": [
              "<keras.src.callbacks.History at 0x784ddc9ac6a0>"
            ]
          },
          "metadata": {},
          "execution_count": 48
        }
      ]
    },
    {
      "cell_type": "code",
      "source": [
        "y_pred_3= model_3.predict(X_test)\n",
        "y_pred_3"
      ],
      "metadata": {
        "colab": {
          "base_uri": "https://localhost:8080/"
        },
        "id": "4VsCu7p4SVTy",
        "outputId": "ea1a24e1-1616-4153-c0dd-e0b417820dac"
      },
      "execution_count": null,
      "outputs": [
        {
          "output_type": "stream",
          "name": "stderr",
          "text": [
            "WARNING:tensorflow:6 out of the last 6 calls to <function Model.make_predict_function.<locals>.predict_function at 0x784ddd3af520> triggered tf.function retracing. Tracing is expensive and the excessive number of tracings could be due to (1) creating @tf.function repeatedly in a loop, (2) passing tensors with different shapes, (3) passing Python objects instead of tensors. For (1), please define your @tf.function outside of the loop. For (2), @tf.function has reduce_retracing=True option that can avoid unnecessary retracing. For (3), please refer to https://www.tensorflow.org/guide/function#controlling_retracing and https://www.tensorflow.org/api_docs/python/tf/function for  more details.\n"
          ]
        },
        {
          "output_type": "stream",
          "name": "stdout",
          "text": [
            "1/1 [==============================] - 1s 1s/step\n"
          ]
        },
        {
          "output_type": "execute_result",
          "data": {
            "text/plain": [
              "array([[60.003593],\n",
              "       [64.0038  ],\n",
              "       [68.004   ],\n",
              "       [72.004196],\n",
              "       [76.00439 ],\n",
              "       [80.004585],\n",
              "       [84.00478 ],\n",
              "       [88.00498 ],\n",
              "       [92.00518 ],\n",
              "       [96.00539 ]], dtype=float32)"
            ]
          },
          "metadata": {},
          "execution_count": 49
        }
      ]
    },
    {
      "cell_type": "code",
      "source": [
        "y_test"
      ],
      "metadata": {
        "colab": {
          "base_uri": "https://localhost:8080/"
        },
        "id": "pRMGBMuaTOTV",
        "outputId": "a9ed7d78-3aa8-43a8-d812-faf3d0f73dae"
      },
      "execution_count": null,
      "outputs": [
        {
          "output_type": "execute_result",
          "data": {
            "text/plain": [
              "<tf.Tensor: shape=(10,), dtype=int32, numpy=array([60, 64, 68, 72, 76, 80, 84, 88, 92, 96], dtype=int32)>"
            ]
          },
          "metadata": {},
          "execution_count": 50
        }
      ]
    },
    {
      "cell_type": "code",
      "source": [
        "mae_3= mae(y_test,y_pred_3)\n",
        "mse_3= mse(y_test,y_pred_3)\n",
        "mae_3,mse_3"
      ],
      "metadata": {
        "colab": {
          "base_uri": "https://localhost:8080/"
        },
        "id": "rkBIT5C7TQ9E",
        "outputId": "a82d0482-a418-4247-b4df-8dc2c5d9cfad"
      },
      "execution_count": null,
      "outputs": [
        {
          "output_type": "execute_result",
          "data": {
            "text/plain": [
              "(<tf.Tensor: shape=(), dtype=float32, numpy=0.004489136>,\n",
              " <tf.Tensor: shape=(), dtype=float32, numpy=2.0476069e-05>)"
            ]
          },
          "metadata": {},
          "execution_count": 51
        }
      ]
    },
    {
      "cell_type": "code",
      "source": [
        "plot_predictions(predictions= y_pred_3)"
      ],
      "metadata": {
        "colab": {
          "base_uri": "https://localhost:8080/",
          "height": 599
        },
        "id": "g3OqjGNITVzz",
        "outputId": "19dd34f8-f5be-45d1-fddf-2999d4c7ddda"
      },
      "execution_count": null,
      "outputs": [
        {
          "output_type": "display_data",
          "data": {
            "text/plain": [
              "<Figure size 1000x700 with 1 Axes>"
            ],
            "image/png": "[encoded data removed]"
          },
          "metadata": {}
        }
      ]
    },
    {
      "cell_type": "markdown",
      "source": [
        "## Comparing the results of our model\n",
        "\n",
        "We have run a few experiments, let's see by comparing their results"
      ],
      "metadata": {
        "id": "_YIRp7bvTnIY"
      }
    },
    {
      "cell_type": "code",
      "source": [
        "# Let's compare our models result using pandas Dataframe\n",
        "import pandas as pd\n",
        "model_results= [[\"model_1\",mae_1.numpy(), mse_1.numpy()],\n",
        "                [\"model_2\", mae_2.numpy(), mse_2.numpy()],\n",
        "                [\"model_3\", mae_3.numpy(), mse_3.numpy()]]\n",
        "\n",
        "all_results= pd.DataFrame(model_results, columns=[\"model\",\"mae\",\"mse\"])\n",
        "all_results\n"
      ],
      "metadata": {
        "colab": {
          "base_uri": "https://localhost:8080/",
          "height": 143
        },
        "id": "DWgw4GhKNTSD",
        "outputId": "c9ca31a6-4f44-47e4-a6ff-ee397b5bcb91"
      },
      "execution_count": null,
      "outputs": [
        {
          "output_type": "execute_result",
          "data": {
            "text/plain": [
              "     model        mae          mse\n",
              "0  model_1  33.340569  1135.720459\n",
              "1  model_2   9.461322    91.513557\n",
              "2  model_3   0.004489     0.000020"
            ],
            "text/html": [
              "\n",
              "  <div id=\"df-01379fbf-0422-4f31-a664-368d627cc89b\" class=\"colab-df-container\">\n",
              "    <div>\n",
              "<style scoped>\n",
              "    .dataframe tbody tr th:only-of-type {\n",
              "        vertical-align: middle;\n",
              "    }\n",
              "\n",
              "    .dataframe tbody tr th {\n",
              "        vertical-align: top;\n",
              "    }\n",
              "\n",
              "    .dataframe thead th {\n",
              "        text-align: right;\n",
              "    }\n",
              "</style>\n",
              "<table border=\"1\" class=\"dataframe\">\n",
              "  <thead>\n",
              "    <tr style=\"text-align: right;\">\n",
              "      <th></th>\n",
              "      <th>model</th>\n",
              "      <th>mae</th>\n",
              "      <th>mse</th>\n",
              "    </tr>\n",
              "  </thead>\n",
              "  <tbody>\n",
              "    <tr>\n",
              "      <th>0</th>\n",
              "      <td>model_1</td>\n",
              "      <td>33.340569</td>\n",
              "      <td>1135.720459</td>\n",
              "    </tr>\n",
              "    <tr>\n",
              "      <th>1</th>\n",
              "      <td>model_2</td>\n",
              "      <td>9.461322</td>\n",
              "      <td>91.513557</td>\n",
              "    </tr>\n",
              "    <tr>\n",
              "      <th>2</th>\n",
              "      <td>model_3</td>\n",
              "      <td>0.004489</td>\n",
              "      <td>0.000020</td>\n",
              "    </tr>\n",
              "  </tbody>\n",
              "</table>\n",
              "</div>\n",
              "    <div class=\"colab-df-buttons\">\n",
              "\n",
              "  <div class=\"colab-df-container\">\n",
              "    <button class=\"colab-df-convert\" onclick=\"convertToInteractive('df-01379fbf-0422-4f31-a664-368d627cc89b')\"\n",
              "            title=\"Convert this dataframe to an interactive table.\"\n",
              "            style=\"display:none;\">\n",
              "\n",
              "  <svg xmlns=\"http://www.w3.org/2000/svg\" height=\"24px\" viewBox=\"0 -960 960 960\">\n",
              "    <path d=\"M120-120v-720h720v720H120Zm60-500h600v-160H180v160Zm220 220h160v-160H400v160Zm0 220h160v-160H400v160ZM180-400h160v-160H180v160Zm440 0h160v-160H620v160ZM180-180h160v-160H180v160Zm440 0h160v-160H620v160Z\"/>\n",
              "  </svg>\n",
              "    </button>\n",
              "\n",
              "  <style>\n",
              "    .colab-df-container {\n",
              "      display:flex;\n",
              "      gap: 12px;\n",
              "    }\n",
              "\n",
              "    .colab-df-convert {\n",
              "      background-color: #E8F0FE;\n",
              "      border: none;\n",
              "      border-radius: 50%;\n",
              "      cursor: pointer;\n",
              "      display: none;\n",
              "      fill: #1967D2;\n",
              "      height: 32px;\n",
              "      padding: 0 0 0 0;\n",
              "      width: 32px;\n",
              "    }\n",
              "\n",
              "    .colab-df-convert:hover {\n",
              "      background-color: #E2EBFA;\n",
              "      box-shadow: 0px 1px 2px rgba(60, 64, 67, 0.3), 0px 1px 3px 1px rgba(60, 64, 67, 0.15);\n",
              "      fill: #174EA6;\n",
              "    }\n",
              "\n",
              "    .colab-df-buttons div {\n",
              "      margin-bottom: 4px;\n",
              "    }\n",
              "\n",
              "    [theme=dark] .colab-df-convert {\n",
              "      background-color: #3B4455;\n",
              "      fill: #D2E3FC;\n",
              "    }\n",
              "\n",
              "    [theme=dark] .colab-df-convert:hover {\n",
              "      background-color: #434B5C;\n",
              "      box-shadow: 0px 1px 3px 1px rgba(0, 0, 0, 0.15);\n",
              "      filter: drop-shadow(0px 1px 2px rgba(0, 0, 0, 0.3));\n",
              "      fill: #FFFFFF;\n",
              "    }\n",
              "  </style>\n",
              "\n",
              "    <script>\n",
              "      const buttonEl =\n",
              "        document.querySelector('#df-01379fbf-0422-4f31-a664-368d627cc89b button.colab-df-convert');\n",
              "      buttonEl.style.display =\n",
              "        google.colab.kernel.accessAllowed ? 'block' : 'none';\n",
              "\n",
              "      async function convertToInteractive(key) {\n",
              "        const element = document.querySelector('#df-01379fbf-0422-4f31-a664-368d627cc89b');\n",
              "        const dataTable =\n",
              "          await google.colab.kernel.invokeFunction('convertToInteractive',\n",
              "                                                    [key], {});\n",
              "        if (!dataTable) return;\n",
              "\n",
              "        const docLinkHtml = 'Like what you see? Visit the ' +\n",
              "          '<a target=\"_blank\" href=https://colab.research.google.com/notebooks/data_table.ipynb>data table notebook</a>'\n",
              "          + ' to learn more about interactive tables.';\n",
              "        element.innerHTML = '';\n",
              "        dataTable['output_type'] = 'display_data';\n",
              "        await google.colab.output.renderOutput(dataTable, element);\n",
              "        const docLink = document.createElement('div');\n",
              "        docLink.innerHTML = docLinkHtml;\n",
              "        element.appendChild(docLink);\n",
              "      }\n",
              "    </script>\n",
              "  </div>\n",
              "\n",
              "\n",
              "<div id=\"df-252ea04e-0646-4036-a91f-c0709466a47b\">\n",
              "  <button class=\"colab-df-quickchart\" onclick=\"quickchart('df-252ea04e-0646-4036-a91f-c0709466a47b')\"\n",
              "            title=\"Suggest charts\"\n",
              "            style=\"display:none;\">\n",
              "\n",
              "<svg xmlns=\"http://www.w3.org/2000/svg\" height=\"24px\"viewBox=\"0 0 24 24\"\n",
              "     width=\"24px\">\n",
              "    <g>\n",
              "        <path d=\"M19 3H5c-1.1 0-2 .9-2 2v14c0 1.1.9 2 2 2h14c1.1 0 2-.9 2-2V5c0-1.1-.9-2-2-2zM9 17H7v-7h2v7zm4 0h-2V7h2v10zm4 0h-2v-4h2v4z\"/>\n",
              "    </g>\n",
              "</svg>\n",
              "  </button>\n",
              "\n",
              "<style>\n",
              "  .colab-df-quickchart {\n",
              "      --bg-color: #E8F0FE;\n",
              "      --fill-color: #1967D2;\n",
              "      --hover-bg-color: #E2EBFA;\n",
              "      --hover-fill-color: #174EA6;\n",
              "      --disabled-fill-color: #AAA;\n",
              "      --disabled-bg-color: #DDD;\n",
              "  }\n",
              "\n",
              "  [theme=dark] .colab-df-quickchart {\n",
              "      --bg-color: #3B4455;\n",
              "      --fill-color: #D2E3FC;\n",
              "      --hover-bg-color: #434B5C;\n",
              "      --hover-fill-color: #FFFFFF;\n",
              "      --disabled-bg-color: #3B4455;\n",
              "      --disabled-fill-color: #666;\n",
              "  }\n",
              "\n",
              "  .colab-df-quickchart {\n",
              "    background-color: var(--bg-color);\n",
              "    border: none;\n",
              "    border-radius: 50%;\n",
              "    cursor: pointer;\n",
              "    display: none;\n",
              "    fill: var(--fill-color);\n",
              "    height: 32px;\n",
              "    padding: 0;\n",
              "    width: 32px;\n",
              "  }\n",
              "\n",
              "  .colab-df-quickchart:hover {\n",
              "    background-color: var(--hover-bg-color);\n",
              "    box-shadow: 0 1px 2px rgba(60, 64, 67, 0.3), 0 1px 3px 1px rgba(60, 64, 67, 0.15);\n",
              "    fill: var(--button-hover-fill-color);\n",
              "  }\n",
              "\n",
              "  .colab-df-quickchart-complete:disabled,\n",
              "  .colab-df-quickchart-complete:disabled:hover {\n",
              "    background-color: var(--disabled-bg-color);\n",
              "    fill: var(--disabled-fill-color);\n",
              "    box-shadow: none;\n",
              "  }\n",
              "\n",
              "  .colab-df-spinner {\n",
              "    border: 2px solid var(--fill-color);\n",
              "    border-color: transparent;\n",
              "    border-bottom-color: var(--fill-color);\n",
              "    animation:\n",
              "      spin 1s steps(1) infinite;\n",
              "  }\n",
              "\n",
              "  @keyframes spin {\n",
              "    0% {\n",
              "      border-color: transparent;\n",
              "      border-bottom-color: var(--fill-color);\n",
              "      border-left-color: var(--fill-color);\n",
              "    }\n",
              "    20% {\n",
              "      border-color: transparent;\n",
              "      border-left-color: var(--fill-color);\n",
              "      border-top-color: var(--fill-color);\n",
              "    }\n",
              "    30% {\n",
              "      border-color: transparent;\n",
              "      border-left-color: var(--fill-color);\n",
              "      border-top-color: var(--fill-color);\n",
              "      border-right-color: var(--fill-color);\n",
              "    }\n",
              "    40% {\n",
              "      border-color: transparent;\n",
              "      border-right-color: var(--fill-color);\n",
              "      border-top-color: var(--fill-color);\n",
              "    }\n",
              "    60% {\n",
              "      border-color: transparent;\n",
              "      border-right-color: var(--fill-color);\n",
              "    }\n",
              "    80% {\n",
              "      border-color: transparent;\n",
              "      border-right-color: var(--fill-color);\n",
              "      border-bottom-color: var(--fill-color);\n",
              "    }\n",
              "    90% {\n",
              "      border-color: transparent;\n",
              "      border-bottom-color: var(--fill-color);\n",
              "    }\n",
              "  }\n",
              "</style>\n",
              "\n",
              "  <script>\n",
              "    async function quickchart(key) {\n",
              "      const quickchartButtonEl =\n",
              "        document.querySelector('#' + key + ' button');\n",
              "      quickchartButtonEl.disabled = true;  // To prevent multiple clicks.\n",
              "      quickchartButtonEl.classList.add('colab-df-spinner');\n",
              "      try {\n",
              "        const charts = await google.colab.kernel.invokeFunction(\n",
              "            'suggestCharts', [key], {});\n",
              "      } catch (error) {\n",
              "        console.error('Error during call to suggestCharts:', error);\n",
              "      }\n",
              "      quickchartButtonEl.classList.remove('colab-df-spinner');\n",
              "      quickchartButtonEl.classList.add('colab-df-quickchart-complete');\n",
              "    }\n",
              "    (() => {\n",
              "      let quickchartButtonEl =\n",
              "        document.querySelector('#df-252ea04e-0646-4036-a91f-c0709466a47b button');\n",
              "      quickchartButtonEl.style.display =\n",
              "        google.colab.kernel.accessAllowed ? 'block' : 'none';\n",
              "    })();\n",
              "  </script>\n",
              "</div>\n",
              "    </div>\n",
              "  </div>\n"
            ],
            "application/vnd.google.colaboratory.intrinsic+json": {
              "type": "dataframe",
              "variable_name": "all_results",
              "summary": "{\n  \"name\": \"all_results\",\n  \"rows\": 3,\n  \"fields\": [\n    {\n      \"column\": \"model\",\n      \"properties\": {\n        \"dtype\": \"string\",\n        \"num_unique_values\": 3,\n        \"samples\": [\n          \"model_1\",\n          \"model_2\",\n          \"model_3\"\n        ],\n        \"semantic_type\": \"\",\n        \"description\": \"\"\n      }\n    },\n    {\n      \"column\": \"mae\",\n      \"properties\": {\n        \"dtype\": \"float32\",\n        \"num_unique_values\": 3,\n        \"samples\": [\n          33.34056854248047,\n          9.461321830749512,\n          0.004489135928452015\n        ],\n        \"semantic_type\": \"\",\n        \"description\": \"\"\n      }\n    },\n    {\n      \"column\": \"mse\",\n      \"properties\": {\n        \"dtype\": \"float32\",\n        \"num_unique_values\": 3,\n        \"samples\": [\n          1135.720458984375,\n          91.51355743408203,\n          2.0476069039432332e-05\n        ],\n        \"semantic_type\": \"\",\n        \"description\": \"\"\n      }\n    }\n  ]\n}"
            }
          },
          "metadata": {},
          "execution_count": 53
        }
      ]
    },
    {
      "cell_type": "markdown",
      "source": [
        "### Tracking results of your experiments\n",
        "a good practice to do. But can be tedious if running a lot of experiments\n",
        "tools which can be helpful:\n",
        "* TensorBoard: a tensorflow library which helps in tracking exps\n",
        "* Weights and Biases: a tool for tracking all kinds of experiments"
      ],
      "metadata": {
        "id": "3MK4kKmrQecB"
      }
    },
    {
      "cell_type": "markdown",
      "source": [
        "## Saving our Models\n",
        "saving models help us to use our trained models outside Colab such as web application or mobile application\n",
        "* there are two main formats in which we can  save our model:\n",
        "1. SavedModel format\n",
        "2. the HDF5 format"
      ],
      "metadata": {
        "id": "I9Q49x_cRpFl"
      }
    },
    {
      "cell_type": "code",
      "source": [
        "# saving the model using SavedModel format\n",
        "model_3.save(\"best_model_SavedModel_format\")"
      ],
      "metadata": {
        "id": "fx0WGUGGPWm_"
      },
      "execution_count": null,
      "outputs": []
    },
    {
      "cell_type": "code",
      "source": [
        "#saving the model using HDF5 format\n",
        "model.save(\"best_model_HDF5_format.h5\")"
      ],
      "metadata": {
        "id": "D9CxpFepTb_1"
      },
      "execution_count": null,
      "outputs": []
    },
    {
      "cell_type": "markdown",
      "source": [
        "## Loading a saved model"
      ],
      "metadata": {
        "id": "S3d9IKbqVg-U"
      }
    },
    {
      "cell_type": "code",
      "source": [
        "#loading the SavedModel format model\n",
        "Loaded_model= tf.keras.models.load_model(\"best_model_SavedModel_format\")\n",
        "Loaded_model.summary()"
      ],
      "metadata": {
        "id": "4c131hpGUQLq"
      },
      "execution_count": null,
      "outputs": []
    },
    {
      "cell_type": "code",
      "source": [
        "model_3.summary()"
      ],
      "metadata": {
        "id": "xT8j289FWR1T"
      },
      "execution_count": null,
      "outputs": []
    },
    {
      "cell_type": "code",
      "source": [
        "model_3_preds= model_3.predict(X_test)\n",
        "Loaded_model_preds= Loaded_model.predict(X_test)\n",
        "model_3_preds == Loaded_model_preds"
      ],
      "metadata": {
        "id": "wQX7VaSCWVFz"
      },
      "execution_count": null,
      "outputs": []
    },
    {
      "cell_type": "markdown",
      "source": [
        "## Download a model (or any other file) from Google Colab\n",
        "\n",
        "* you can go to the \"files\" tab and right click on the tab on the file you're after and click \"download\"\n",
        "* code (see the cell below)\n",
        "* Saving it on google drive by connecting your drive and copying it there"
      ],
      "metadata": {
        "id": "bV5SQMquZNoE"
      }
    },
    {
      "cell_type": "code",
      "source": [
        "# Download a fil from google colab\n",
        "from google.colab import files\n",
        "files.download(\"/content/best_model_HDF5_format.h5\")"
      ],
      "metadata": {
        "id": "GAMgC7ZnXx6j"
      },
      "execution_count": null,
      "outputs": []
    },
    {
      "cell_type": "markdown",
      "source": [
        "# A larger example"
      ],
      "metadata": {
        "id": "-JXKKIKpb3fE"
      }
    },
    {
      "cell_type": "code",
      "source": [
        "import tensorflow as tf\n",
        "import pandas as pd\n",
        "import matplotlib.pyplot as plt\n",
        "\n"
      ],
      "metadata": {
        "id": "UpP3w7bgagDX"
      },
      "execution_count": null,
      "outputs": []
    },
    {
      "cell_type": "code",
      "source": [
        "## read in the insurance dataset\n",
        "insurance= pd.read_csv(\"https://raw.githubusercontent.com/stedy/Machine-Learning-with-R-datasets/master/insurance.csv\")\n",
        "insurance"
      ],
      "metadata": {
        "colab": {
          "base_uri": "https://localhost:8080/",
          "height": 423
        },
        "id": "gDskEAMP6Iln",
        "outputId": "2e966e9a-87f9-4f2a-8016-2c968aa84130"
      },
      "execution_count": null,
      "outputs": [
        {
          "output_type": "execute_result",
          "data": {
            "text/plain": [
              "      age     sex     bmi  children smoker     region      charges\n",
              "0      19  female  27.900         0    yes  southwest  16884.92400\n",
              "1      18    male  33.770         1     no  southeast   1725.55230\n",
              "2      28    male  33.000         3     no  southeast   4449.46200\n",
              "3      33    male  22.705         0     no  northwest  21984.47061\n",
              "4      32    male  28.880         0     no  northwest   3866.85520\n",
              "...   ...     ...     ...       ...    ...        ...          ...\n",
              "1333   50    male  30.970         3     no  northwest  10600.54830\n",
              "1334   18  female  31.920         0     no  northeast   2205.98080\n",
              "1335   18  female  36.850         0     no  southeast   1629.83350\n",
              "1336   21  female  25.800         0     no  southwest   2007.94500\n",
              "1337   61  female  29.070         0    yes  northwest  29141.36030\n",
              "\n",
              "[1338 rows x 7 columns]"
            ],
            "text/html": [
              "\n",
              "  <div id=\"df-1346353a-3697-40eb-ad8d-11059e7c40fc\" class=\"colab-df-container\">\n",
              "    <div>\n",
              "<style scoped>\n",
              "    .dataframe tbody tr th:only-of-type {\n",
              "        vertical-align: middle;\n",
              "    }\n",
              "\n",
              "    .dataframe tbody tr th {\n",
              "        vertical-align: top;\n",
              "    }\n",
              "\n",
              "    .dataframe thead th {\n",
              "        text-align: right;\n",
              "    }\n",
              "</style>\n",
              "<table border=\"1\" class=\"dataframe\">\n",
              "  <thead>\n",
              "    <tr style=\"text-align: right;\">\n",
              "      <th></th>\n",
              "      <th>age</th>\n",
              "      <th>sex</th>\n",
              "      <th>bmi</th>\n",
              "      <th>children</th>\n",
              "      <th>smoker</th>\n",
              "      <th>region</th>\n",
              "      <th>charges</th>\n",
              "    </tr>\n",
              "  </thead>\n",
              "  <tbody>\n",
              "    <tr>\n",
              "      <th>0</th>\n",
              "      <td>19</td>\n",
              "      <td>female</td>\n",
              "      <td>27.900</td>\n",
              "      <td>0</td>\n",
              "      <td>yes</td>\n",
              "      <td>southwest</td>\n",
              "      <td>16884.92400</td>\n",
              "    </tr>\n",
              "    <tr>\n",
              "      <th>1</th>\n",
              "      <td>18</td>\n",
              "      <td>male</td>\n",
              "      <td>33.770</td>\n",
              "      <td>1</td>\n",
              "      <td>no</td>\n",
              "      <td>southeast</td>\n",
              "      <td>1725.55230</td>\n",
              "    </tr>\n",
              "    <tr>\n",
              "      <th>2</th>\n",
              "      <td>28</td>\n",
              "      <td>male</td>\n",
              "      <td>33.000</td>\n",
              "      <td>3</td>\n",
              "      <td>no</td>\n",
              "      <td>southeast</td>\n",
              "      <td>4449.46200</td>\n",
              "    </tr>\n",
              "    <tr>\n",
              "      <th>3</th>\n",
              "      <td>33</td>\n",
              "      <td>male</td>\n",
              "      <td>22.705</td>\n",
              "      <td>0</td>\n",
              "      <td>no</td>\n",
              "      <td>northwest</td>\n",
              "      <td>21984.47061</td>\n",
              "    </tr>\n",
              "    <tr>\n",
              "      <th>4</th>\n",
              "      <td>32</td>\n",
              "      <td>male</td>\n",
              "      <td>28.880</td>\n",
              "      <td>0</td>\n",
              "      <td>no</td>\n",
              "      <td>northwest</td>\n",
              "      <td>3866.85520</td>\n",
              "    </tr>\n",
              "    <tr>\n",
              "      <th>...</th>\n",
              "      <td>...</td>\n",
              "      <td>...</td>\n",
              "      <td>...</td>\n",
              "      <td>...</td>\n",
              "      <td>...</td>\n",
              "      <td>...</td>\n",
              "      <td>...</td>\n",
              "    </tr>\n",
              "    <tr>\n",
              "      <th>1333</th>\n",
              "      <td>50</td>\n",
              "      <td>male</td>\n",
              "      <td>30.970</td>\n",
              "      <td>3</td>\n",
              "      <td>no</td>\n",
              "      <td>northwest</td>\n",
              "      <td>10600.54830</td>\n",
              "    </tr>\n",
              "    <tr>\n",
              "      <th>1334</th>\n",
              "      <td>18</td>\n",
              "      <td>female</td>\n",
              "      <td>31.920</td>\n",
              "      <td>0</td>\n",
              "      <td>no</td>\n",
              "      <td>northeast</td>\n",
              "      <td>2205.98080</td>\n",
              "    </tr>\n",
              "    <tr>\n",
              "      <th>1335</th>\n",
              "      <td>18</td>\n",
              "      <td>female</td>\n",
              "      <td>36.850</td>\n",
              "      <td>0</td>\n",
              "      <td>no</td>\n",
              "      <td>southeast</td>\n",
              "      <td>1629.83350</td>\n",
              "    </tr>\n",
              "    <tr>\n",
              "      <th>1336</th>\n",
              "      <td>21</td>\n",
              "      <td>female</td>\n",
              "      <td>25.800</td>\n",
              "      <td>0</td>\n",
              "      <td>no</td>\n",
              "      <td>southwest</td>\n",
              "      <td>2007.94500</td>\n",
              "    </tr>\n",
              "    <tr>\n",
              "      <th>1337</th>\n",
              "      <td>61</td>\n",
              "      <td>female</td>\n",
              "      <td>29.070</td>\n",
              "      <td>0</td>\n",
              "      <td>yes</td>\n",
              "      <td>northwest</td>\n",
              "      <td>29141.36030</td>\n",
              "    </tr>\n",
              "  </tbody>\n",
              "</table>\n",
              "<p>1338 rows × 7 columns</p>\n",
              "</div>\n",
              "    <div class=\"colab-df-buttons\">\n",
              "\n",
              "  <div class=\"colab-df-container\">\n",
              "    <button class=\"colab-df-convert\" onclick=\"convertToInteractive('df-1346353a-3697-40eb-ad8d-11059e7c40fc')\"\n",
              "            title=\"Convert this dataframe to an interactive table.\"\n",
              "            style=\"display:none;\">\n",
              "\n",
              "  <svg xmlns=\"http://www.w3.org/2000/svg\" height=\"24px\" viewBox=\"0 -960 960 960\">\n",
              "    <path d=\"M120-120v-720h720v720H120Zm60-500h600v-160H180v160Zm220 220h160v-160H400v160Zm0 220h160v-160H400v160ZM180-400h160v-160H180v160Zm440 0h160v-160H620v160ZM180-180h160v-160H180v160Zm440 0h160v-160H620v160Z\"/>\n",
              "  </svg>\n",
              "    </button>\n",
              "\n",
              "  <style>\n",
              "    .colab-df-container {\n",
              "      display:flex;\n",
              "      gap: 12px;\n",
              "    }\n",
              "\n",
              "    .colab-df-convert {\n",
              "      background-color: #E8F0FE;\n",
              "      border: none;\n",
              "      border-radius: 50%;\n",
              "      cursor: pointer;\n",
              "      display: none;\n",
              "      fill: #1967D2;\n",
              "      height: 32px;\n",
              "      padding: 0 0 0 0;\n",
              "      width: 32px;\n",
              "    }\n",
              "\n",
              "    .colab-df-convert:hover {\n",
              "      background-color: #E2EBFA;\n",
              "      box-shadow: 0px 1px 2px rgba(60, 64, 67, 0.3), 0px 1px 3px 1px rgba(60, 64, 67, 0.15);\n",
              "      fill: #174EA6;\n",
              "    }\n",
              "\n",
              "    .colab-df-buttons div {\n",
              "      margin-bottom: 4px;\n",
              "    }\n",
              "\n",
              "    [theme=dark] .colab-df-convert {\n",
              "      background-color: #3B4455;\n",
              "      fill: #D2E3FC;\n",
              "    }\n",
              "\n",
              "    [theme=dark] .colab-df-convert:hover {\n",
              "      background-color: #434B5C;\n",
              "      box-shadow: 0px 1px 3px 1px rgba(0, 0, 0, 0.15);\n",
              "      filter: drop-shadow(0px 1px 2px rgba(0, 0, 0, 0.3));\n",
              "      fill: #FFFFFF;\n",
              "    }\n",
              "  </style>\n",
              "\n",
              "    <script>\n",
              "      const buttonEl =\n",
              "        document.querySelector('#df-1346353a-3697-40eb-ad8d-11059e7c40fc button.colab-df-convert');\n",
              "      buttonEl.style.display =\n",
              "        google.colab.kernel.accessAllowed ? 'block' : 'none';\n",
              "\n",
              "      async function convertToInteractive(key) {\n",
              "        const element = document.querySelector('#df-1346353a-3697-40eb-ad8d-11059e7c40fc');\n",
              "        const dataTable =\n",
              "          await google.colab.kernel.invokeFunction('convertToInteractive',\n",
              "                                                    [key], {});\n",
              "        if (!dataTable) return;\n",
              "\n",
              "        const docLinkHtml = 'Like what you see? Visit the ' +\n",
              "          '<a target=\"_blank\" href=https://colab.research.google.com/notebooks/data_table.ipynb>data table notebook</a>'\n",
              "          + ' to learn more about interactive tables.';\n",
              "        element.innerHTML = '';\n",
              "        dataTable['output_type'] = 'display_data';\n",
              "        await google.colab.output.renderOutput(dataTable, element);\n",
              "        const docLink = document.createElement('div');\n",
              "        docLink.innerHTML = docLinkHtml;\n",
              "        element.appendChild(docLink);\n",
              "      }\n",
              "    </script>\n",
              "  </div>\n",
              "\n",
              "\n",
              "<div id=\"df-2aec078b-aa28-4145-b7d0-5c65d362c9bb\">\n",
              "  <button class=\"colab-df-quickchart\" onclick=\"quickchart('df-2aec078b-aa28-4145-b7d0-5c65d362c9bb')\"\n",
              "            title=\"Suggest charts\"\n",
              "            style=\"display:none;\">\n",
              "\n",
              "<svg xmlns=\"http://www.w3.org/2000/svg\" height=\"24px\"viewBox=\"0 0 24 24\"\n",
              "     width=\"24px\">\n",
              "    <g>\n",
              "        <path d=\"M19 3H5c-1.1 0-2 .9-2 2v14c0 1.1.9 2 2 2h14c1.1 0 2-.9 2-2V5c0-1.1-.9-2-2-2zM9 17H7v-7h2v7zm4 0h-2V7h2v10zm4 0h-2v-4h2v4z\"/>\n",
              "    </g>\n",
              "</svg>\n",
              "  </button>\n",
              "\n",
              "<style>\n",
              "  .colab-df-quickchart {\n",
              "      --bg-color: #E8F0FE;\n",
              "      --fill-color: #1967D2;\n",
              "      --hover-bg-color: #E2EBFA;\n",
              "      --hover-fill-color: #174EA6;\n",
              "      --disabled-fill-color: #AAA;\n",
              "      --disabled-bg-color: #DDD;\n",
              "  }\n",
              "\n",
              "  [theme=dark] .colab-df-quickchart {\n",
              "      --bg-color: #3B4455;\n",
              "      --fill-color: #D2E3FC;\n",
              "      --hover-bg-color: #434B5C;\n",
              "      --hover-fill-color: #FFFFFF;\n",
              "      --disabled-bg-color: #3B4455;\n",
              "      --disabled-fill-color: #666;\n",
              "  }\n",
              "\n",
              "  .colab-df-quickchart {\n",
              "    background-color: var(--bg-color);\n",
              "    border: none;\n",
              "    border-radius: 50%;\n",
              "    cursor: pointer;\n",
              "    display: none;\n",
              "    fill: var(--fill-color);\n",
              "    height: 32px;\n",
              "    padding: 0;\n",
              "    width: 32px;\n",
              "  }\n",
              "\n",
              "  .colab-df-quickchart:hover {\n",
              "    background-color: var(--hover-bg-color);\n",
              "    box-shadow: 0 1px 2px rgba(60, 64, 67, 0.3), 0 1px 3px 1px rgba(60, 64, 67, 0.15);\n",
              "    fill: var(--button-hover-fill-color);\n",
              "  }\n",
              "\n",
              "  .colab-df-quickchart-complete:disabled,\n",
              "  .colab-df-quickchart-complete:disabled:hover {\n",
              "    background-color: var(--disabled-bg-color);\n",
              "    fill: var(--disabled-fill-color);\n",
              "    box-shadow: none;\n",
              "  }\n",
              "\n",
              "  .colab-df-spinner {\n",
              "    border: 2px solid var(--fill-color);\n",
              "    border-color: transparent;\n",
              "    border-bottom-color: var(--fill-color);\n",
              "    animation:\n",
              "      spin 1s steps(1) infinite;\n",
              "  }\n",
              "\n",
              "  @keyframes spin {\n",
              "    0% {\n",
              "      border-color: transparent;\n",
              "      border-bottom-color: var(--fill-color);\n",
              "      border-left-color: var(--fill-color);\n",
              "    }\n",
              "    20% {\n",
              "      border-color: transparent;\n",
              "      border-left-color: var(--fill-color);\n",
              "      border-top-color: var(--fill-color);\n",
              "    }\n",
              "    30% {\n",
              "      border-color: transparent;\n",
              "      border-left-color: var(--fill-color);\n",
              "      border-top-color: var(--fill-color);\n",
              "      border-right-color: var(--fill-color);\n",
              "    }\n",
              "    40% {\n",
              "      border-color: transparent;\n",
              "      border-right-color: var(--fill-color);\n",
              "      border-top-color: var(--fill-color);\n",
              "    }\n",
              "    60% {\n",
              "      border-color: transparent;\n",
              "      border-right-color: var(--fill-color);\n",
              "    }\n",
              "    80% {\n",
              "      border-color: transparent;\n",
              "      border-right-color: var(--fill-color);\n",
              "      border-bottom-color: var(--fill-color);\n",
              "    }\n",
              "    90% {\n",
              "      border-color: transparent;\n",
              "      border-bottom-color: var(--fill-color);\n",
              "    }\n",
              "  }\n",
              "</style>\n",
              "\n",
              "  <script>\n",
              "    async function quickchart(key) {\n",
              "      const quickchartButtonEl =\n",
              "        document.querySelector('#' + key + ' button');\n",
              "      quickchartButtonEl.disabled = true;  // To prevent multiple clicks.\n",
              "      quickchartButtonEl.classList.add('colab-df-spinner');\n",
              "      try {\n",
              "        const charts = await google.colab.kernel.invokeFunction(\n",
              "            'suggestCharts', [key], {});\n",
              "      } catch (error) {\n",
              "        console.error('Error during call to suggestCharts:', error);\n",
              "      }\n",
              "      quickchartButtonEl.classList.remove('colab-df-spinner');\n",
              "      quickchartButtonEl.classList.add('colab-df-quickchart-complete');\n",
              "    }\n",
              "    (() => {\n",
              "      let quickchartButtonEl =\n",
              "        document.querySelector('#df-2aec078b-aa28-4145-b7d0-5c65d362c9bb button');\n",
              "      quickchartButtonEl.style.display =\n",
              "        google.colab.kernel.accessAllowed ? 'block' : 'none';\n",
              "    })();\n",
              "  </script>\n",
              "</div>\n",
              "    </div>\n",
              "  </div>\n"
            ],
            "application/vnd.google.colaboratory.intrinsic+json": {
              "type": "dataframe",
              "variable_name": "insurance",
              "summary": "{\n  \"name\": \"insurance\",\n  \"rows\": 1338,\n  \"fields\": [\n    {\n      \"column\": \"age\",\n      \"properties\": {\n        \"dtype\": \"number\",\n        \"std\": 14,\n        \"min\": 18,\n        \"max\": 64,\n        \"num_unique_values\": 47,\n        \"samples\": [\n          21,\n          45,\n          36\n        ],\n        \"semantic_type\": \"\",\n        \"description\": \"\"\n      }\n    },\n    {\n      \"column\": \"sex\",\n      \"properties\": {\n        \"dtype\": \"category\",\n        \"num_unique_values\": 2,\n        \"samples\": [\n          \"male\",\n          \"female\"\n        ],\n        \"semantic_type\": \"\",\n        \"description\": \"\"\n      }\n    },\n    {\n      \"column\": \"bmi\",\n      \"properties\": {\n        \"dtype\": \"number\",\n        \"std\": 6.098186911679014,\n        \"min\": 15.96,\n        \"max\": 53.13,\n        \"num_unique_values\": 548,\n        \"samples\": [\n          23.18,\n          26.885\n        ],\n        \"semantic_type\": \"\",\n        \"description\": \"\"\n      }\n    },\n    {\n      \"column\": \"children\",\n      \"properties\": {\n        \"dtype\": \"number\",\n        \"std\": 1,\n        \"min\": 0,\n        \"max\": 5,\n        \"num_unique_values\": 6,\n        \"samples\": [\n          0,\n          1\n        ],\n        \"semantic_type\": \"\",\n        \"description\": \"\"\n      }\n    },\n    {\n      \"column\": \"smoker\",\n      \"properties\": {\n        \"dtype\": \"category\",\n        \"num_unique_values\": 2,\n        \"samples\": [\n          \"no\",\n          \"yes\"\n        ],\n        \"semantic_type\": \"\",\n        \"description\": \"\"\n      }\n    },\n    {\n      \"column\": \"region\",\n      \"properties\": {\n        \"dtype\": \"category\",\n        \"num_unique_values\": 4,\n        \"samples\": [\n          \"southeast\",\n          \"northeast\"\n        ],\n        \"semantic_type\": \"\",\n        \"description\": \"\"\n      }\n    },\n    {\n      \"column\": \"charges\",\n      \"properties\": {\n        \"dtype\": \"number\",\n        \"std\": 12110.011236694001,\n        \"min\": 1121.8739,\n        \"max\": 63770.42801,\n        \"num_unique_values\": 1337,\n        \"samples\": [\n          8688.85885,\n          5708.867\n        ],\n        \"semantic_type\": \"\",\n        \"description\": \"\"\n      }\n    }\n  ]\n}"
            }
          },
          "metadata": {},
          "execution_count": 56
        }
      ]
    },
    {
      "cell_type": "code",
      "source": [
        "# Let's try one-hot encoding our dataframe\n",
        "insurance_one_hot= pd.get_dummies(insurance)\n",
        "insurance_one_hot.head()"
      ],
      "metadata": {
        "colab": {
          "base_uri": "https://localhost:8080/",
          "height": 226
        },
        "id": "ywNzTtkk6QeP",
        "outputId": "a996e0b3-a199-4cb4-b80a-9a09ad2198a3"
      },
      "execution_count": null,
      "outputs": [
        {
          "output_type": "execute_result",
          "data": {
            "text/plain": [
              "   age     bmi  children      charges  sex_female  sex_male  smoker_no  \\\n",
              "0   19  27.900         0  16884.92400           1         0          0   \n",
              "1   18  33.770         1   1725.55230           0         1          1   \n",
              "2   28  33.000         3   4449.46200           0         1          1   \n",
              "3   33  22.705         0  21984.47061           0         1          1   \n",
              "4   32  28.880         0   3866.85520           0         1          1   \n",
              "\n",
              "   smoker_yes  region_northeast  region_northwest  region_southeast  \\\n",
              "0           1                 0                 0                 0   \n",
              "1           0                 0                 0                 1   \n",
              "2           0                 0                 0                 1   \n",
              "3           0                 0                 1                 0   \n",
              "4           0                 0                 1                 0   \n",
              "\n",
              "   region_southwest  \n",
              "0                 1  \n",
              "1                 0  \n",
              "2                 0  \n",
              "3                 0  \n",
              "4                 0  "
            ],
            "text/html": [
              "\n",
              "  <div id=\"df-e7a79a00-41c5-40ed-92ab-7b2f288f8ac5\" class=\"colab-df-container\">\n",
              "    <div>\n",
              "<style scoped>\n",
              "    .dataframe tbody tr th:only-of-type {\n",
              "        vertical-align: middle;\n",
              "    }\n",
              "\n",
              "    .dataframe tbody tr th {\n",
              "        vertical-align: top;\n",
              "    }\n",
              "\n",
              "    .dataframe thead th {\n",
              "        text-align: right;\n",
              "    }\n",
              "</style>\n",
              "<table border=\"1\" class=\"dataframe\">\n",
              "  <thead>\n",
              "    <tr style=\"text-align: right;\">\n",
              "      <th></th>\n",
              "      <th>age</th>\n",
              "      <th>bmi</th>\n",
              "      <th>children</th>\n",
              "      <th>charges</th>\n",
              "      <th>sex_female</th>\n",
              "      <th>sex_male</th>\n",
              "      <th>smoker_no</th>\n",
              "      <th>smoker_yes</th>\n",
              "      <th>region_northeast</th>\n",
              "      <th>region_northwest</th>\n",
              "      <th>region_southeast</th>\n",
              "      <th>region_southwest</th>\n",
              "    </tr>\n",
              "  </thead>\n",
              "  <tbody>\n",
              "    <tr>\n",
              "      <th>0</th>\n",
              "      <td>19</td>\n",
              "      <td>27.900</td>\n",
              "      <td>0</td>\n",
              "      <td>16884.92400</td>\n",
              "      <td>1</td>\n",
              "      <td>0</td>\n",
              "      <td>0</td>\n",
              "      <td>1</td>\n",
              "      <td>0</td>\n",
              "      <td>0</td>\n",
              "      <td>0</td>\n",
              "      <td>1</td>\n",
              "    </tr>\n",
              "    <tr>\n",
              "      <th>1</th>\n",
              "      <td>18</td>\n",
              "      <td>33.770</td>\n",
              "      <td>1</td>\n",
              "      <td>1725.55230</td>\n",
              "      <td>0</td>\n",
              "      <td>1</td>\n",
              "      <td>1</td>\n",
              "      <td>0</td>\n",
              "      <td>0</td>\n",
              "      <td>0</td>\n",
              "      <td>1</td>\n",
              "      <td>0</td>\n",
              "    </tr>\n",
              "    <tr>\n",
              "      <th>2</th>\n",
              "      <td>28</td>\n",
              "      <td>33.000</td>\n",
              "      <td>3</td>\n",
              "      <td>4449.46200</td>\n",
              "      <td>0</td>\n",
              "      <td>1</td>\n",
              "      <td>1</td>\n",
              "      <td>0</td>\n",
              "      <td>0</td>\n",
              "      <td>0</td>\n",
              "      <td>1</td>\n",
              "      <td>0</td>\n",
              "    </tr>\n",
              "    <tr>\n",
              "      <th>3</th>\n",
              "      <td>33</td>\n",
              "      <td>22.705</td>\n",
              "      <td>0</td>\n",
              "      <td>21984.47061</td>\n",
              "      <td>0</td>\n",
              "      <td>1</td>\n",
              "      <td>1</td>\n",
              "      <td>0</td>\n",
              "      <td>0</td>\n",
              "      <td>1</td>\n",
              "      <td>0</td>\n",
              "      <td>0</td>\n",
              "    </tr>\n",
              "    <tr>\n",
              "      <th>4</th>\n",
              "      <td>32</td>\n",
              "      <td>28.880</td>\n",
              "      <td>0</td>\n",
              "      <td>3866.85520</td>\n",
              "      <td>0</td>\n",
              "      <td>1</td>\n",
              "      <td>1</td>\n",
              "      <td>0</td>\n",
              "      <td>0</td>\n",
              "      <td>1</td>\n",
              "      <td>0</td>\n",
              "      <td>0</td>\n",
              "    </tr>\n",
              "  </tbody>\n",
              "</table>\n",
              "</div>\n",
              "    <div class=\"colab-df-buttons\">\n",
              "\n",
              "  <div class=\"colab-df-container\">\n",
              "    <button class=\"colab-df-convert\" onclick=\"convertToInteractive('df-e7a79a00-41c5-40ed-92ab-7b2f288f8ac5')\"\n",
              "            title=\"Convert this dataframe to an interactive table.\"\n",
              "            style=\"display:none;\">\n",
              "\n",
              "  <svg xmlns=\"http://www.w3.org/2000/svg\" height=\"24px\" viewBox=\"0 -960 960 960\">\n",
              "    <path d=\"M120-120v-720h720v720H120Zm60-500h600v-160H180v160Zm220 220h160v-160H400v160Zm0 220h160v-160H400v160ZM180-400h160v-160H180v160Zm440 0h160v-160H620v160ZM180-180h160v-160H180v160Zm440 0h160v-160H620v160Z\"/>\n",
              "  </svg>\n",
              "    </button>\n",
              "\n",
              "  <style>\n",
              "    .colab-df-container {\n",
              "      display:flex;\n",
              "      gap: 12px;\n",
              "    }\n",
              "\n",
              "    .colab-df-convert {\n",
              "      background-color: #E8F0FE;\n",
              "      border: none;\n",
              "      border-radius: 50%;\n",
              "      cursor: pointer;\n",
              "      display: none;\n",
              "      fill: #1967D2;\n",
              "      height: 32px;\n",
              "      padding: 0 0 0 0;\n",
              "      width: 32px;\n",
              "    }\n",
              "\n",
              "    .colab-df-convert:hover {\n",
              "      background-color: #E2EBFA;\n",
              "      box-shadow: 0px 1px 2px rgba(60, 64, 67, 0.3), 0px 1px 3px 1px rgba(60, 64, 67, 0.15);\n",
              "      fill: #174EA6;\n",
              "    }\n",
              "\n",
              "    .colab-df-buttons div {\n",
              "      margin-bottom: 4px;\n",
              "    }\n",
              "\n",
              "    [theme=dark] .colab-df-convert {\n",
              "      background-color: #3B4455;\n",
              "      fill: #D2E3FC;\n",
              "    }\n",
              "\n",
              "    [theme=dark] .colab-df-convert:hover {\n",
              "      background-color: #434B5C;\n",
              "      box-shadow: 0px 1px 3px 1px rgba(0, 0, 0, 0.15);\n",
              "      filter: drop-shadow(0px 1px 2px rgba(0, 0, 0, 0.3));\n",
              "      fill: #FFFFFF;\n",
              "    }\n",
              "  </style>\n",
              "\n",
              "    <script>\n",
              "      const buttonEl =\n",
              "        document.querySelector('#df-e7a79a00-41c5-40ed-92ab-7b2f288f8ac5 button.colab-df-convert');\n",
              "      buttonEl.style.display =\n",
              "        google.colab.kernel.accessAllowed ? 'block' : 'none';\n",
              "\n",
              "      async function convertToInteractive(key) {\n",
              "        const element = document.querySelector('#df-e7a79a00-41c5-40ed-92ab-7b2f288f8ac5');\n",
              "        const dataTable =\n",
              "          await google.colab.kernel.invokeFunction('convertToInteractive',\n",
              "                                                    [key], {});\n",
              "        if (!dataTable) return;\n",
              "\n",
              "        const docLinkHtml = 'Like what you see? Visit the ' +\n",
              "          '<a target=\"_blank\" href=https://colab.research.google.com/notebooks/data_table.ipynb>data table notebook</a>'\n",
              "          + ' to learn more about interactive tables.';\n",
              "        element.innerHTML = '';\n",
              "        dataTable['output_type'] = 'display_data';\n",
              "        await google.colab.output.renderOutput(dataTable, element);\n",
              "        const docLink = document.createElement('div');\n",
              "        docLink.innerHTML = docLinkHtml;\n",
              "        element.appendChild(docLink);\n",
              "      }\n",
              "    </script>\n",
              "  </div>\n",
              "\n",
              "\n",
              "<div id=\"df-e6a71580-0b87-4576-8631-ca468407499c\">\n",
              "  <button class=\"colab-df-quickchart\" onclick=\"quickchart('df-e6a71580-0b87-4576-8631-ca468407499c')\"\n",
              "            title=\"Suggest charts\"\n",
              "            style=\"display:none;\">\n",
              "\n",
              "<svg xmlns=\"http://www.w3.org/2000/svg\" height=\"24px\"viewBox=\"0 0 24 24\"\n",
              "     width=\"24px\">\n",
              "    <g>\n",
              "        <path d=\"M19 3H5c-1.1 0-2 .9-2 2v14c0 1.1.9 2 2 2h14c1.1 0 2-.9 2-2V5c0-1.1-.9-2-2-2zM9 17H7v-7h2v7zm4 0h-2V7h2v10zm4 0h-2v-4h2v4z\"/>\n",
              "    </g>\n",
              "</svg>\n",
              "  </button>\n",
              "\n",
              "<style>\n",
              "  .colab-df-quickchart {\n",
              "      --bg-color: #E8F0FE;\n",
              "      --fill-color: #1967D2;\n",
              "      --hover-bg-color: #E2EBFA;\n",
              "      --hover-fill-color: #174EA6;\n",
              "      --disabled-fill-color: #AAA;\n",
              "      --disabled-bg-color: #DDD;\n",
              "  }\n",
              "\n",
              "  [theme=dark] .colab-df-quickchart {\n",
              "      --bg-color: #3B4455;\n",
              "      --fill-color: #D2E3FC;\n",
              "      --hover-bg-color: #434B5C;\n",
              "      --hover-fill-color: #FFFFFF;\n",
              "      --disabled-bg-color: #3B4455;\n",
              "      --disabled-fill-color: #666;\n",
              "  }\n",
              "\n",
              "  .colab-df-quickchart {\n",
              "    background-color: var(--bg-color);\n",
              "    border: none;\n",
              "    border-radius: 50%;\n",
              "    cursor: pointer;\n",
              "    display: none;\n",
              "    fill: var(--fill-color);\n",
              "    height: 32px;\n",
              "    padding: 0;\n",
              "    width: 32px;\n",
              "  }\n",
              "\n",
              "  .colab-df-quickchart:hover {\n",
              "    background-color: var(--hover-bg-color);\n",
              "    box-shadow: 0 1px 2px rgba(60, 64, 67, 0.3), 0 1px 3px 1px rgba(60, 64, 67, 0.15);\n",
              "    fill: var(--button-hover-fill-color);\n",
              "  }\n",
              "\n",
              "  .colab-df-quickchart-complete:disabled,\n",
              "  .colab-df-quickchart-complete:disabled:hover {\n",
              "    background-color: var(--disabled-bg-color);\n",
              "    fill: var(--disabled-fill-color);\n",
              "    box-shadow: none;\n",
              "  }\n",
              "\n",
              "  .colab-df-spinner {\n",
              "    border: 2px solid var(--fill-color);\n",
              "    border-color: transparent;\n",
              "    border-bottom-color: var(--fill-color);\n",
              "    animation:\n",
              "      spin 1s steps(1) infinite;\n",
              "  }\n",
              "\n",
              "  @keyframes spin {\n",
              "    0% {\n",
              "      border-color: transparent;\n",
              "      border-bottom-color: var(--fill-color);\n",
              "      border-left-color: var(--fill-color);\n",
              "    }\n",
              "    20% {\n",
              "      border-color: transparent;\n",
              "      border-left-color: var(--fill-color);\n",
              "      border-top-color: var(--fill-color);\n",
              "    }\n",
              "    30% {\n",
              "      border-color: transparent;\n",
              "      border-left-color: var(--fill-color);\n",
              "      border-top-color: var(--fill-color);\n",
              "      border-right-color: var(--fill-color);\n",
              "    }\n",
              "    40% {\n",
              "      border-color: transparent;\n",
              "      border-right-color: var(--fill-color);\n",
              "      border-top-color: var(--fill-color);\n",
              "    }\n",
              "    60% {\n",
              "      border-color: transparent;\n",
              "      border-right-color: var(--fill-color);\n",
              "    }\n",
              "    80% {\n",
              "      border-color: transparent;\n",
              "      border-right-color: var(--fill-color);\n",
              "      border-bottom-color: var(--fill-color);\n",
              "    }\n",
              "    90% {\n",
              "      border-color: transparent;\n",
              "      border-bottom-color: var(--fill-color);\n",
              "    }\n",
              "  }\n",
              "</style>\n",
              "\n",
              "  <script>\n",
              "    async function quickchart(key) {\n",
              "      const quickchartButtonEl =\n",
              "        document.querySelector('#' + key + ' button');\n",
              "      quickchartButtonEl.disabled = true;  // To prevent multiple clicks.\n",
              "      quickchartButtonEl.classList.add('colab-df-spinner');\n",
              "      try {\n",
              "        const charts = await google.colab.kernel.invokeFunction(\n",
              "            'suggestCharts', [key], {});\n",
              "      } catch (error) {\n",
              "        console.error('Error during call to suggestCharts:', error);\n",
              "      }\n",
              "      quickchartButtonEl.classList.remove('colab-df-spinner');\n",
              "      quickchartButtonEl.classList.add('colab-df-quickchart-complete');\n",
              "    }\n",
              "    (() => {\n",
              "      let quickchartButtonEl =\n",
              "        document.querySelector('#df-e6a71580-0b87-4576-8631-ca468407499c button');\n",
              "      quickchartButtonEl.style.display =\n",
              "        google.colab.kernel.accessAllowed ? 'block' : 'none';\n",
              "    })();\n",
              "  </script>\n",
              "</div>\n",
              "    </div>\n",
              "  </div>\n"
            ],
            "application/vnd.google.colaboratory.intrinsic+json": {
              "type": "dataframe",
              "variable_name": "insurance_one_hot",
              "summary": "{\n  \"name\": \"insurance_one_hot\",\n  \"rows\": 1338,\n  \"fields\": [\n    {\n      \"column\": \"age\",\n      \"properties\": {\n        \"dtype\": \"number\",\n        \"std\": 14,\n        \"min\": 18,\n        \"max\": 64,\n        \"num_unique_values\": 47,\n        \"samples\": [\n          21,\n          45,\n          36\n        ],\n        \"semantic_type\": \"\",\n        \"description\": \"\"\n      }\n    },\n    {\n      \"column\": \"bmi\",\n      \"properties\": {\n        \"dtype\": \"number\",\n        \"std\": 6.098186911679014,\n        \"min\": 15.96,\n        \"max\": 53.13,\n        \"num_unique_values\": 548,\n        \"samples\": [\n          23.18,\n          26.885,\n          29.26\n        ],\n        \"semantic_type\": \"\",\n        \"description\": \"\"\n      }\n    },\n    {\n      \"column\": \"children\",\n      \"properties\": {\n        \"dtype\": \"number\",\n        \"std\": 1,\n        \"min\": 0,\n        \"max\": 5,\n        \"num_unique_values\": 6,\n        \"samples\": [\n          0,\n          1,\n          4\n        ],\n        \"semantic_type\": \"\",\n        \"description\": \"\"\n      }\n    },\n    {\n      \"column\": \"charges\",\n      \"properties\": {\n        \"dtype\": \"number\",\n        \"std\": 12110.011236694001,\n        \"min\": 1121.8739,\n        \"max\": 63770.42801,\n        \"num_unique_values\": 1337,\n        \"samples\": [\n          8688.85885,\n          5708.867,\n          11436.73815\n        ],\n        \"semantic_type\": \"\",\n        \"description\": \"\"\n      }\n    },\n    {\n      \"column\": \"sex_female\",\n      \"properties\": {\n        \"dtype\": \"uint8\",\n        \"num_unique_values\": 2,\n        \"samples\": [\n          0,\n          1\n        ],\n        \"semantic_type\": \"\",\n        \"description\": \"\"\n      }\n    },\n    {\n      \"column\": \"sex_male\",\n      \"properties\": {\n        \"dtype\": \"uint8\",\n        \"num_unique_values\": 2,\n        \"samples\": [\n          1,\n          0\n        ],\n        \"semantic_type\": \"\",\n        \"description\": \"\"\n      }\n    },\n    {\n      \"column\": \"smoker_no\",\n      \"properties\": {\n        \"dtype\": \"uint8\",\n        \"num_unique_values\": 2,\n        \"samples\": [\n          1,\n          0\n        ],\n        \"semantic_type\": \"\",\n        \"description\": \"\"\n      }\n    },\n    {\n      \"column\": \"smoker_yes\",\n      \"properties\": {\n        \"dtype\": \"uint8\",\n        \"num_unique_values\": 2,\n        \"samples\": [\n          0,\n          1\n        ],\n        \"semantic_type\": \"\",\n        \"description\": \"\"\n      }\n    },\n    {\n      \"column\": \"region_northeast\",\n      \"properties\": {\n        \"dtype\": \"uint8\",\n        \"num_unique_values\": 2,\n        \"samples\": [\n          1,\n          0\n        ],\n        \"semantic_type\": \"\",\n        \"description\": \"\"\n      }\n    },\n    {\n      \"column\": \"region_northwest\",\n      \"properties\": {\n        \"dtype\": \"uint8\",\n        \"num_unique_values\": 2,\n        \"samples\": [\n          1,\n          0\n        ],\n        \"semantic_type\": \"\",\n        \"description\": \"\"\n      }\n    },\n    {\n      \"column\": \"region_southeast\",\n      \"properties\": {\n        \"dtype\": \"uint8\",\n        \"num_unique_values\": 2,\n        \"samples\": [\n          1,\n          0\n        ],\n        \"semantic_type\": \"\",\n        \"description\": \"\"\n      }\n    },\n    {\n      \"column\": \"region_southwest\",\n      \"properties\": {\n        \"dtype\": \"uint8\",\n        \"num_unique_values\": 2,\n        \"samples\": [\n          0,\n          1\n        ],\n        \"semantic_type\": \"\",\n        \"description\": \"\"\n      }\n    }\n  ]\n}"
            }
          },
          "metadata": {},
          "execution_count": 59
        }
      ]
    },
    {
      "cell_type": "code",
      "source": [
        "# create X and Y (features and labels)\n",
        "X= insurance_one_hot.drop(\"charges\", axis=1)\n",
        "y= insurance_one_hot[\"charges\"]"
      ],
      "metadata": {
        "id": "MuxUwfxh8K_g"
      },
      "execution_count": null,
      "outputs": []
    },
    {
      "cell_type": "code",
      "source": [
        "#view X and y\n",
        "X.head()"
      ],
      "metadata": {
        "colab": {
          "base_uri": "https://localhost:8080/",
          "height": 226
        },
        "id": "9i_KWV9r-ICt",
        "outputId": "15f091f2-d91f-43dc-e5ed-b289fff966f6"
      },
      "execution_count": null,
      "outputs": [
        {
          "output_type": "execute_result",
          "data": {
            "text/plain": [
              "   age     bmi  children  sex_female  sex_male  smoker_no  smoker_yes  \\\n",
              "0   19  27.900         0           1         0          0           1   \n",
              "1   18  33.770         1           0         1          1           0   \n",
              "2   28  33.000         3           0         1          1           0   \n",
              "3   33  22.705         0           0         1          1           0   \n",
              "4   32  28.880         0           0         1          1           0   \n",
              "\n",
              "   region_northeast  region_northwest  region_southeast  region_southwest  \n",
              "0                 0                 0                 0                 1  \n",
              "1                 0                 0                 1                 0  \n",
              "2                 0                 0                 1                 0  \n",
              "3                 0                 1                 0                 0  \n",
              "4                 0                 1                 0                 0  "
            ],
            "text/html": [
              "\n",
              "  <div id=\"df-2d9905b7-7b11-4108-bbcc-e407bfb3b4e8\" class=\"colab-df-container\">\n",
              "    <div>\n",
              "<style scoped>\n",
              "    .dataframe tbody tr th:only-of-type {\n",
              "        vertical-align: middle;\n",
              "    }\n",
              "\n",
              "    .dataframe tbody tr th {\n",
              "        vertical-align: top;\n",
              "    }\n",
              "\n",
              "    .dataframe thead th {\n",
              "        text-align: right;\n",
              "    }\n",
              "</style>\n",
              "<table border=\"1\" class=\"dataframe\">\n",
              "  <thead>\n",
              "    <tr style=\"text-align: right;\">\n",
              "      <th></th>\n",
              "      <th>age</th>\n",
              "      <th>bmi</th>\n",
              "      <th>children</th>\n",
              "      <th>sex_female</th>\n",
              "      <th>sex_male</th>\n",
              "      <th>smoker_no</th>\n",
              "      <th>smoker_yes</th>\n",
              "      <th>region_northeast</th>\n",
              "      <th>region_northwest</th>\n",
              "      <th>region_southeast</th>\n",
              "      <th>region_southwest</th>\n",
              "    </tr>\n",
              "  </thead>\n",
              "  <tbody>\n",
              "    <tr>\n",
              "      <th>0</th>\n",
              "      <td>19</td>\n",
              "      <td>27.900</td>\n",
              "      <td>0</td>\n",
              "      <td>1</td>\n",
              "      <td>0</td>\n",
              "      <td>0</td>\n",
              "      <td>1</td>\n",
              "      <td>0</td>\n",
              "      <td>0</td>\n",
              "      <td>0</td>\n",
              "      <td>1</td>\n",
              "    </tr>\n",
              "    <tr>\n",
              "      <th>1</th>\n",
              "      <td>18</td>\n",
              "      <td>33.770</td>\n",
              "      <td>1</td>\n",
              "      <td>0</td>\n",
              "      <td>1</td>\n",
              "      <td>1</td>\n",
              "      <td>0</td>\n",
              "      <td>0</td>\n",
              "      <td>0</td>\n",
              "      <td>1</td>\n",
              "      <td>0</td>\n",
              "    </tr>\n",
              "    <tr>\n",
              "      <th>2</th>\n",
              "      <td>28</td>\n",
              "      <td>33.000</td>\n",
              "      <td>3</td>\n",
              "      <td>0</td>\n",
              "      <td>1</td>\n",
              "      <td>1</td>\n",
              "      <td>0</td>\n",
              "      <td>0</td>\n",
              "      <td>0</td>\n",
              "      <td>1</td>\n",
              "      <td>0</td>\n",
              "    </tr>\n",
              "    <tr>\n",
              "      <th>3</th>\n",
              "      <td>33</td>\n",
              "      <td>22.705</td>\n",
              "      <td>0</td>\n",
              "      <td>0</td>\n",
              "      <td>1</td>\n",
              "      <td>1</td>\n",
              "      <td>0</td>\n",
              "      <td>0</td>\n",
              "      <td>1</td>\n",
              "      <td>0</td>\n",
              "      <td>0</td>\n",
              "    </tr>\n",
              "    <tr>\n",
              "      <th>4</th>\n",
              "      <td>32</td>\n",
              "      <td>28.880</td>\n",
              "      <td>0</td>\n",
              "      <td>0</td>\n",
              "      <td>1</td>\n",
              "      <td>1</td>\n",
              "      <td>0</td>\n",
              "      <td>0</td>\n",
              "      <td>1</td>\n",
              "      <td>0</td>\n",
              "      <td>0</td>\n",
              "    </tr>\n",
              "  </tbody>\n",
              "</table>\n",
              "</div>\n",
              "    <div class=\"colab-df-buttons\">\n",
              "\n",
              "  <div class=\"colab-df-container\">\n",
              "    <button class=\"colab-df-convert\" onclick=\"convertToInteractive('df-2d9905b7-7b11-4108-bbcc-e407bfb3b4e8')\"\n",
              "            title=\"Convert this dataframe to an interactive table.\"\n",
              "            style=\"display:none;\">\n",
              "\n",
              "  <svg xmlns=\"http://www.w3.org/2000/svg\" height=\"24px\" viewBox=\"0 -960 960 960\">\n",
              "    <path d=\"M120-120v-720h720v720H120Zm60-500h600v-160H180v160Zm220 220h160v-160H400v160Zm0 220h160v-160H400v160ZM180-400h160v-160H180v160Zm440 0h160v-160H620v160ZM180-180h160v-160H180v160Zm440 0h160v-160H620v160Z\"/>\n",
              "  </svg>\n",
              "    </button>\n",
              "\n",
              "  <style>\n",
              "    .colab-df-container {\n",
              "      display:flex;\n",
              "      gap: 12px;\n",
              "    }\n",
              "\n",
              "    .colab-df-convert {\n",
              "      background-color: #E8F0FE;\n",
              "      border: none;\n",
              "      border-radius: 50%;\n",
              "      cursor: pointer;\n",
              "      display: none;\n",
              "      fill: #1967D2;\n",
              "      height: 32px;\n",
              "      padding: 0 0 0 0;\n",
              "      width: 32px;\n",
              "    }\n",
              "\n",
              "    .colab-df-convert:hover {\n",
              "      background-color: #E2EBFA;\n",
              "      box-shadow: 0px 1px 2px rgba(60, 64, 67, 0.3), 0px 1px 3px 1px rgba(60, 64, 67, 0.15);\n",
              "      fill: #174EA6;\n",
              "    }\n",
              "\n",
              "    .colab-df-buttons div {\n",
              "      margin-bottom: 4px;\n",
              "    }\n",
              "\n",
              "    [theme=dark] .colab-df-convert {\n",
              "      background-color: #3B4455;\n",
              "      fill: #D2E3FC;\n",
              "    }\n",
              "\n",
              "    [theme=dark] .colab-df-convert:hover {\n",
              "      background-color: #434B5C;\n",
              "      box-shadow: 0px 1px 3px 1px rgba(0, 0, 0, 0.15);\n",
              "      filter: drop-shadow(0px 1px 2px rgba(0, 0, 0, 0.3));\n",
              "      fill: #FFFFFF;\n",
              "    }\n",
              "  </style>\n",
              "\n",
              "    <script>\n",
              "      const buttonEl =\n",
              "        document.querySelector('#df-2d9905b7-7b11-4108-bbcc-e407bfb3b4e8 button.colab-df-convert');\n",
              "      buttonEl.style.display =\n",
              "        google.colab.kernel.accessAllowed ? 'block' : 'none';\n",
              "\n",
              "      async function convertToInteractive(key) {\n",
              "        const element = document.querySelector('#df-2d9905b7-7b11-4108-bbcc-e407bfb3b4e8');\n",
              "        const dataTable =\n",
              "          await google.colab.kernel.invokeFunction('convertToInteractive',\n",
              "                                                    [key], {});\n",
              "        if (!dataTable) return;\n",
              "\n",
              "        const docLinkHtml = 'Like what you see? Visit the ' +\n",
              "          '<a target=\"_blank\" href=https://colab.research.google.com/notebooks/data_table.ipynb>data table notebook</a>'\n",
              "          + ' to learn more about interactive tables.';\n",
              "        element.innerHTML = '';\n",
              "        dataTable['output_type'] = 'display_data';\n",
              "        await google.colab.output.renderOutput(dataTable, element);\n",
              "        const docLink = document.createElement('div');\n",
              "        docLink.innerHTML = docLinkHtml;\n",
              "        element.appendChild(docLink);\n",
              "      }\n",
              "    </script>\n",
              "  </div>\n",
              "\n",
              "\n",
              "<div id=\"df-3082a516-f857-4523-aeb6-b0c123927ae8\">\n",
              "  <button class=\"colab-df-quickchart\" onclick=\"quickchart('df-3082a516-f857-4523-aeb6-b0c123927ae8')\"\n",
              "            title=\"Suggest charts\"\n",
              "            style=\"display:none;\">\n",
              "\n",
              "<svg xmlns=\"http://www.w3.org/2000/svg\" height=\"24px\"viewBox=\"0 0 24 24\"\n",
              "     width=\"24px\">\n",
              "    <g>\n",
              "        <path d=\"M19 3H5c-1.1 0-2 .9-2 2v14c0 1.1.9 2 2 2h14c1.1 0 2-.9 2-2V5c0-1.1-.9-2-2-2zM9 17H7v-7h2v7zm4 0h-2V7h2v10zm4 0h-2v-4h2v4z\"/>\n",
              "    </g>\n",
              "</svg>\n",
              "  </button>\n",
              "\n",
              "<style>\n",
              "  .colab-df-quickchart {\n",
              "      --bg-color: #E8F0FE;\n",
              "      --fill-color: #1967D2;\n",
              "      --hover-bg-color: #E2EBFA;\n",
              "      --hover-fill-color: #174EA6;\n",
              "      --disabled-fill-color: #AAA;\n",
              "      --disabled-bg-color: #DDD;\n",
              "  }\n",
              "\n",
              "  [theme=dark] .colab-df-quickchart {\n",
              "      --bg-color: #3B4455;\n",
              "      --fill-color: #D2E3FC;\n",
              "      --hover-bg-color: #434B5C;\n",
              "      --hover-fill-color: #FFFFFF;\n",
              "      --disabled-bg-color: #3B4455;\n",
              "      --disabled-fill-color: #666;\n",
              "  }\n",
              "\n",
              "  .colab-df-quickchart {\n",
              "    background-color: var(--bg-color);\n",
              "    border: none;\n",
              "    border-radius: 50%;\n",
              "    cursor: pointer;\n",
              "    display: none;\n",
              "    fill: var(--fill-color);\n",
              "    height: 32px;\n",
              "    padding: 0;\n",
              "    width: 32px;\n",
              "  }\n",
              "\n",
              "  .colab-df-quickchart:hover {\n",
              "    background-color: var(--hover-bg-color);\n",
              "    box-shadow: 0 1px 2px rgba(60, 64, 67, 0.3), 0 1px 3px 1px rgba(60, 64, 67, 0.15);\n",
              "    fill: var(--button-hover-fill-color);\n",
              "  }\n",
              "\n",
              "  .colab-df-quickchart-complete:disabled,\n",
              "  .colab-df-quickchart-complete:disabled:hover {\n",
              "    background-color: var(--disabled-bg-color);\n",
              "    fill: var(--disabled-fill-color);\n",
              "    box-shadow: none;\n",
              "  }\n",
              "\n",
              "  .colab-df-spinner {\n",
              "    border: 2px solid var(--fill-color);\n",
              "    border-color: transparent;\n",
              "    border-bottom-color: var(--fill-color);\n",
              "    animation:\n",
              "      spin 1s steps(1) infinite;\n",
              "  }\n",
              "\n",
              "  @keyframes spin {\n",
              "    0% {\n",
              "      border-color: transparent;\n",
              "      border-bottom-color: var(--fill-color);\n",
              "      border-left-color: var(--fill-color);\n",
              "    }\n",
              "    20% {\n",
              "      border-color: transparent;\n",
              "      border-left-color: var(--fill-color);\n",
              "      border-top-color: var(--fill-color);\n",
              "    }\n",
              "    30% {\n",
              "      border-color: transparent;\n",
              "      border-left-color: var(--fill-color);\n",
              "      border-top-color: var(--fill-color);\n",
              "      border-right-color: var(--fill-color);\n",
              "    }\n",
              "    40% {\n",
              "      border-color: transparent;\n",
              "      border-right-color: var(--fill-color);\n",
              "      border-top-color: var(--fill-color);\n",
              "    }\n",
              "    60% {\n",
              "      border-color: transparent;\n",
              "      border-right-color: var(--fill-color);\n",
              "    }\n",
              "    80% {\n",
              "      border-color: transparent;\n",
              "      border-right-color: var(--fill-color);\n",
              "      border-bottom-color: var(--fill-color);\n",
              "    }\n",
              "    90% {\n",
              "      border-color: transparent;\n",
              "      border-bottom-color: var(--fill-color);\n",
              "    }\n",
              "  }\n",
              "</style>\n",
              "\n",
              "  <script>\n",
              "    async function quickchart(key) {\n",
              "      const quickchartButtonEl =\n",
              "        document.querySelector('#' + key + ' button');\n",
              "      quickchartButtonEl.disabled = true;  // To prevent multiple clicks.\n",
              "      quickchartButtonEl.classList.add('colab-df-spinner');\n",
              "      try {\n",
              "        const charts = await google.colab.kernel.invokeFunction(\n",
              "            'suggestCharts', [key], {});\n",
              "      } catch (error) {\n",
              "        console.error('Error during call to suggestCharts:', error);\n",
              "      }\n",
              "      quickchartButtonEl.classList.remove('colab-df-spinner');\n",
              "      quickchartButtonEl.classList.add('colab-df-quickchart-complete');\n",
              "    }\n",
              "    (() => {\n",
              "      let quickchartButtonEl =\n",
              "        document.querySelector('#df-3082a516-f857-4523-aeb6-b0c123927ae8 button');\n",
              "      quickchartButtonEl.style.display =\n",
              "        google.colab.kernel.accessAllowed ? 'block' : 'none';\n",
              "    })();\n",
              "  </script>\n",
              "</div>\n",
              "    </div>\n",
              "  </div>\n"
            ],
            "application/vnd.google.colaboratory.intrinsic+json": {
              "type": "dataframe",
              "variable_name": "X",
              "summary": "{\n  \"name\": \"X\",\n  \"rows\": 1338,\n  \"fields\": [\n    {\n      \"column\": \"age\",\n      \"properties\": {\n        \"dtype\": \"number\",\n        \"std\": 14,\n        \"min\": 18,\n        \"max\": 64,\n        \"num_unique_values\": 47,\n        \"samples\": [\n          21,\n          45,\n          36\n        ],\n        \"semantic_type\": \"\",\n        \"description\": \"\"\n      }\n    },\n    {\n      \"column\": \"bmi\",\n      \"properties\": {\n        \"dtype\": \"number\",\n        \"std\": 6.098186911679014,\n        \"min\": 15.96,\n        \"max\": 53.13,\n        \"num_unique_values\": 548,\n        \"samples\": [\n          23.18,\n          26.885,\n          29.26\n        ],\n        \"semantic_type\": \"\",\n        \"description\": \"\"\n      }\n    },\n    {\n      \"column\": \"children\",\n      \"properties\": {\n        \"dtype\": \"number\",\n        \"std\": 1,\n        \"min\": 0,\n        \"max\": 5,\n        \"num_unique_values\": 6,\n        \"samples\": [\n          0,\n          1,\n          4\n        ],\n        \"semantic_type\": \"\",\n        \"description\": \"\"\n      }\n    },\n    {\n      \"column\": \"sex_female\",\n      \"properties\": {\n        \"dtype\": \"uint8\",\n        \"num_unique_values\": 2,\n        \"samples\": [\n          0,\n          1\n        ],\n        \"semantic_type\": \"\",\n        \"description\": \"\"\n      }\n    },\n    {\n      \"column\": \"sex_male\",\n      \"properties\": {\n        \"dtype\": \"uint8\",\n        \"num_unique_values\": 2,\n        \"samples\": [\n          1,\n          0\n        ],\n        \"semantic_type\": \"\",\n        \"description\": \"\"\n      }\n    },\n    {\n      \"column\": \"smoker_no\",\n      \"properties\": {\n        \"dtype\": \"uint8\",\n        \"num_unique_values\": 2,\n        \"samples\": [\n          1,\n          0\n        ],\n        \"semantic_type\": \"\",\n        \"description\": \"\"\n      }\n    },\n    {\n      \"column\": \"smoker_yes\",\n      \"properties\": {\n        \"dtype\": \"uint8\",\n        \"num_unique_values\": 2,\n        \"samples\": [\n          0,\n          1\n        ],\n        \"semantic_type\": \"\",\n        \"description\": \"\"\n      }\n    },\n    {\n      \"column\": \"region_northeast\",\n      \"properties\": {\n        \"dtype\": \"uint8\",\n        \"num_unique_values\": 2,\n        \"samples\": [\n          1,\n          0\n        ],\n        \"semantic_type\": \"\",\n        \"description\": \"\"\n      }\n    },\n    {\n      \"column\": \"region_northwest\",\n      \"properties\": {\n        \"dtype\": \"uint8\",\n        \"num_unique_values\": 2,\n        \"samples\": [\n          1,\n          0\n        ],\n        \"semantic_type\": \"\",\n        \"description\": \"\"\n      }\n    },\n    {\n      \"column\": \"region_southeast\",\n      \"properties\": {\n        \"dtype\": \"uint8\",\n        \"num_unique_values\": 2,\n        \"samples\": [\n          1,\n          0\n        ],\n        \"semantic_type\": \"\",\n        \"description\": \"\"\n      }\n    },\n    {\n      \"column\": \"region_southwest\",\n      \"properties\": {\n        \"dtype\": \"uint8\",\n        \"num_unique_values\": 2,\n        \"samples\": [\n          0,\n          1\n        ],\n        \"semantic_type\": \"\",\n        \"description\": \"\"\n      }\n    }\n  ]\n}"
            }
          },
          "metadata": {},
          "execution_count": 65
        }
      ]
    },
    {
      "cell_type": "code",
      "source": [
        "y.head()"
      ],
      "metadata": {
        "colab": {
          "base_uri": "https://localhost:8080/"
        },
        "id": "lBm1NTNg-fO8",
        "outputId": "ede48503-f78b-4ee4-c9fe-638462a89990"
      },
      "execution_count": null,
      "outputs": [
        {
          "output_type": "execute_result",
          "data": {
            "text/plain": [
              "0    16884.92400\n",
              "1     1725.55230\n",
              "2     4449.46200\n",
              "3    21984.47061\n",
              "4     3866.85520\n",
              "Name: charges, dtype: float64"
            ]
          },
          "metadata": {},
          "execution_count": 66
        }
      ]
    },
    {
      "cell_type": "code",
      "source": [
        "# creating training and test sets\n",
        "from sklearn.model_selection import train_test_split\n",
        "X_train, X_test, y_train, y_test = train_test_split(X, y, test_size=0.2, random_state=42)\n",
        "len(X), len(X_train), len(X_test)"
      ],
      "metadata": {
        "colab": {
          "base_uri": "https://localhost:8080/"
        },
        "id": "NGdPfNwK9eck",
        "outputId": "8b7c58e8-0899-44ac-81ec-4a7ad31c2401"
      },
      "execution_count": null,
      "outputs": [
        {
          "output_type": "execute_result",
          "data": {
            "text/plain": [
              "(1338, 1070, 268)"
            ]
          },
          "metadata": {},
          "execution_count": 67
        }
      ]
    },
    {
      "cell_type": "code",
      "source": [
        "model_3.summary()"
      ],
      "metadata": {
        "colab": {
          "base_uri": "https://localhost:8080/"
        },
        "id": "G5Zl0KBX_5YU",
        "outputId": "ea1e0a52-2db9-4ab0-9e3f-e63094092726"
      },
      "execution_count": null,
      "outputs": [
        {
          "output_type": "stream",
          "name": "stdout",
          "text": [
            "Model: \"sequential_5\"\n",
            "_________________________________________________________________\n",
            " Layer (type)                Output Shape              Param #   \n",
            "=================================================================\n",
            " input_layers (Dense)        (None, 1)                 2         \n",
            "                                                                 \n",
            " output_layers (Dense)       (None, 1)                 2         \n",
            "                                                                 \n",
            "=================================================================\n",
            "Total params: 4 (16.00 Byte)\n",
            "Trainable params: 4 (16.00 Byte)\n",
            "Non-trainable params: 0 (0.00 Byte)\n",
            "_________________________________________________________________\n"
          ]
        }
      ]
    },
    {
      "cell_type": "code",
      "source": [
        "# build a neural network\n",
        "tf.random.set_seed(42)\n",
        "# 1. create a model\n",
        "insurance_model= tf.keras.Sequential([\n",
        "    tf.keras.layers.Dense(10),\n",
        "    tf.keras.layers.Dense(1)\n",
        "])\n",
        "# 2.compile the model\n",
        "insurance_model.compile(loss= tf.keras.losses.mae,\n",
        "                        optimizer= tf.keras.optimizers.SGD(),\n",
        "                        metrics=[\"mae\"])\n",
        "#fit the model\n",
        "insurance_model.fit(X_train, y_train, epochs=100)"
      ],
      "metadata": {
        "colab": {
          "base_uri": "https://localhost:8080/"
        },
        "id": "oMNzq-nt9l3M",
        "outputId": "ad49a5b2-a5c2-496e-9177-7e1bfe2a6318"
      },
      "execution_count": null,
      "outputs": [
        {
          "output_type": "stream",
          "name": "stdout",
          "text": [
            "Epoch 1/100\n",
            "34/34 [==============================] - 0s 2ms/step - loss: 8547.8350 - mae: 8547.8350\n",
            "Epoch 2/100\n",
            "34/34 [==============================] - 0s 2ms/step - loss: 7872.6167 - mae: 7872.6167\n",
            "Epoch 3/100\n",
            "34/34 [==============================] - 0s 2ms/step - loss: 7577.1768 - mae: 7577.1768\n",
            "Epoch 4/100\n",
            "34/34 [==============================] - 0s 2ms/step - loss: 7700.3052 - mae: 7700.3052\n",
            "Epoch 5/100\n",
            "34/34 [==============================] - 0s 2ms/step - loss: 7683.3530 - mae: 7683.3530\n",
            "Epoch 6/100\n",
            "34/34 [==============================] - 0s 2ms/step - loss: 7645.3008 - mae: 7645.3008\n",
            "Epoch 7/100\n",
            "34/34 [==============================] - 0s 2ms/step - loss: 7530.3384 - mae: 7530.3384\n",
            "Epoch 8/100\n",
            "34/34 [==============================] - 0s 2ms/step - loss: 7738.9580 - mae: 7738.9580\n",
            "Epoch 9/100\n",
            "34/34 [==============================] - 0s 2ms/step - loss: 7608.7983 - mae: 7608.7983\n",
            "Epoch 10/100\n",
            "34/34 [==============================] - 0s 2ms/step - loss: 7697.9668 - mae: 7697.9668\n",
            "Epoch 11/100\n",
            "34/34 [==============================] - 0s 2ms/step - loss: 7630.4424 - mae: 7630.4424\n",
            "Epoch 12/100\n",
            "34/34 [==============================] - 0s 2ms/step - loss: 7649.2329 - mae: 7649.2329\n",
            "Epoch 13/100\n",
            "34/34 [==============================] - 0s 2ms/step - loss: 7679.8257 - mae: 7679.8257\n",
            "Epoch 14/100\n",
            "34/34 [==============================] - 0s 2ms/step - loss: 7706.2383 - mae: 7706.2383\n",
            "Epoch 15/100\n",
            "34/34 [==============================] - 0s 2ms/step - loss: 7565.6250 - mae: 7565.6250\n",
            "Epoch 16/100\n",
            "34/34 [==============================] - 0s 2ms/step - loss: 7728.9595 - mae: 7728.9595\n",
            "Epoch 17/100\n",
            "34/34 [==============================] - 0s 2ms/step - loss: 7709.6079 - mae: 7709.6079\n",
            "Epoch 18/100\n",
            "34/34 [==============================] - 0s 2ms/step - loss: 7751.2256 - mae: 7751.2256\n",
            "Epoch 19/100\n",
            "34/34 [==============================] - 0s 2ms/step - loss: 7759.5962 - mae: 7759.5962\n",
            "Epoch 20/100\n",
            "34/34 [==============================] - 0s 2ms/step - loss: 7937.7749 - mae: 7937.7749\n",
            "Epoch 21/100\n",
            "34/34 [==============================] - 0s 2ms/step - loss: 7508.4961 - mae: 7508.4961\n",
            "Epoch 22/100\n",
            "34/34 [==============================] - 0s 2ms/step - loss: 7930.0225 - mae: 7930.0225\n",
            "Epoch 23/100\n",
            "34/34 [==============================] - 0s 2ms/step - loss: 7733.5122 - mae: 7733.5122\n",
            "Epoch 24/100\n",
            "34/34 [==============================] - 0s 2ms/step - loss: 7529.4590 - mae: 7529.4590\n",
            "Epoch 25/100\n",
            "34/34 [==============================] - 0s 2ms/step - loss: 7626.1060 - mae: 7626.1060\n",
            "Epoch 26/100\n",
            "34/34 [==============================] - 0s 2ms/step - loss: 7629.5933 - mae: 7629.5933\n",
            "Epoch 27/100\n",
            "34/34 [==============================] - 0s 2ms/step - loss: 7721.9116 - mae: 7721.9116\n",
            "Epoch 28/100\n",
            "34/34 [==============================] - 0s 2ms/step - loss: 7172.4414 - mae: 7172.4414\n",
            "Epoch 29/100\n",
            "34/34 [==============================] - 0s 2ms/step - loss: 7685.4663 - mae: 7685.4663\n",
            "Epoch 30/100\n",
            "34/34 [==============================] - 0s 2ms/step - loss: 7650.1040 - mae: 7650.1040\n",
            "Epoch 31/100\n",
            "34/34 [==============================] - 0s 2ms/step - loss: 7682.0073 - mae: 7682.0073\n",
            "Epoch 32/100\n",
            "34/34 [==============================] - 0s 2ms/step - loss: 7437.7847 - mae: 7437.7847\n",
            "Epoch 33/100\n",
            "34/34 [==============================] - 0s 2ms/step - loss: 7401.3315 - mae: 7401.3315\n",
            "Epoch 34/100\n",
            "34/34 [==============================] - 0s 2ms/step - loss: 7631.9316 - mae: 7631.9316\n",
            "Epoch 35/100\n",
            "34/34 [==============================] - 0s 2ms/step - loss: 7551.5781 - mae: 7551.5781\n",
            "Epoch 36/100\n",
            "34/34 [==============================] - 0s 2ms/step - loss: 7610.5522 - mae: 7610.5522\n",
            "Epoch 37/100\n",
            "34/34 [==============================] - 0s 3ms/step - loss: 7673.7979 - mae: 7673.7979\n",
            "Epoch 38/100\n",
            "34/34 [==============================] - 0s 3ms/step - loss: 7362.1885 - mae: 7362.1885\n",
            "Epoch 39/100\n",
            "34/34 [==============================] - 0s 3ms/step - loss: 7536.5293 - mae: 7536.5293\n",
            "Epoch 40/100\n",
            "34/34 [==============================] - 0s 3ms/step - loss: 7505.3164 - mae: 7505.3164\n",
            "Epoch 41/100\n",
            "34/34 [==============================] - 0s 3ms/step - loss: 7724.5449 - mae: 7724.5449\n",
            "Epoch 42/100\n",
            "34/34 [==============================] - 0s 3ms/step - loss: 7697.6880 - mae: 7697.6880\n",
            "Epoch 43/100\n",
            "34/34 [==============================] - 0s 3ms/step - loss: 7641.9790 - mae: 7641.9790\n",
            "Epoch 44/100\n",
            "34/34 [==============================] - 0s 2ms/step - loss: 7203.9175 - mae: 7203.9175\n",
            "Epoch 45/100\n",
            "34/34 [==============================] - 0s 3ms/step - loss: 7520.2388 - mae: 7520.2388\n",
            "Epoch 46/100\n",
            "34/34 [==============================] - 0s 2ms/step - loss: 7454.6733 - mae: 7454.6733\n",
            "Epoch 47/100\n",
            "34/34 [==============================] - 0s 3ms/step - loss: 7326.6562 - mae: 7326.6562\n",
            "Epoch 48/100\n",
            "34/34 [==============================] - 0s 3ms/step - loss: 7437.6353 - mae: 7437.6353\n",
            "Epoch 49/100\n",
            "34/34 [==============================] - 0s 3ms/step - loss: 7534.5337 - mae: 7534.5337\n",
            "Epoch 50/100\n",
            "34/34 [==============================] - 0s 2ms/step - loss: 7485.2661 - mae: 7485.2661\n",
            "Epoch 51/100\n",
            "34/34 [==============================] - 0s 2ms/step - loss: 7388.2847 - mae: 7388.2847\n",
            "Epoch 52/100\n",
            "34/34 [==============================] - 0s 2ms/step - loss: 7445.5649 - mae: 7445.5649\n",
            "Epoch 53/100\n",
            "34/34 [==============================] - 0s 2ms/step - loss: 7482.0483 - mae: 7482.0483\n",
            "Epoch 54/100\n",
            "34/34 [==============================] - 0s 2ms/step - loss: 7336.6519 - mae: 7336.6519\n",
            "Epoch 55/100\n",
            "34/34 [==============================] - 0s 2ms/step - loss: 7279.8237 - mae: 7279.8237\n",
            "Epoch 56/100\n",
            "34/34 [==============================] - 0s 2ms/step - loss: 7403.0542 - mae: 7403.0542\n",
            "Epoch 57/100\n",
            "34/34 [==============================] - 0s 2ms/step - loss: 7469.6870 - mae: 7469.6870\n",
            "Epoch 58/100\n",
            "34/34 [==============================] - 0s 2ms/step - loss: 7508.0713 - mae: 7508.0713\n",
            "Epoch 59/100\n",
            "34/34 [==============================] - 0s 2ms/step - loss: 7487.4741 - mae: 7487.4741\n",
            "Epoch 60/100\n",
            "34/34 [==============================] - 0s 2ms/step - loss: 7507.4761 - mae: 7507.4761\n",
            "Epoch 61/100\n",
            "34/34 [==============================] - 0s 2ms/step - loss: 7388.0815 - mae: 7388.0815\n",
            "Epoch 62/100\n",
            "34/34 [==============================] - 0s 2ms/step - loss: 7522.9131 - mae: 7522.9131\n",
            "Epoch 63/100\n",
            "34/34 [==============================] - 0s 2ms/step - loss: 7383.4092 - mae: 7383.4092\n",
            "Epoch 64/100\n",
            "34/34 [==============================] - 0s 2ms/step - loss: 7278.4375 - mae: 7278.4375\n",
            "Epoch 65/100\n",
            "34/34 [==============================] - 0s 3ms/step - loss: 7355.6167 - mae: 7355.6167\n",
            "Epoch 66/100\n",
            "34/34 [==============================] - 0s 3ms/step - loss: 7262.3911 - mae: 7262.3911\n",
            "Epoch 67/100\n",
            "34/34 [==============================] - 0s 3ms/step - loss: 7396.7173 - mae: 7396.7173\n",
            "Epoch 68/100\n",
            "34/34 [==============================] - 0s 3ms/step - loss: 7519.1689 - mae: 7519.1689\n",
            "Epoch 69/100\n",
            "34/34 [==============================] - 0s 3ms/step - loss: 7595.0234 - mae: 7595.0234\n",
            "Epoch 70/100\n",
            "34/34 [==============================] - 0s 3ms/step - loss: 7437.8530 - mae: 7437.8530\n",
            "Epoch 71/100\n",
            "34/34 [==============================] - 0s 3ms/step - loss: 7237.7041 - mae: 7237.7041\n",
            "Epoch 72/100\n",
            "34/34 [==============================] - 0s 3ms/step - loss: 7294.5293 - mae: 7294.5293\n",
            "Epoch 73/100\n",
            "34/34 [==============================] - 0s 2ms/step - loss: 7357.5571 - mae: 7357.5571\n",
            "Epoch 74/100\n",
            "34/34 [==============================] - 0s 2ms/step - loss: 7368.7959 - mae: 7368.7959\n",
            "Epoch 75/100\n",
            "34/34 [==============================] - 0s 2ms/step - loss: 7292.8369 - mae: 7292.8369\n",
            "Epoch 76/100\n",
            "34/34 [==============================] - 0s 2ms/step - loss: 7201.7881 - mae: 7201.7881\n",
            "Epoch 77/100\n",
            "34/34 [==============================] - 0s 3ms/step - loss: 7474.9980 - mae: 7474.9980\n",
            "Epoch 78/100\n",
            "34/34 [==============================] - 0s 3ms/step - loss: 7141.3276 - mae: 7141.3276\n",
            "Epoch 79/100\n",
            "34/34 [==============================] - 0s 3ms/step - loss: 7394.4082 - mae: 7394.4082\n",
            "Epoch 80/100\n",
            "34/34 [==============================] - 0s 3ms/step - loss: 7342.4185 - mae: 7342.4185\n",
            "Epoch 81/100\n",
            "34/34 [==============================] - 0s 2ms/step - loss: 7276.0801 - mae: 7276.0801\n",
            "Epoch 82/100\n",
            "34/34 [==============================] - 0s 3ms/step - loss: 7266.3657 - mae: 7266.3657\n",
            "Epoch 83/100\n",
            "34/34 [==============================] - 0s 3ms/step - loss: 7503.9199 - mae: 7503.9199\n",
            "Epoch 84/100\n",
            "34/34 [==============================] - 0s 3ms/step - loss: 7437.1792 - mae: 7437.1792\n",
            "Epoch 85/100\n",
            "34/34 [==============================] - 0s 3ms/step - loss: 7449.2632 - mae: 7449.2632\n",
            "Epoch 86/100\n",
            "34/34 [==============================] - 0s 3ms/step - loss: 7428.3472 - mae: 7428.3472\n",
            "Epoch 87/100\n",
            "34/34 [==============================] - 0s 3ms/step - loss: 7157.8535 - mae: 7157.8535\n",
            "Epoch 88/100\n",
            "34/34 [==============================] - 0s 3ms/step - loss: 7413.3618 - mae: 7413.3618\n",
            "Epoch 89/100\n",
            "34/34 [==============================] - 0s 3ms/step - loss: 7508.7817 - mae: 7508.7817\n",
            "Epoch 90/100\n",
            "34/34 [==============================] - 0s 4ms/step - loss: 7071.3740 - mae: 7071.3740\n",
            "Epoch 91/100\n",
            "34/34 [==============================] - 0s 4ms/step - loss: 7099.7158 - mae: 7099.7158\n",
            "Epoch 92/100\n",
            "34/34 [==============================] - 0s 4ms/step - loss: 7285.3716 - mae: 7285.3716\n",
            "Epoch 93/100\n",
            "34/34 [==============================] - 0s 2ms/step - loss: 7394.4751 - mae: 7394.4751\n",
            "Epoch 94/100\n",
            "34/34 [==============================] - 0s 2ms/step - loss: 7328.5786 - mae: 7328.5786\n",
            "Epoch 95/100\n",
            "34/34 [==============================] - 0s 2ms/step - loss: 7498.8809 - mae: 7498.8809\n",
            "Epoch 96/100\n",
            "34/34 [==============================] - 0s 2ms/step - loss: 7262.3730 - mae: 7262.3730\n",
            "Epoch 97/100\n",
            "34/34 [==============================] - 0s 2ms/step - loss: 7158.0195 - mae: 7158.0195\n",
            "Epoch 98/100\n",
            "34/34 [==============================] - 0s 2ms/step - loss: 7324.3594 - mae: 7324.3594\n",
            "Epoch 99/100\n",
            "34/34 [==============================] - 0s 2ms/step - loss: 7181.6919 - mae: 7181.6919\n",
            "Epoch 100/100\n",
            "34/34 [==============================] - 0s 2ms/step - loss: 7163.6792 - mae: 7163.6792\n"
          ]
        },
        {
          "output_type": "execute_result",
          "data": {
            "text/plain": [
              "<keras.src.callbacks.History at 0x784dcea07850>"
            ]
          },
          "metadata": {},
          "execution_count": 72
        }
      ]
    },
    {
      "cell_type": "code",
      "source": [
        "#check the results on the test data of the insurance model on the test data\n",
        "insurance_model.evaluate(X_test,y_test)"
      ],
      "metadata": {
        "colab": {
          "base_uri": "https://localhost:8080/"
        },
        "id": "pyNI15GtBR-K",
        "outputId": "b5e8dfb9-89f7-4248-b0ef-2b3e0db8651d"
      },
      "execution_count": null,
      "outputs": [
        {
          "output_type": "stream",
          "name": "stdout",
          "text": [
            "9/9 [==============================] - 0s 4ms/step - loss: 7154.1860 - mae: 7154.1860\n"
          ]
        },
        {
          "output_type": "execute_result",
          "data": {
            "text/plain": [
              "[7154.18603515625, 7154.18603515625]"
            ]
          },
          "metadata": {},
          "execution_count": 73
        }
      ]
    },
    {
      "cell_type": "code",
      "source": [
        "y_train.median(), y_train.mean()"
      ],
      "metadata": {
        "colab": {
          "base_uri": "https://localhost:8080/"
        },
        "id": "pGBQnCvBCGCp",
        "outputId": "c25c1439-37c2-4fe1-f0c2-35e0ec001c53"
      },
      "execution_count": null,
      "outputs": [
        {
          "output_type": "execute_result",
          "data": {
            "text/plain": [
              "(9575.4421, 13346.089736364485)"
            ]
          },
          "metadata": {},
          "execution_count": 74
        }
      ]
    },
    {
      "cell_type": "markdown",
      "source": [
        "### Improving our model"
      ],
      "metadata": {
        "id": "9tz5IW8dCfvw"
      }
    },
    {
      "cell_type": "code",
      "source": [
        "#improving our model\n",
        "tf.random.set_seed(42)\n",
        "callback= tf.keras.callbacks.EarlyStopping(monitor=\"loss\", patience=5)\n",
        "\n",
        "insurance_model_1 = tf.keras.Sequential([\n",
        "    tf.keras.layers.Dense(100),\n",
        "    tf.keras.layers.Dense(100),\n",
        "    tf.keras.layers.Dense(10),\n",
        "    tf.keras.layers.Dense(1)\n",
        "])\n",
        "\n",
        "insurance_model_1.compile(loss=tf.keras.losses.mae,\n",
        "                          optimizer=tf.keras.optimizers.Adam(learning_rate=0.001),\n",
        "                          metrics=[\"mae\"])\n",
        "history= insurance_model_1.fit(X_train, y_train, epochs=500, callbacks=[callback])\n"
      ],
      "metadata": {
        "colab": {
          "base_uri": "https://localhost:8080/"
        },
        "id": "8wN8fl7_CUg1",
        "outputId": "ddc7ba84-8853-4105-cf06-3eaa85d017fb"
      },
      "execution_count": null,
      "outputs": [
        {
          "output_type": "stream",
          "name": "stdout",
          "text": [
            "Epoch 1/500\n",
            "34/34 [==============================] - 1s 4ms/step - loss: 13094.2744 - mae: 13094.2744\n",
            "Epoch 2/500\n",
            "34/34 [==============================] - 0s 4ms/step - loss: 11240.0732 - mae: 11240.0732\n",
            "Epoch 3/500\n",
            "34/34 [==============================] - 0s 4ms/step - loss: 7721.5161 - mae: 7721.5161\n",
            "Epoch 4/500\n",
            "34/34 [==============================] - 0s 3ms/step - loss: 7400.4414 - mae: 7400.4414\n",
            "Epoch 5/500\n",
            "34/34 [==============================] - 0s 3ms/step - loss: 7320.1685 - mae: 7320.1685\n",
            "Epoch 6/500\n",
            "34/34 [==============================] - 0s 3ms/step - loss: 7259.4160 - mae: 7259.4160\n",
            "Epoch 7/500\n",
            "34/34 [==============================] - 0s 3ms/step - loss: 7183.6533 - mae: 7183.6533\n",
            "Epoch 8/500\n",
            "34/34 [==============================] - 0s 4ms/step - loss: 7108.3706 - mae: 7108.3706\n",
            "Epoch 9/500\n",
            "34/34 [==============================] - 0s 4ms/step - loss: 7028.9648 - mae: 7028.9648\n",
            "Epoch 10/500\n",
            "34/34 [==============================] - 0s 4ms/step - loss: 6947.7119 - mae: 6947.7119\n",
            "Epoch 11/500\n",
            "34/34 [==============================] - 0s 4ms/step - loss: 6859.5054 - mae: 6859.5054\n",
            "Epoch 12/500\n",
            "34/34 [==============================] - 0s 4ms/step - loss: 6756.2109 - mae: 6756.2109\n",
            "Epoch 13/500\n",
            "34/34 [==============================] - 0s 4ms/step - loss: 6653.5542 - mae: 6653.5542\n",
            "Epoch 14/500\n",
            "34/34 [==============================] - 0s 5ms/step - loss: 6583.0630 - mae: 6583.0630\n",
            "Epoch 15/500\n",
            "34/34 [==============================] - 0s 5ms/step - loss: 6544.0996 - mae: 6544.0996\n",
            "Epoch 16/500\n",
            "34/34 [==============================] - 0s 4ms/step - loss: 6508.1572 - mae: 6508.1572\n",
            "Epoch 17/500\n",
            "34/34 [==============================] - 0s 4ms/step - loss: 6474.3916 - mae: 6474.3916\n",
            "Epoch 18/500\n",
            "34/34 [==============================] - 0s 2ms/step - loss: 6441.8286 - mae: 6441.8286\n",
            "Epoch 19/500\n",
            "34/34 [==============================] - 0s 2ms/step - loss: 6407.3516 - mae: 6407.3516\n",
            "Epoch 20/500\n",
            "34/34 [==============================] - 0s 2ms/step - loss: 6373.4424 - mae: 6373.4424\n",
            "Epoch 21/500\n",
            "34/34 [==============================] - 0s 2ms/step - loss: 6327.6318 - mae: 6327.6318\n",
            "Epoch 22/500\n",
            "34/34 [==============================] - 0s 2ms/step - loss: 6292.6016 - mae: 6292.6016\n",
            "Epoch 23/500\n",
            "34/34 [==============================] - 0s 2ms/step - loss: 6249.5879 - mae: 6249.5879\n",
            "Epoch 24/500\n",
            "34/34 [==============================] - 0s 2ms/step - loss: 6195.8818 - mae: 6195.8818\n",
            "Epoch 25/500\n",
            "34/34 [==============================] - 0s 3ms/step - loss: 6146.6372 - mae: 6146.6372\n",
            "Epoch 26/500\n",
            "34/34 [==============================] - 0s 3ms/step - loss: 6088.0459 - mae: 6088.0459\n",
            "Epoch 27/500\n",
            "34/34 [==============================] - 0s 3ms/step - loss: 6020.9307 - mae: 6020.9307\n",
            "Epoch 28/500\n",
            "34/34 [==============================] - 0s 2ms/step - loss: 5936.4004 - mae: 5936.4004\n",
            "Epoch 29/500\n",
            "34/34 [==============================] - 0s 3ms/step - loss: 5855.6265 - mae: 5855.6265\n",
            "Epoch 30/500\n",
            "34/34 [==============================] - 0s 2ms/step - loss: 5764.4102 - mae: 5764.4102\n",
            "Epoch 31/500\n",
            "34/34 [==============================] - 0s 2ms/step - loss: 5619.2783 - mae: 5619.2783\n",
            "Epoch 32/500\n",
            "34/34 [==============================] - 0s 2ms/step - loss: 5488.4243 - mae: 5488.4243\n",
            "Epoch 33/500\n",
            "34/34 [==============================] - 0s 2ms/step - loss: 5308.0449 - mae: 5308.0449\n",
            "Epoch 34/500\n",
            "34/34 [==============================] - 0s 2ms/step - loss: 5071.5586 - mae: 5071.5586\n",
            "Epoch 35/500\n",
            "34/34 [==============================] - 0s 2ms/step - loss: 4804.5249 - mae: 4804.5249\n",
            "Epoch 36/500\n",
            "34/34 [==============================] - 0s 2ms/step - loss: 4465.7310 - mae: 4465.7310\n",
            "Epoch 37/500\n",
            "34/34 [==============================] - 0s 2ms/step - loss: 4118.2637 - mae: 4118.2637\n",
            "Epoch 38/500\n",
            "34/34 [==============================] - 0s 2ms/step - loss: 3919.7637 - mae: 3919.7637\n",
            "Epoch 39/500\n",
            "34/34 [==============================] - 0s 2ms/step - loss: 3871.5986 - mae: 3871.5986\n",
            "Epoch 40/500\n",
            "34/34 [==============================] - 0s 2ms/step - loss: 3829.1409 - mae: 3829.1409\n",
            "Epoch 41/500\n",
            "34/34 [==============================] - 0s 2ms/step - loss: 3879.4485 - mae: 3879.4485\n",
            "Epoch 42/500\n",
            "34/34 [==============================] - 0s 2ms/step - loss: 3870.4587 - mae: 3870.4587\n",
            "Epoch 43/500\n",
            "34/34 [==============================] - 0s 2ms/step - loss: 3824.2744 - mae: 3824.2744\n",
            "Epoch 44/500\n",
            "34/34 [==============================] - 0s 2ms/step - loss: 3831.7249 - mae: 3831.7249\n",
            "Epoch 45/500\n",
            "34/34 [==============================] - 0s 2ms/step - loss: 3796.1406 - mae: 3796.1406\n",
            "Epoch 46/500\n",
            "34/34 [==============================] - 0s 2ms/step - loss: 3780.6765 - mae: 3780.6765\n",
            "Epoch 47/500\n",
            "34/34 [==============================] - 0s 2ms/step - loss: 3801.0200 - mae: 3801.0200\n",
            "Epoch 48/500\n",
            "34/34 [==============================] - 0s 2ms/step - loss: 3770.0430 - mae: 3770.0430\n",
            "Epoch 49/500\n",
            "34/34 [==============================] - 0s 3ms/step - loss: 3763.6724 - mae: 3763.6724\n",
            "Epoch 50/500\n",
            "34/34 [==============================] - 0s 2ms/step - loss: 3755.5205 - mae: 3755.5205\n",
            "Epoch 51/500\n",
            "34/34 [==============================] - 0s 3ms/step - loss: 3750.1106 - mae: 3750.1106\n",
            "Epoch 52/500\n",
            "34/34 [==============================] - 0s 3ms/step - loss: 3738.1523 - mae: 3738.1523\n",
            "Epoch 53/500\n",
            "34/34 [==============================] - 0s 2ms/step - loss: 3770.1995 - mae: 3770.1995\n",
            "Epoch 54/500\n",
            "34/34 [==============================] - 0s 2ms/step - loss: 3758.5950 - mae: 3758.5950\n",
            "Epoch 55/500\n",
            "34/34 [==============================] - 0s 2ms/step - loss: 3738.1069 - mae: 3738.1069\n",
            "Epoch 56/500\n",
            "34/34 [==============================] - 0s 3ms/step - loss: 3721.2476 - mae: 3721.2476\n",
            "Epoch 57/500\n",
            "34/34 [==============================] - 0s 2ms/step - loss: 3716.3848 - mae: 3716.3848\n",
            "Epoch 58/500\n",
            "34/34 [==============================] - 0s 2ms/step - loss: 3731.5984 - mae: 3731.5984\n",
            "Epoch 59/500\n",
            "34/34 [==============================] - 0s 3ms/step - loss: 3714.3394 - mae: 3714.3394\n",
            "Epoch 60/500\n",
            "34/34 [==============================] - 0s 3ms/step - loss: 3705.6643 - mae: 3705.6643\n",
            "Epoch 61/500\n",
            "34/34 [==============================] - 0s 2ms/step - loss: 3699.3613 - mae: 3699.3613\n",
            "Epoch 62/500\n",
            "34/34 [==============================] - 0s 2ms/step - loss: 3707.7490 - mae: 3707.7490\n",
            "Epoch 63/500\n",
            "34/34 [==============================] - 0s 2ms/step - loss: 3730.0173 - mae: 3730.0173\n",
            "Epoch 64/500\n",
            "34/34 [==============================] - 0s 2ms/step - loss: 3682.7214 - mae: 3682.7214\n",
            "Epoch 65/500\n",
            "34/34 [==============================] - 0s 2ms/step - loss: 3689.2317 - mae: 3689.2317\n",
            "Epoch 66/500\n",
            "34/34 [==============================] - 0s 2ms/step - loss: 3686.7708 - mae: 3686.7708\n",
            "Epoch 67/500\n",
            "34/34 [==============================] - 0s 2ms/step - loss: 3669.8496 - mae: 3669.8496\n",
            "Epoch 68/500\n",
            "34/34 [==============================] - 0s 2ms/step - loss: 3698.0647 - mae: 3698.0647\n",
            "Epoch 69/500\n",
            "34/34 [==============================] - 0s 2ms/step - loss: 3669.1963 - mae: 3669.1963\n",
            "Epoch 70/500\n",
            "34/34 [==============================] - 0s 3ms/step - loss: 3649.5271 - mae: 3649.5271\n",
            "Epoch 71/500\n",
            "34/34 [==============================] - 0s 3ms/step - loss: 3642.0981 - mae: 3642.0981\n",
            "Epoch 72/500\n",
            "34/34 [==============================] - 0s 2ms/step - loss: 3635.4646 - mae: 3635.4646\n",
            "Epoch 73/500\n",
            "34/34 [==============================] - 0s 2ms/step - loss: 3632.4021 - mae: 3632.4021\n",
            "Epoch 74/500\n",
            "34/34 [==============================] - 0s 3ms/step - loss: 3640.5137 - mae: 3640.5137\n",
            "Epoch 75/500\n",
            "34/34 [==============================] - 0s 2ms/step - loss: 3631.0012 - mae: 3631.0012\n",
            "Epoch 76/500\n",
            "34/34 [==============================] - 0s 2ms/step - loss: 3625.7007 - mae: 3625.7007\n",
            "Epoch 77/500\n",
            "34/34 [==============================] - 0s 2ms/step - loss: 3603.8694 - mae: 3603.8694\n",
            "Epoch 78/500\n",
            "34/34 [==============================] - 0s 2ms/step - loss: 3619.8777 - mae: 3619.8777\n",
            "Epoch 79/500\n",
            "34/34 [==============================] - 0s 2ms/step - loss: 3619.9714 - mae: 3619.9714\n",
            "Epoch 80/500\n",
            "34/34 [==============================] - 0s 2ms/step - loss: 3608.5439 - mae: 3608.5439\n",
            "Epoch 81/500\n",
            "34/34 [==============================] - 0s 2ms/step - loss: 3609.0964 - mae: 3609.0964\n",
            "Epoch 82/500\n",
            "34/34 [==============================] - 0s 2ms/step - loss: 3653.1316 - mae: 3653.1316\n"
          ]
        }
      ]
    },
    {
      "cell_type": "code",
      "source": [
        "insurance_model_1.evaluate(X_test,y_test)"
      ],
      "metadata": {
        "colab": {
          "base_uri": "https://localhost:8080/"
        },
        "id": "MysTZceND9CM",
        "outputId": "731a7008-f44f-4fa4-f31c-e8b54813e6cf"
      },
      "execution_count": null,
      "outputs": [
        {
          "output_type": "stream",
          "name": "stdout",
          "text": [
            "9/9 [==============================] - 0s 2ms/step - loss: 3316.0186 - mae: 3316.0186\n"
          ]
        },
        {
          "output_type": "execute_result",
          "data": {
            "text/plain": [
              "[3316.0185546875, 3316.0185546875]"
            ]
          },
          "metadata": {},
          "execution_count": 95
        }
      ]
    },
    {
      "cell_type": "code",
      "source": [
        "insurance_model.evaluate(X_test, y_test)"
      ],
      "metadata": {
        "colab": {
          "base_uri": "https://localhost:8080/"
        },
        "id": "xOcumrDpEjRO",
        "outputId": "80b424a4-72a1-4a38-ae08-c7cccafcd364"
      },
      "execution_count": null,
      "outputs": [
        {
          "output_type": "stream",
          "name": "stdout",
          "text": [
            "9/9 [==============================] - 0s 12ms/step - loss: 7154.1860 - mae: 7154.1860\n"
          ]
        },
        {
          "output_type": "execute_result",
          "data": {
            "text/plain": [
              "[7154.18603515625, 7154.18603515625]"
            ]
          },
          "metadata": {},
          "execution_count": 96
        }
      ]
    },
    {
      "cell_type": "code",
      "source": [
        "# let us plot history(also known as loss curve or training curve)\n",
        "pd.DataFrame(history.history).plot()\n",
        "plt.ylabel(\"loss\")\n",
        "plt.xlabel(\"epochs\")"
      ],
      "metadata": {
        "colab": {
          "base_uri": "https://localhost:8080/",
          "height": 466
        },
        "id": "A3X9u0bZIIst",
        "outputId": "4ebf9b6b-db03-4465-fbaf-0fbe02a45823"
      },
      "execution_count": null,
      "outputs": [
        {
          "output_type": "execute_result",
          "data": {
            "text/plain": [
              "Text(0.5, 0, 'epochs')"
            ]
          },
          "metadata": {},
          "execution_count": 97
        },
        {
          "output_type": "display_data",
          "data": {
            "text/plain": [
              "<Figure size 640x480 with 1 Axes>"
            ],
            "image/png": "[encoded data removed]"
          },
          "metadata": {}
        }
      ]
    },
    {
      "cell_type": "markdown",
      "source": [
        "### Preprocessing data (normalization and standardization)"
      ],
      "metadata": {
        "id": "oO-I9qTMLN7P"
      }
    },
    {
      "cell_type": "code",
      "source": [
        "#importing the libraries\n",
        "import tensorflow as tf\n",
        "import pandas as pd\n",
        "import matplotlib.pyplot as plt\n",
        "\n",
        "#reading the insurance dataframe\n",
        "insurance= pd.read_csv(\"https://raw.githubusercontent.com/stedy/Machine-Learning-with-R-datasets/master/insurance.csv\")\n",
        "insurance"
      ],
      "metadata": {
        "colab": {
          "base_uri": "https://localhost:8080/",
          "height": 423
        },
        "id": "Q0BV48vVIs-A",
        "outputId": "1e55cce5-35b7-41bb-f753-f87c0adba3a2"
      },
      "execution_count": null,
      "outputs": [
        {
          "output_type": "execute_result",
          "data": {
            "text/plain": [
              "      age     sex     bmi  children smoker     region      charges\n",
              "0      19  female  27.900         0    yes  southwest  16884.92400\n",
              "1      18    male  33.770         1     no  southeast   1725.55230\n",
              "2      28    male  33.000         3     no  southeast   4449.46200\n",
              "3      33    male  22.705         0     no  northwest  21984.47061\n",
              "4      32    male  28.880         0     no  northwest   3866.85520\n",
              "...   ...     ...     ...       ...    ...        ...          ...\n",
              "1333   50    male  30.970         3     no  northwest  10600.54830\n",
              "1334   18  female  31.920         0     no  northeast   2205.98080\n",
              "1335   18  female  36.850         0     no  southeast   1629.83350\n",
              "1336   21  female  25.800         0     no  southwest   2007.94500\n",
              "1337   61  female  29.070         0    yes  northwest  29141.36030\n",
              "\n",
              "[1338 rows x 7 columns]"
            ],
            "text/html": [
              "\n",
              "  <div id=\"df-e5d68511-f10e-4da8-b89e-2ebf8845cae3\" class=\"colab-df-container\">\n",
              "    <div>\n",
              "<style scoped>\n",
              "    .dataframe tbody tr th:only-of-type {\n",
              "        vertical-align: middle;\n",
              "    }\n",
              "\n",
              "    .dataframe tbody tr th {\n",
              "        vertical-align: top;\n",
              "    }\n",
              "\n",
              "    .dataframe thead th {\n",
              "        text-align: right;\n",
              "    }\n",
              "</style>\n",
              "<table border=\"1\" class=\"dataframe\">\n",
              "  <thead>\n",
              "    <tr style=\"text-align: right;\">\n",
              "      <th></th>\n",
              "      <th>age</th>\n",
              "      <th>sex</th>\n",
              "      <th>bmi</th>\n",
              "      <th>children</th>\n",
              "      <th>smoker</th>\n",
              "      <th>region</th>\n",
              "      <th>charges</th>\n",
              "    </tr>\n",
              "  </thead>\n",
              "  <tbody>\n",
              "    <tr>\n",
              "      <th>0</th>\n",
              "      <td>19</td>\n",
              "      <td>female</td>\n",
              "      <td>27.900</td>\n",
              "      <td>0</td>\n",
              "      <td>yes</td>\n",
              "      <td>southwest</td>\n",
              "      <td>16884.92400</td>\n",
              "    </tr>\n",
              "    <tr>\n",
              "      <th>1</th>\n",
              "      <td>18</td>\n",
              "      <td>male</td>\n",
              "      <td>33.770</td>\n",
              "      <td>1</td>\n",
              "      <td>no</td>\n",
              "      <td>southeast</td>\n",
              "      <td>1725.55230</td>\n",
              "    </tr>\n",
              "    <tr>\n",
              "      <th>2</th>\n",
              "      <td>28</td>\n",
              "      <td>male</td>\n",
              "      <td>33.000</td>\n",
              "      <td>3</td>\n",
              "      <td>no</td>\n",
              "      <td>southeast</td>\n",
              "      <td>4449.46200</td>\n",
              "    </tr>\n",
              "    <tr>\n",
              "      <th>3</th>\n",
              "      <td>33</td>\n",
              "      <td>male</td>\n",
              "      <td>22.705</td>\n",
              "      <td>0</td>\n",
              "      <td>no</td>\n",
              "      <td>northwest</td>\n",
              "      <td>21984.47061</td>\n",
              "    </tr>\n",
              "    <tr>\n",
              "      <th>4</th>\n",
              "      <td>32</td>\n",
              "      <td>male</td>\n",
              "      <td>28.880</td>\n",
              "      <td>0</td>\n",
              "      <td>no</td>\n",
              "      <td>northwest</td>\n",
              "      <td>3866.85520</td>\n",
              "    </tr>\n",
              "    <tr>\n",
              "      <th>...</th>\n",
              "      <td>...</td>\n",
              "      <td>...</td>\n",
              "      <td>...</td>\n",
              "      <td>...</td>\n",
              "      <td>...</td>\n",
              "      <td>...</td>\n",
              "      <td>...</td>\n",
              "    </tr>\n",
              "    <tr>\n",
              "      <th>1333</th>\n",
              "      <td>50</td>\n",
              "      <td>male</td>\n",
              "      <td>30.970</td>\n",
              "      <td>3</td>\n",
              "      <td>no</td>\n",
              "      <td>northwest</td>\n",
              "      <td>10600.54830</td>\n",
              "    </tr>\n",
              "    <tr>\n",
              "      <th>1334</th>\n",
              "      <td>18</td>\n",
              "      <td>female</td>\n",
              "      <td>31.920</td>\n",
              "      <td>0</td>\n",
              "      <td>no</td>\n",
              "      <td>northeast</td>\n",
              "      <td>2205.98080</td>\n",
              "    </tr>\n",
              "    <tr>\n",
              "      <th>1335</th>\n",
              "      <td>18</td>\n",
              "      <td>female</td>\n",
              "      <td>36.850</td>\n",
              "      <td>0</td>\n",
              "      <td>no</td>\n",
              "      <td>southeast</td>\n",
              "      <td>1629.83350</td>\n",
              "    </tr>\n",
              "    <tr>\n",
              "      <th>1336</th>\n",
              "      <td>21</td>\n",
              "      <td>female</td>\n",
              "      <td>25.800</td>\n",
              "      <td>0</td>\n",
              "      <td>no</td>\n",
              "      <td>southwest</td>\n",
              "      <td>2007.94500</td>\n",
              "    </tr>\n",
              "    <tr>\n",
              "      <th>1337</th>\n",
              "      <td>61</td>\n",
              "      <td>female</td>\n",
              "      <td>29.070</td>\n",
              "      <td>0</td>\n",
              "      <td>yes</td>\n",
              "      <td>northwest</td>\n",
              "      <td>29141.36030</td>\n",
              "    </tr>\n",
              "  </tbody>\n",
              "</table>\n",
              "<p>1338 rows × 7 columns</p>\n",
              "</div>\n",
              "    <div class=\"colab-df-buttons\">\n",
              "\n",
              "  <div class=\"colab-df-container\">\n",
              "    <button class=\"colab-df-convert\" onclick=\"convertToInteractive('df-e5d68511-f10e-4da8-b89e-2ebf8845cae3')\"\n",
              "            title=\"Convert this dataframe to an interactive table.\"\n",
              "            style=\"display:none;\">\n",
              "\n",
              "  <svg xmlns=\"http://www.w3.org/2000/svg\" height=\"24px\" viewBox=\"0 -960 960 960\">\n",
              "    <path d=\"M120-120v-720h720v720H120Zm60-500h600v-160H180v160Zm220 220h160v-160H400v160Zm0 220h160v-160H400v160ZM180-400h160v-160H180v160Zm440 0h160v-160H620v160ZM180-180h160v-160H180v160Zm440 0h160v-160H620v160Z\"/>\n",
              "  </svg>\n",
              "    </button>\n",
              "\n",
              "  <style>\n",
              "    .colab-df-container {\n",
              "      display:flex;\n",
              "      gap: 12px;\n",
              "    }\n",
              "\n",
              "    .colab-df-convert {\n",
              "      background-color: #E8F0FE;\n",
              "      border: none;\n",
              "      border-radius: 50%;\n",
              "      cursor: pointer;\n",
              "      display: none;\n",
              "      fill: #1967D2;\n",
              "      height: 32px;\n",
              "      padding: 0 0 0 0;\n",
              "      width: 32px;\n",
              "    }\n",
              "\n",
              "    .colab-df-convert:hover {\n",
              "      background-color: #E2EBFA;\n",
              "      box-shadow: 0px 1px 2px rgba(60, 64, 67, 0.3), 0px 1px 3px 1px rgba(60, 64, 67, 0.15);\n",
              "      fill: #174EA6;\n",
              "    }\n",
              "\n",
              "    .colab-df-buttons div {\n",
              "      margin-bottom: 4px;\n",
              "    }\n",
              "\n",
              "    [theme=dark] .colab-df-convert {\n",
              "      background-color: #3B4455;\n",
              "      fill: #D2E3FC;\n",
              "    }\n",
              "\n",
              "    [theme=dark] .colab-df-convert:hover {\n",
              "      background-color: #434B5C;\n",
              "      box-shadow: 0px 1px 3px 1px rgba(0, 0, 0, 0.15);\n",
              "      filter: drop-shadow(0px 1px 2px rgba(0, 0, 0, 0.3));\n",
              "      fill: #FFFFFF;\n",
              "    }\n",
              "  </style>\n",
              "\n",
              "    <script>\n",
              "      const buttonEl =\n",
              "        document.querySelector('#df-e5d68511-f10e-4da8-b89e-2ebf8845cae3 button.colab-df-convert');\n",
              "      buttonEl.style.display =\n",
              "        google.colab.kernel.accessAllowed ? 'block' : 'none';\n",
              "\n",
              "      async function convertToInteractive(key) {\n",
              "        const element = document.querySelector('#df-e5d68511-f10e-4da8-b89e-2ebf8845cae3');\n",
              "        const dataTable =\n",
              "          await google.colab.kernel.invokeFunction('convertToInteractive',\n",
              "                                                    [key], {});\n",
              "        if (!dataTable) return;\n",
              "\n",
              "        const docLinkHtml = 'Like what you see? Visit the ' +\n",
              "          '<a target=\"_blank\" href=https://colab.research.google.com/notebooks/data_table.ipynb>data table notebook</a>'\n",
              "          + ' to learn more about interactive tables.';\n",
              "        element.innerHTML = '';\n",
              "        dataTable['output_type'] = 'display_data';\n",
              "        await google.colab.output.renderOutput(dataTable, element);\n",
              "        const docLink = document.createElement('div');\n",
              "        docLink.innerHTML = docLinkHtml;\n",
              "        element.appendChild(docLink);\n",
              "      }\n",
              "    </script>\n",
              "  </div>\n",
              "\n",
              "\n",
              "<div id=\"df-b0346396-a144-4b96-bea9-edfed62136d4\">\n",
              "  <button class=\"colab-df-quickchart\" onclick=\"quickchart('df-b0346396-a144-4b96-bea9-edfed62136d4')\"\n",
              "            title=\"Suggest charts\"\n",
              "            style=\"display:none;\">\n",
              "\n",
              "<svg xmlns=\"http://www.w3.org/2000/svg\" height=\"24px\"viewBox=\"0 0 24 24\"\n",
              "     width=\"24px\">\n",
              "    <g>\n",
              "        <path d=\"M19 3H5c-1.1 0-2 .9-2 2v14c0 1.1.9 2 2 2h14c1.1 0 2-.9 2-2V5c0-1.1-.9-2-2-2zM9 17H7v-7h2v7zm4 0h-2V7h2v10zm4 0h-2v-4h2v4z\"/>\n",
              "    </g>\n",
              "</svg>\n",
              "  </button>\n",
              "\n",
              "<style>\n",
              "  .colab-df-quickchart {\n",
              "      --bg-color: #E8F0FE;\n",
              "      --fill-color: #1967D2;\n",
              "      --hover-bg-color: #E2EBFA;\n",
              "      --hover-fill-color: #174EA6;\n",
              "      --disabled-fill-color: #AAA;\n",
              "      --disabled-bg-color: #DDD;\n",
              "  }\n",
              "\n",
              "  [theme=dark] .colab-df-quickchart {\n",
              "      --bg-color: #3B4455;\n",
              "      --fill-color: #D2E3FC;\n",
              "      --hover-bg-color: #434B5C;\n",
              "      --hover-fill-color: #FFFFFF;\n",
              "      --disabled-bg-color: #3B4455;\n",
              "      --disabled-fill-color: #666;\n",
              "  }\n",
              "\n",
              "  .colab-df-quickchart {\n",
              "    background-color: var(--bg-color);\n",
              "    border: none;\n",
              "    border-radius: 50%;\n",
              "    cursor: pointer;\n",
              "    display: none;\n",
              "    fill: var(--fill-color);\n",
              "    height: 32px;\n",
              "    padding: 0;\n",
              "    width: 32px;\n",
              "  }\n",
              "\n",
              "  .colab-df-quickchart:hover {\n",
              "    background-color: var(--hover-bg-color);\n",
              "    box-shadow: 0 1px 2px rgba(60, 64, 67, 0.3), 0 1px 3px 1px rgba(60, 64, 67, 0.15);\n",
              "    fill: var(--button-hover-fill-color);\n",
              "  }\n",
              "\n",
              "  .colab-df-quickchart-complete:disabled,\n",
              "  .colab-df-quickchart-complete:disabled:hover {\n",
              "    background-color: var(--disabled-bg-color);\n",
              "    fill: var(--disabled-fill-color);\n",
              "    box-shadow: none;\n",
              "  }\n",
              "\n",
              "  .colab-df-spinner {\n",
              "    border: 2px solid var(--fill-color);\n",
              "    border-color: transparent;\n",
              "    border-bottom-color: var(--fill-color);\n",
              "    animation:\n",
              "      spin 1s steps(1) infinite;\n",
              "  }\n",
              "\n",
              "  @keyframes spin {\n",
              "    0% {\n",
              "      border-color: transparent;\n",
              "      border-bottom-color: var(--fill-color);\n",
              "      border-left-color: var(--fill-color);\n",
              "    }\n",
              "    20% {\n",
              "      border-color: transparent;\n",
              "      border-left-color: var(--fill-color);\n",
              "      border-top-color: var(--fill-color);\n",
              "    }\n",
              "    30% {\n",
              "      border-color: transparent;\n",
              "      border-left-color: var(--fill-color);\n",
              "      border-top-color: var(--fill-color);\n",
              "      border-right-color: var(--fill-color);\n",
              "    }\n",
              "    40% {\n",
              "      border-color: transparent;\n",
              "      border-right-color: var(--fill-color);\n",
              "      border-top-color: var(--fill-color);\n",
              "    }\n",
              "    60% {\n",
              "      border-color: transparent;\n",
              "      border-right-color: var(--fill-color);\n",
              "    }\n",
              "    80% {\n",
              "      border-color: transparent;\n",
              "      border-right-color: var(--fill-color);\n",
              "      border-bottom-color: var(--fill-color);\n",
              "    }\n",
              "    90% {\n",
              "      border-color: transparent;\n",
              "      border-bottom-color: var(--fill-color);\n",
              "    }\n",
              "  }\n",
              "</style>\n",
              "\n",
              "  <script>\n",
              "    async function quickchart(key) {\n",
              "      const quickchartButtonEl =\n",
              "        document.querySelector('#' + key + ' button');\n",
              "      quickchartButtonEl.disabled = true;  // To prevent multiple clicks.\n",
              "      quickchartButtonEl.classList.add('colab-df-spinner');\n",
              "      try {\n",
              "        const charts = await google.colab.kernel.invokeFunction(\n",
              "            'suggestCharts', [key], {});\n",
              "      } catch (error) {\n",
              "        console.error('Error during call to suggestCharts:', error);\n",
              "      }\n",
              "      quickchartButtonEl.classList.remove('colab-df-spinner');\n",
              "      quickchartButtonEl.classList.add('colab-df-quickchart-complete');\n",
              "    }\n",
              "    (() => {\n",
              "      let quickchartButtonEl =\n",
              "        document.querySelector('#df-b0346396-a144-4b96-bea9-edfed62136d4 button');\n",
              "      quickchartButtonEl.style.display =\n",
              "        google.colab.kernel.accessAllowed ? 'block' : 'none';\n",
              "    })();\n",
              "  </script>\n",
              "</div>\n",
              "    </div>\n",
              "  </div>\n"
            ],
            "application/vnd.google.colaboratory.intrinsic+json": {
              "type": "dataframe",
              "variable_name": "insurance",
              "summary": "{\n  \"name\": \"insurance\",\n  \"rows\": 1338,\n  \"fields\": [\n    {\n      \"column\": \"age\",\n      \"properties\": {\n        \"dtype\": \"number\",\n        \"std\": 14,\n        \"min\": 18,\n        \"max\": 64,\n        \"num_unique_values\": 47,\n        \"samples\": [\n          21,\n          45,\n          36\n        ],\n        \"semantic_type\": \"\",\n        \"description\": \"\"\n      }\n    },\n    {\n      \"column\": \"sex\",\n      \"properties\": {\n        \"dtype\": \"category\",\n        \"num_unique_values\": 2,\n        \"samples\": [\n          \"male\",\n          \"female\"\n        ],\n        \"semantic_type\": \"\",\n        \"description\": \"\"\n      }\n    },\n    {\n      \"column\": \"bmi\",\n      \"properties\": {\n        \"dtype\": \"number\",\n        \"std\": 6.098186911679014,\n        \"min\": 15.96,\n        \"max\": 53.13,\n        \"num_unique_values\": 548,\n        \"samples\": [\n          23.18,\n          26.885\n        ],\n        \"semantic_type\": \"\",\n        \"description\": \"\"\n      }\n    },\n    {\n      \"column\": \"children\",\n      \"properties\": {\n        \"dtype\": \"number\",\n        \"std\": 1,\n        \"min\": 0,\n        \"max\": 5,\n        \"num_unique_values\": 6,\n        \"samples\": [\n          0,\n          1\n        ],\n        \"semantic_type\": \"\",\n        \"description\": \"\"\n      }\n    },\n    {\n      \"column\": \"smoker\",\n      \"properties\": {\n        \"dtype\": \"category\",\n        \"num_unique_values\": 2,\n        \"samples\": [\n          \"no\",\n          \"yes\"\n        ],\n        \"semantic_type\": \"\",\n        \"description\": \"\"\n      }\n    },\n    {\n      \"column\": \"region\",\n      \"properties\": {\n        \"dtype\": \"category\",\n        \"num_unique_values\": 4,\n        \"samples\": [\n          \"southeast\",\n          \"northeast\"\n        ],\n        \"semantic_type\": \"\",\n        \"description\": \"\"\n      }\n    },\n    {\n      \"column\": \"charges\",\n      \"properties\": {\n        \"dtype\": \"number\",\n        \"std\": 12110.011236694001,\n        \"min\": 1121.8739,\n        \"max\": 63770.42801,\n        \"num_unique_values\": 1337,\n        \"samples\": [\n          8688.85885,\n          5708.867\n        ],\n        \"semantic_type\": \"\",\n        \"description\": \"\"\n      }\n    }\n  ]\n}"
            }
          },
          "metadata": {},
          "execution_count": 99
        }
      ]
    },
    {
      "cell_type": "markdown",
      "source": [
        "to prepare our data , we use a few classes from Sci-kit Learn"
      ],
      "metadata": {
        "id": "Lp7_K0eGOqlt"
      }
    },
    {
      "cell_type": "code",
      "source": [
        "from sklearn.compose import make_column_transformer\n",
        "from sklearn.preprocessing import MinMaxScaler, OneHotEncoder\n",
        "from sklearn.model_selection import train_test_split\n",
        "#create a column transofrmer\n",
        "ct= make_column_transformer(\n",
        "    (MinMaxScaler(), [\"age\", \"bmi\", \"children\"]), # converts all values in  the columns b/w 0 and 1\n",
        "    (OneHotEncoder(handle_unknown=\"ignore\"),[\"sex\", \"smoker\", \"region\"])\n",
        ")\n",
        "#create X and y\n",
        "X= insurance.drop(\"charges\", axis=1)\n",
        "y= insurance[\"charges\"]\n",
        "\n",
        "#build our train and test sets\n",
        "X_train, X_test, y_train, y_test = train_test_split(X, y, test_size=0.2, random_state=42)\n",
        "\n",
        "# fit the column transformer to our training data\n",
        "ct.fit(X_train)\n",
        "\n",
        "# Tranform training and test data with Normalization (MinMaxScaler) and OneHotEncoder\n",
        "X_train_normal = ct.transform(X_train)\n",
        "X_test_normal= ct.transform(X_test)\n"
      ],
      "metadata": {
        "id": "8N32ioJsOL-9"
      },
      "execution_count": null,
      "outputs": []
    },
    {
      "cell_type": "code",
      "source": [
        "# What does our data look like now\n",
        "X_train.loc[0]"
      ],
      "metadata": {
        "colab": {
          "base_uri": "https://localhost:8080/"
        },
        "id": "ap4f7Yx0SRMM",
        "outputId": "6fa4fe44-f79d-46ed-9a0d-505524be73e0"
      },
      "execution_count": null,
      "outputs": [
        {
          "output_type": "execute_result",
          "data": {
            "text/plain": [
              "age                19\n",
              "sex            female\n",
              "bmi              27.9\n",
              "children            0\n",
              "smoker            yes\n",
              "region      southwest\n",
              "Name: 0, dtype: object"
            ]
          },
          "metadata": {},
          "execution_count": 104
        }
      ]
    },
    {
      "cell_type": "code",
      "source": [
        "X_train_normal"
      ],
      "metadata": {
        "colab": {
          "base_uri": "https://localhost:8080/"
        },
        "id": "J-LmJQb7Sbbl",
        "outputId": "c2a720f8-ee2f-405e-a087-0a0aa369532e"
      },
      "execution_count": null,
      "outputs": [
        {
          "output_type": "execute_result",
          "data": {
            "text/plain": [
              "array([[0.60869565, 0.10734463, 0.4       , ..., 1.        , 0.        ,\n",
              "        0.        ],\n",
              "       [0.63043478, 0.22491256, 0.        , ..., 0.        , 0.        ,\n",
              "        0.        ],\n",
              "       [0.73913043, 0.23944041, 0.        , ..., 0.        , 1.        ,\n",
              "        0.        ],\n",
              "       ...,\n",
              "       [0.86956522, 0.24791499, 0.        , ..., 0.        , 0.        ,\n",
              "        0.        ],\n",
              "       [0.41304348, 0.85122411, 0.4       , ..., 0.        , 0.        ,\n",
              "        1.        ],\n",
              "       [0.80434783, 0.37503363, 0.        , ..., 0.        , 0.        ,\n",
              "        1.        ]])"
            ]
          },
          "metadata": {},
          "execution_count": 107
        }
      ]
    },
    {
      "cell_type": "code",
      "source": [
        "#shapes of our data\n",
        "X_train.shape, X_train_normal.shape"
      ],
      "metadata": {
        "colab": {
          "base_uri": "https://localhost:8080/"
        },
        "id": "cYCCePr3Sdcw",
        "outputId": "c15198c5-f2c2-420d-d297-e12a809a1827"
      },
      "execution_count": null,
      "outputs": [
        {
          "output_type": "execute_result",
          "data": {
            "text/plain": [
              "((1070, 6), (1070, 11))"
            ]
          },
          "metadata": {},
          "execution_count": 108
        }
      ]
    },
    {
      "cell_type": "markdown",
      "source": [
        "Beautiful! our data has been normalized and one hot encoded. Now let's build a nerual network model on our normalized data"
      ],
      "metadata": {
        "id": "00JHR-KHS5H5"
      }
    },
    {
      "cell_type": "code",
      "source": [
        "# build our model\n",
        "tf.random.set_seed(42)\n",
        "#create a model\n",
        "insurance_model_2= tf.keras.Sequential([\n",
        "    tf.keras.layers.Dense(100),\n",
        "    tf.keras.layers.Dense(150),\n",
        "    tf.keras.layers.Dense(150),\n",
        "    tf.keras.layers.Dense(100),\n",
        "    tf.keras.layers.Dense(1)\n",
        "])\n",
        "#compile the model\n",
        "insurance_model_2.compile(loss=tf.keras.losses.mae,\n",
        "                        optimizer=tf.keras.optimizers.Adam(learning_rate=0.001),\n",
        "                        metrics=[\"mae\"])\n",
        "#fit the model\n",
        "insurance_model_2.fit(X_train_normal, y_train, epochs=500, verbose=0)\n"
      ],
      "metadata": {
        "colab": {
          "base_uri": "https://localhost:8080/"
        },
        "id": "qjWxRdGISzy9",
        "outputId": "eb08e626-fc4d-473f-d0de-267e01fd0277"
      },
      "execution_count": null,
      "outputs": [
        {
          "output_type": "execute_result",
          "data": {
            "text/plain": [
              "<keras.src.callbacks.History at 0x784ddcf5d9c0>"
            ]
          },
          "metadata": {},
          "execution_count": 120
        }
      ]
    },
    {
      "cell_type": "code",
      "source": [
        "# evaluate the model\n",
        "insurance_model_2.evaluate(X_test_normal, y_test)"
      ],
      "metadata": {
        "colab": {
          "base_uri": "https://localhost:8080/"
        },
        "id": "P_3nFRLuV9GE",
        "outputId": "ded693f8-062e-4fc3-ba3e-7f4515a360c8"
      },
      "execution_count": null,
      "outputs": [
        {
          "output_type": "stream",
          "name": "stdout",
          "text": [
            "9/9 [==============================] - 0s 2ms/step - loss: 3171.1731 - mae: 3171.1731\n"
          ]
        },
        {
          "output_type": "execute_result",
          "data": {
            "text/plain": [
              "[3171.173095703125, 3171.173095703125]"
            ]
          },
          "metadata": {},
          "execution_count": 121
        }
      ]
    },
    {
      "cell_type": "code",
      "source": [],
      "metadata": {
        "id": "ZGs-KLXMW8Li"
      },
      "execution_count": null,
      "outputs": []
    }
  ]
}